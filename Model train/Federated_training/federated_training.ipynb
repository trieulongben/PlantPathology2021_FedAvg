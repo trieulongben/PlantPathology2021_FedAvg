{
 "cells": [
  {
   "cell_type": "code",
   "execution_count": 1,
   "metadata": {},
   "outputs": [],
   "source": [
    "from copy import deepcopy\n",
    "from dataclasses import dataclass\n",
    "import multiprocessing as mp\n",
    "from re import T\n",
    "import torchvision.models as models\n",
    "import torch\n",
    "import copy\n",
    "import torch.nn.functional as F\n",
    "#from model import net\n",
    "import random\n",
    "import multiprocessing as mp\n",
    "import os\n",
    "import os\n",
    "import torch\n",
    "import torch.distributed as dist\n",
    "import torch.multiprocessing as mp\n",
    "from torchvision import datasets,transforms\n",
    "import random\n",
    "from torch import optim,ceil\n",
    "import torch.nn.functional as F\n",
    "from torch import nn\n",
    "import pickle\n",
    "import numpy as np\n",
    "import os\n",
    "import pandas as pd\n",
    "from torchvision.io import read_image\n",
    "from torch.utils.data import Dataset,DataLoader\n",
    "from torchvision import transforms\n",
    "from sklearn.model_selection import train_test_split\n",
    "import numpy as np\n",
    "from sklearn.metrics import accuracy_score, f1_score, precision_score, recall_score, classification_report, confusion_matrix\n",
    "from pandas import DataFrame"
   ]
  },
  {
   "cell_type": "code",
   "execution_count": 2,
   "metadata": {},
   "outputs": [],
   "source": [
    "from sklearn.metrics import accuracy_score"
   ]
  },
  {
   "cell_type": "code",
   "execution_count": 3,
   "metadata": {},
   "outputs": [],
   "source": [
    "\n",
    "from torch.utils.data import Dataset,DataLoader\n",
    "import numpy as np\n",
    "\n",
    "class plantdisease(Dataset):\n",
    "    def __init__(self, df,\n",
    "                  img_dir='data/oneFolder'\n",
    "                 , isTest=False):\n",
    "        self.img_labels=df\n",
    "        self.img_dir='../../Data/DataResized512/'\n",
    "       # self.train, self.test = train_test_split(self.img_labels, test_size=0.05)\n",
    "\n",
    "    def __len__(self):\n",
    "        return len(self.img_labels)\n",
    "\n",
    "    def __getitem__(self, idx):\n",
    "            img_path = os.path.join(self.img_dir, self.img_labels['image'][idx])\n",
    "\n",
    "            image = (read_image(img_path).float())\n",
    "            self.transform=transforms.Compose([transforms.Resize((342,512)),\n",
    "        transforms.Normalize((124.4455, 159.9584, 104.1832), (47.1528, 41.4626, 49.2424))])\n",
    "            image = self.transform(image)\n",
    "            label = self.img_labels['labels'][idx]\n",
    "            label=np.fromstring(label[1:-1], dtype=np.int,sep=',')\n",
    "            return image, label"
   ]
  },
  {
   "cell_type": "code",
   "execution_count": 4,
   "metadata": {},
   "outputs": [],
   "source": [
    "df=pd.read_csv('../../Data/datafull.csv')\n",
    "df: DataFrame=df.drop('Unnamed: 0',axis=1)\n",
    "train,valid_test=train_test_split(df,test_size=0.2)\n",
    "valid,test=train_test_split(valid_test,test_size=0.5)\n",
    "\n",
    "train_data=plantdisease(df=train.reset_index())\n",
    "test_data=plantdisease(df=test.reset_index())\n",
    "valid_data=plantdisease(df=valid.reset_index())\n",
    "\n",
    "model=models.mobilenet_v2(pretrained=True)\n",
    "model.classifier[1]=(torch.nn.Linear(in_features=1280, out_features=6, bias=True))"
   ]
  },
  {
   "cell_type": "code",
   "execution_count": null,
   "metadata": {},
   "outputs": [],
   "source": []
  },
  {
   "cell_type": "code",
   "execution_count": 5,
   "metadata": {},
   "outputs": [],
   "source": [
    "\n",
    "from torch.utils.data import Dataset,DataLoader\n",
    "import numpy as np\n",
    "\n",
    "class plantdisease(Dataset):\n",
    "    def __init__(self, df,\n",
    "                  img_dir='data/oneFolder'\n",
    "                 , isTest=False):\n",
    "        self.img_labels=df\n",
    "        self.img_dir='../../Data/DataResized512/'\n",
    "       # self.train, self.test = train_test_split(self.img_labels, test_size=0.05)\n",
    "\n",
    "    def __len__(self):\n",
    "        return len(self.img_labels)\n",
    "\n",
    "    def __getitem__(self, idx):\n",
    "            img_path = os.path.join(self.img_dir, self.img_labels['image'][idx])\n",
    "\n",
    "            image = (read_image(img_path).float())\n",
    "            self.transform=transforms.Compose([transforms.Resize((342,512)),\n",
    "        transforms.Normalize((124.4455, 159.9584, 104.1832), (47.1528, 41.4626, 49.2424))])\n",
    "            image = self.transform(image)\n",
    "            label = self.img_labels['labels'][idx]\n",
    "            label=np.fromstring(label[1:-1], dtype=np.int,sep=',')\n",
    "            return image, label"
   ]
  },
  {
   "cell_type": "code",
   "execution_count": 6,
   "metadata": {},
   "outputs": [],
   "source": [
    "#Helper\n",
    "def cfs_matrix_calculate(y,pred):\n",
    "  pred=torch.sigmoid(pred)\n",
    "  pred=torch.round(pred)\n",
    "  \n",
    "  \n",
    "  matrix=0\n",
    "  for i in range(0,y.shape[0]):\n",
    "    matrix+=confusion_matrix(y[i], pred[i],labels=[1, 0])\n",
    "  return matrix"
   ]
  },
  {
   "cell_type": "code",
   "execution_count": 7,
   "metadata": {},
   "outputs": [],
   "source": [
    "from tqdm import tqdm\n",
    "class Client():\n",
    "    def __init__(self,id,dataset,model,config) -> object:\n",
    "        self.id=id\n",
    "        self.dataset=dataset\n",
    "        self.model=model\n",
    "        self.criterion=torch.nn.BCEWithLogitsLoss()\n",
    "        \n",
    "        self.config=config\n",
    "    def __len__(self) -> int:\n",
    "        return len(self.dataset)\n",
    "    def __str__(self) -> str:\n",
    "        print('Client ID: {}', self.id)\n",
    "        \n",
    "    def get_config(self):\n",
    "        print(self.config)\n",
    "        return self.config\n",
    "    \n",
    "    def update_model_params(self,params):\n",
    "        self.model.load_state_dict(params)\n",
    "\n",
    "    def metric(self,y,pred):\n",
    "        pred=torch.sigmoid(pred)\n",
    "        pred=torch.round(pred)\n",
    "        return accuracy_score(y.float(), pred.detach())\n",
    "\n",
    "    def wandb_log(self,log={}):\n",
    "        try:\n",
    "            wandb.log(log)\n",
    "        except:\n",
    "            print('Wandb logging error {}', self.id)        \n",
    "    \n",
    "    def train_gpu(self,round):\n",
    "        optimizer=optim.Adam(self.model.parameters(),lr=self.config['learning_rate'],weight_decay=self.config['weight_decay'])\n",
    "        dataloader=torch.utils.data.DataLoader(self.dataset,\n",
    "                                         batch_size=int(self.config['batch_size']),\n",
    "                                         shuffle=True)\n",
    "\n",
    "        train_device = torch.device(\"cuda:0\" if torch.cuda.is_available() else \"cpu\")\n",
    "\n",
    "        self.model.to(train_device)\n",
    "\n",
    "        print('Client {} start Training'.format(self.id))\n",
    "\n",
    "        # run=wandb.init(group=\"federated_round: \"+str(round), job_type=\"Client ID: \"+str(self.id), project=PROJNAME)\n",
    "        \n",
    "        for epoc in (range(self.config['epoch'])):\n",
    "            epoch_loss=0.0\n",
    "            step=0\n",
    "            epoch_accuracy=[]\n",
    "            for x,y in iter(dataloader):\n",
    "                x,y=x.to(train_device),y.to(train_device)\n",
    "                pred=self.model(x)\n",
    "\n",
    "                loss=self.criterion(pred,y.float())\n",
    "\n",
    "                x,y=x.cpu(),y.cpu()\n",
    "                pred=pred.cpu().detach()\n",
    "                epoch_loss+=loss.item()\n",
    "                step+=1\n",
    "                epoch_accuracy.append(self.metric(y,pred))\n",
    "                \n",
    "\n",
    "                optimizer.zero_grad(set_to_none=True)\n",
    "                loss.backward()\n",
    "                optimizer.step()\n",
    "            accuracy=np.mean(epoch_accuracy)\n",
    "            # print('Epoch : {} , loss: {}, accuracy: {}'.format(epoc,(epoch_loss/step),accuracy))\n",
    "\n",
    "            # self.wandb_log({\n",
    "            #                 'epoc':epoc,\n",
    "            #                 'loss':(epoch_loss/step),\n",
    "            #                 'accuracy':accuracy\n",
    "            #                 })\n",
    "        self.model=self.model.cpu()\n",
    "        \n",
    "        # run.finish()\n",
    "        "
   ]
  },
  {
   "cell_type": "code",
   "execution_count": 8,
   "metadata": {},
   "outputs": [],
   "source": [
    "\n",
    "class Server():\n",
    "    def __init__(self,model=models.mobilenet_v2(pretrained=True),dataset=None,eval_dataset=None,config={}):\n",
    "        self.client_list=[]\n",
    "        self.model= model\n",
    "        self.model.classifier[1]=(torch.nn.Linear(in_features=1280, out_features=6, bias=True))\n",
    "        \n",
    "        self.dataset=dataset\n",
    "        self.eval_dataset=eval_dataset\n",
    "        self.round_dices=[]\n",
    "\n",
    "        self.best_accuracy=0.0\n",
    "        \n",
    "        self.config=config\n",
    "    def __len__(self) -> int:\n",
    "        return len(self.client_list)\n",
    "\n",
    "    def get_config(self):\n",
    "        print(self.config)\n",
    "        return self.config\n",
    "\n",
    "    def split_dataset_1label(self):\n",
    "        list_dataset=np.array_split(self.dataset,self.config['server']['num_client'])\n",
    "        list_dataset=map(lambda df:  plantdisease(df.reset_index(drop=True)),list_dataset)\n",
    "        return list_dataset\n",
    "    \n",
    "    def generate_clients(self):\n",
    "        dataset=self.split_dataset_1label()\n",
    "        id=0\n",
    "        for shard in dataset:\n",
    "            self.client_list.append(Client(id=id,model=copy.deepcopy(self.model),dataset=shard,config=self.config['client']))\n",
    "            id+=1\n",
    "\n",
    "    def collect_clients_params(self):\n",
    "        client_params=[]\n",
    "        for index in range(0,len(self.round_dices)):\n",
    "            client_params.append(self.client_list[index].model.state_dict())\n",
    "        return client_params\n",
    "\n",
    "    def update_client_model(self,params):\n",
    "        for client in self.client_list:\n",
    "            client.model.load_state_dict(copy.deepcopy(params))\n",
    "        self.model.load_state_dict(copy.deepcopy(params))\n",
    "        print('Clients updated ! Ready for next round')    \n",
    "\n",
    "    def fedAvg(self):\n",
    "        total_len=0\n",
    "        for index in self.round_dices:\n",
    "            total_len+=len(self.client_list[index])\n",
    "\n",
    "        global_model_weights = copy.deepcopy(self.model.state_dict())\n",
    "        for key in global_model_weights:\n",
    "            global_model_weights[key] = torch.zeros_like(\n",
    "                global_model_weights[key])\n",
    "        \n",
    "        #server_params=copy.deepcopy(self.centralModel.parameters())\n",
    "\n",
    "        coef=torch.tensor([len(self.client_list[index])/total_len for index in self.round_dices])\n",
    "        for index in range(0,len(self.round_dices)):\n",
    "            local_model_weights = copy.deepcopy(self.client_list[index].model.state_dict())\n",
    "            for key in global_model_weights:\n",
    "                if str(global_model_weights[key].type())!='torch.LongTensor':\n",
    "\n",
    "                    global_model_weights[key] += (coef[index] * local_model_weights[key])\n",
    "        return global_model_weights\n",
    "\n",
    "    def metric(self,y,pred):\n",
    "        pred=torch.sigmoid(pred)\n",
    "        pred=torch.round(pred)\n",
    "        return accuracy_score(y.float(), pred.detach())\n",
    "\n",
    "    def wandb_log(self,log={}):\n",
    "        try:\n",
    "            wandb.log(log)\n",
    "        except:\n",
    "            print('Wandb logging error server', )\n",
    "            \n",
    "    def evaluate(self,dataset,round):\n",
    "        self.model.eval()\n",
    "        criterion= torch.nn.BCEWithLogitsLoss()\n",
    "\n",
    "        dataloader=torch.utils.data.DataLoader(dataset,batch_size=int(10),shuffle=True)\n",
    "        run=wandb.init(group=\"federated_Evaluation\",job_type='Evaluation', project=PROJNAME)\n",
    "\n",
    "        device = torch.device(\"cuda:0\" if torch.cuda.is_available() else \"cpu\")\n",
    "\n",
    "        test_loss=0.0\n",
    "        step=0\n",
    "        test_accuracy=[]\n",
    "        self.model=self.model.to(device)\n",
    "\n",
    "        with torch.no_grad():\n",
    "            for x,y in dataloader:\n",
    "                x,y=x.to(device),y.to(device)\n",
    "                pred=self.model(x)\n",
    "                loss=criterion(pred,y.float())\n",
    "\n",
    "                x,y=x.cpu(),y.cpu()\n",
    "                pred=pred.cpu().detach()\n",
    "\n",
    "                test_loss+=loss.item()\n",
    "                step+=1        \n",
    "                pred=torch.sigmoid(pred)\n",
    "                pred=torch.round(pred)\n",
    "                test_accuracy.append(self.metric(y,pred))\n",
    "                \n",
    "        accuracy=np.mean(test_accuracy)\n",
    "        loss=test_loss/step\n",
    "        if(accuracy>self.best_accuracy):\n",
    "            model_log = wandb.Artifact('best_eval_accuracy', type='model')\n",
    "            try:\n",
    "                self.best_accuracy=accuracy\n",
    "                model_log.add_file(self.save_model())\n",
    "                run.log_artifact(model_log)\n",
    "                print('model saved, best accuracy: {}'.format(self.best_accuracy))\n",
    "            except:\n",
    "                print('save model failed')\n",
    "        print('Evaluation successfully, ')\n",
    "        print('Round : {} ,Accuracy : {} loss : {} '.format(round,accuracy,loss))\n",
    "        self.wandb_log({\n",
    "                'round':round,\n",
    "                'loss':loss,\n",
    "                'accuracy':accuracy\n",
    "                })\n",
    "        self.model=self.model.to('cpu')\n",
    "        return accuracy\n",
    "    \n",
    "    def save_model(self):\n",
    "        file_name='bestmodel.h5'\n",
    "        torch.save(self.model.state_dict(), file_name)\n",
    "        return file_name\n",
    "    \n",
    "    def round_train(self):\n",
    "        from random import sample\n",
    "        for round in range(0,self.config['server']['num_round']):\n",
    "            \n",
    "            self.round_dices=sample(range(0,len(self)),self.config['server']['num_client_round'])\n",
    "            print('Round {}',format(round))\n",
    "            print('Including clients: {}'.format(self.round_dices))\n",
    "            for index in self.round_dices:\n",
    "                self.client_list[index].train_gpu(round=round)\n",
    "            print('Finish training. Collecting parameters...')\n",
    "            self.collect_clients_params()\n",
    "            params=self.fedAvg()\n",
    "            self.update_client_model(params=params)\n",
    "            acc=self.evaluate(self.eval_dataset,round=round)\n",
    "\n",
    "                \n",
    "            \n",
    "            \n",
    "                "
   ]
  },
  {
   "cell_type": "code",
   "execution_count": 9,
   "metadata": {},
   "outputs": [],
   "source": [
    "\n",
    "CONFIG={\n",
    "    'client':{\n",
    "    'learning_rate':0.00006824,\n",
    "    'batch_size':16,\n",
    "    'weight_decay':0.000001,\n",
    "    'epoch':8,\n",
    "    },\n",
    "    'server':{\n",
    "        'num_client':100,\n",
    "        'num_client_round':25,\n",
    "        'num_round':50,\n",
    "    }\n",
    "}\n",
    "\n"
   ]
  },
  {
   "cell_type": "code",
   "execution_count": 10,
   "metadata": {},
   "outputs": [
    {
     "name": "stdout",
     "output_type": "stream",
     "text": [
      "Round {} 0\n",
      "Including clients: [31, 15, 36, 59, 28, 4, 96, 74, 17, 71, 46, 73, 70, 62, 5, 63, 57, 13, 61, 33, 14, 85, 98, 3, 90]\n",
      "Client 31 start Training\n",
      "Client 15 start Training\n",
      "Client 36 start Training\n",
      "Client 59 start Training\n",
      "Client 28 start Training\n",
      "Client 4 start Training\n",
      "Client 96 start Training\n",
      "Client 74 start Training\n",
      "Client 17 start Training\n",
      "Client 71 start Training\n",
      "Client 46 start Training\n",
      "Client 73 start Training\n",
      "Client 70 start Training\n",
      "Client 62 start Training\n",
      "Client 5 start Training\n",
      "Client 63 start Training\n",
      "Client 57 start Training\n",
      "Client 13 start Training\n",
      "Client 61 start Training\n",
      "Client 33 start Training\n",
      "Client 14 start Training\n",
      "Client 85 start Training\n",
      "Client 98 start Training\n",
      "Client 3 start Training\n",
      "Client 90 start Training\n",
      "Finish training. Collecting parameters...\n",
      "Clients updated ! Ready for next round\n"
     ]
    },
    {
     "name": "stderr",
     "output_type": "stream",
     "text": [
      "Failed to detect the name of this notebook, you can set it manually with the WANDB_NOTEBOOK_NAME environment variable to enable code saving.\n"
     ]
    },
    {
     "data": {
      "text/html": [
       "Tracking run with wandb version 0.13.5"
      ],
      "text/plain": [
       "<IPython.core.display.HTML object>"
      ]
     },
     "metadata": {},
     "output_type": "display_data"
    },
    {
     "data": {
      "text/html": [
       "W&B syncing is set to <code>`offline`<code> in this directory.  <br/>Run <code>`wandb online`<code> or set <code>WANDB_MODE=online<code> to enable cloud syncing."
      ],
      "text/plain": [
       "<IPython.core.display.HTML object>"
      ]
     },
     "metadata": {},
     "output_type": "display_data"
    },
    {
     "name": "stdout",
     "output_type": "stream",
     "text": [
      "model saved, best accuracy: 0.09946524064171124\n",
      "Evaluation successfully, \n",
      "Round : 0 ,Accuracy : 0.09946524064171124 loss : 0.6474301996715566 \n",
      "Round {} 1\n",
      "Including clients: [9, 69, 20, 15, 93, 30, 89, 91, 18, 84, 66, 70, 85, 29, 55, 33, 72, 64, 0, 96, 48, 17, 45, 80, 21]\n",
      "Client 9 start Training\n",
      "Client 69 start Training\n",
      "Client 20 start Training\n",
      "Client 15 start Training\n",
      "Client 93 start Training\n",
      "Client 30 start Training\n",
      "Client 89 start Training\n",
      "Client 91 start Training\n",
      "Client 18 start Training\n",
      "Client 84 start Training\n",
      "Client 66 start Training\n",
      "Client 70 start Training\n",
      "Client 85 start Training\n",
      "Client 29 start Training\n",
      "Client 55 start Training\n",
      "Client 33 start Training\n",
      "Client 72 start Training\n",
      "Client 64 start Training\n",
      "Client 0 start Training\n",
      "Client 96 start Training\n",
      "Client 48 start Training\n",
      "Client 17 start Training\n",
      "Client 45 start Training\n",
      "Client 80 start Training\n",
      "Client 21 start Training\n",
      "Finish training. Collecting parameters...\n",
      "Clients updated ! Ready for next round\n"
     ]
    },
    {
     "data": {
      "text/html": [
       "Finishing last run (ID:r09426lb) before initializing another..."
      ],
      "text/plain": [
       "<IPython.core.display.HTML object>"
      ]
     },
     "metadata": {},
     "output_type": "display_data"
    },
    {
     "data": {
      "text/html": [
       "Waiting for W&B process to finish... <strong style=\"color:green\">(success).</strong>"
      ],
      "text/plain": [
       "<IPython.core.display.HTML object>"
      ]
     },
     "metadata": {},
     "output_type": "display_data"
    },
    {
     "data": {
      "text/html": [
       "<style>\n",
       "    table.wandb td:nth-child(1) { padding: 0 10px; text-align: left ; width: auto;} td:nth-child(2) {text-align: left ; width: 100%}\n",
       "    .wandb-row { display: flex; flex-direction: row; flex-wrap: wrap; justify-content: flex-start; width: 100% }\n",
       "    .wandb-col { display: flex; flex-direction: column; flex-basis: 100%; flex: 1; padding: 10px; }\n",
       "    </style>\n",
       "<div class=\"wandb-row\"><div class=\"wandb-col\"><h3>Run history:</h3><br/><table class=\"wandb\"><tr><td>accuracy</td><td>▁</td></tr><tr><td>loss</td><td>▁</td></tr><tr><td>round</td><td>▁</td></tr></table><br/></div><div class=\"wandb-col\"><h3>Run summary:</h3><br/><table class=\"wandb\"><tr><td>accuracy</td><td>0.09947</td></tr><tr><td>loss</td><td>0.64743</td></tr><tr><td>round</td><td>0</td></tr></table><br/></div></div>"
      ],
      "text/plain": [
       "<IPython.core.display.HTML object>"
      ]
     },
     "metadata": {},
     "output_type": "display_data"
    },
    {
     "data": {
      "text/html": [
       "You can sync this run to the cloud by running:<br/><code>wandb sync f:\\Thesis\\Model train\\Federated_training\\wandb\\offline-run-20221215_194225-r09426lb<code>"
      ],
      "text/plain": [
       "<IPython.core.display.HTML object>"
      ]
     },
     "metadata": {},
     "output_type": "display_data"
    },
    {
     "data": {
      "text/html": [
       "Find logs at: <code>.\\wandb\\offline-run-20221215_194225-r09426lb\\logs</code>"
      ],
      "text/plain": [
       "<IPython.core.display.HTML object>"
      ]
     },
     "metadata": {},
     "output_type": "display_data"
    },
    {
     "data": {
      "text/html": [
       "Successfully finished last run (ID:r09426lb). Initializing new run:<br/>"
      ],
      "text/plain": [
       "<IPython.core.display.HTML object>"
      ]
     },
     "metadata": {},
     "output_type": "display_data"
    },
    {
     "data": {
      "text/html": [
       "Tracking run with wandb version 0.13.5"
      ],
      "text/plain": [
       "<IPython.core.display.HTML object>"
      ]
     },
     "metadata": {},
     "output_type": "display_data"
    },
    {
     "data": {
      "text/html": [
       "W&B syncing is set to <code>`offline`<code> in this directory.  <br/>Run <code>`wandb online`<code> or set <code>WANDB_MODE=online<code> to enable cloud syncing."
      ],
      "text/plain": [
       "<IPython.core.display.HTML object>"
      ]
     },
     "metadata": {},
     "output_type": "display_data"
    },
    {
     "name": "stdout",
     "output_type": "stream",
     "text": [
      "model saved, best accuracy: 0.1606951871657754\n",
      "Evaluation successfully, \n",
      "Round : 1 ,Accuracy : 0.1606951871657754 loss : 0.5950411083226536 \n",
      "Round {} 2\n",
      "Including clients: [67, 37, 24, 74, 25, 48, 14, 63, 12, 6, 49, 36, 18, 44, 20, 69, 97, 71, 85, 61, 73, 54, 11, 87, 93]\n",
      "Client 67 start Training\n",
      "Client 37 start Training\n",
      "Client 24 start Training\n",
      "Client 74 start Training\n",
      "Client 25 start Training\n",
      "Client 48 start Training\n",
      "Client 14 start Training\n",
      "Client 63 start Training\n",
      "Client 12 start Training\n",
      "Client 6 start Training\n",
      "Client 49 start Training\n",
      "Client 36 start Training\n",
      "Client 18 start Training\n",
      "Client 44 start Training\n",
      "Client 20 start Training\n",
      "Client 69 start Training\n",
      "Client 97 start Training\n",
      "Client 71 start Training\n",
      "Client 85 start Training\n",
      "Client 61 start Training\n",
      "Client 73 start Training\n",
      "Client 54 start Training\n",
      "Client 11 start Training\n",
      "Client 87 start Training\n",
      "Client 93 start Training\n",
      "Finish training. Collecting parameters...\n",
      "Clients updated ! Ready for next round\n"
     ]
    },
    {
     "data": {
      "text/html": [
       "Finishing last run (ID:3lzi1sf3) before initializing another..."
      ],
      "text/plain": [
       "<IPython.core.display.HTML object>"
      ]
     },
     "metadata": {},
     "output_type": "display_data"
    },
    {
     "data": {
      "text/html": [
       "Waiting for W&B process to finish... <strong style=\"color:green\">(success).</strong>"
      ],
      "text/plain": [
       "<IPython.core.display.HTML object>"
      ]
     },
     "metadata": {},
     "output_type": "display_data"
    },
    {
     "data": {
      "text/html": [
       "<style>\n",
       "    table.wandb td:nth-child(1) { padding: 0 10px; text-align: left ; width: auto;} td:nth-child(2) {text-align: left ; width: 100%}\n",
       "    .wandb-row { display: flex; flex-direction: row; flex-wrap: wrap; justify-content: flex-start; width: 100% }\n",
       "    .wandb-col { display: flex; flex-direction: column; flex-basis: 100%; flex: 1; padding: 10px; }\n",
       "    </style>\n",
       "<div class=\"wandb-row\"><div class=\"wandb-col\"><h3>Run history:</h3><br/><table class=\"wandb\"><tr><td>accuracy</td><td>▁</td></tr><tr><td>loss</td><td>▁</td></tr><tr><td>round</td><td>▁</td></tr></table><br/></div><div class=\"wandb-col\"><h3>Run summary:</h3><br/><table class=\"wandb\"><tr><td>accuracy</td><td>0.1607</td></tr><tr><td>loss</td><td>0.59504</td></tr><tr><td>round</td><td>1</td></tr></table><br/></div></div>"
      ],
      "text/plain": [
       "<IPython.core.display.HTML object>"
      ]
     },
     "metadata": {},
     "output_type": "display_data"
    },
    {
     "data": {
      "text/html": [
       "You can sync this run to the cloud by running:<br/><code>wandb sync f:\\Thesis\\Model train\\Federated_training\\wandb\\offline-run-20221215_195335-3lzi1sf3<code>"
      ],
      "text/plain": [
       "<IPython.core.display.HTML object>"
      ]
     },
     "metadata": {},
     "output_type": "display_data"
    },
    {
     "data": {
      "text/html": [
       "Find logs at: <code>.\\wandb\\offline-run-20221215_195335-3lzi1sf3\\logs</code>"
      ],
      "text/plain": [
       "<IPython.core.display.HTML object>"
      ]
     },
     "metadata": {},
     "output_type": "display_data"
    },
    {
     "data": {
      "text/html": [
       "Successfully finished last run (ID:3lzi1sf3). Initializing new run:<br/>"
      ],
      "text/plain": [
       "<IPython.core.display.HTML object>"
      ]
     },
     "metadata": {},
     "output_type": "display_data"
    },
    {
     "data": {
      "text/html": [
       "Tracking run with wandb version 0.13.5"
      ],
      "text/plain": [
       "<IPython.core.display.HTML object>"
      ]
     },
     "metadata": {},
     "output_type": "display_data"
    },
    {
     "data": {
      "text/html": [
       "W&B syncing is set to <code>`offline`<code> in this directory.  <br/>Run <code>`wandb online`<code> or set <code>WANDB_MODE=online<code> to enable cloud syncing."
      ],
      "text/plain": [
       "<IPython.core.display.HTML object>"
      ]
     },
     "metadata": {},
     "output_type": "display_data"
    },
    {
     "name": "stdout",
     "output_type": "stream",
     "text": [
      "model saved, best accuracy: 0.16737967914438504\n",
      "Evaluation successfully, \n",
      "Round : 2 ,Accuracy : 0.16737967914438504 loss : 0.5646646011640681 \n",
      "Round {} 3\n",
      "Including clients: [83, 49, 5, 84, 57, 85, 34, 60, 23, 64, 63, 95, 73, 11, 31, 46, 27, 79, 40, 77, 65, 61, 16, 0, 88]\n",
      "Client 83 start Training\n",
      "Client 49 start Training\n",
      "Client 5 start Training\n",
      "Client 84 start Training\n",
      "Client 57 start Training\n",
      "Client 85 start Training\n",
      "Client 34 start Training\n",
      "Client 60 start Training\n",
      "Client 23 start Training\n",
      "Client 64 start Training\n",
      "Client 63 start Training\n",
      "Client 95 start Training\n",
      "Client 73 start Training\n",
      "Client 11 start Training\n",
      "Client 31 start Training\n",
      "Client 46 start Training\n",
      "Client 27 start Training\n",
      "Client 79 start Training\n",
      "Client 40 start Training\n",
      "Client 77 start Training\n",
      "Client 65 start Training\n",
      "Client 61 start Training\n",
      "Client 16 start Training\n",
      "Client 0 start Training\n",
      "Client 88 start Training\n",
      "Finish training. Collecting parameters...\n",
      "Clients updated ! Ready for next round\n"
     ]
    },
    {
     "data": {
      "text/html": [
       "Finishing last run (ID:2294aztr) before initializing another..."
      ],
      "text/plain": [
       "<IPython.core.display.HTML object>"
      ]
     },
     "metadata": {},
     "output_type": "display_data"
    },
    {
     "data": {
      "text/html": [
       "Waiting for W&B process to finish... <strong style=\"color:green\">(success).</strong>"
      ],
      "text/plain": [
       "<IPython.core.display.HTML object>"
      ]
     },
     "metadata": {},
     "output_type": "display_data"
    },
    {
     "data": {
      "text/html": [
       "<style>\n",
       "    table.wandb td:nth-child(1) { padding: 0 10px; text-align: left ; width: auto;} td:nth-child(2) {text-align: left ; width: 100%}\n",
       "    .wandb-row { display: flex; flex-direction: row; flex-wrap: wrap; justify-content: flex-start; width: 100% }\n",
       "    .wandb-col { display: flex; flex-direction: column; flex-basis: 100%; flex: 1; padding: 10px; }\n",
       "    </style>\n",
       "<div class=\"wandb-row\"><div class=\"wandb-col\"><h3>Run history:</h3><br/><table class=\"wandb\"><tr><td>accuracy</td><td>▁</td></tr><tr><td>loss</td><td>▁</td></tr><tr><td>round</td><td>▁</td></tr></table><br/></div><div class=\"wandb-col\"><h3>Run summary:</h3><br/><table class=\"wandb\"><tr><td>accuracy</td><td>0.16738</td></tr><tr><td>loss</td><td>0.56466</td></tr><tr><td>round</td><td>2</td></tr></table><br/></div></div>"
      ],
      "text/plain": [
       "<IPython.core.display.HTML object>"
      ]
     },
     "metadata": {},
     "output_type": "display_data"
    },
    {
     "data": {
      "text/html": [
       "You can sync this run to the cloud by running:<br/><code>wandb sync f:\\Thesis\\Model train\\Federated_training\\wandb\\offline-run-20221215_200714-2294aztr<code>"
      ],
      "text/plain": [
       "<IPython.core.display.HTML object>"
      ]
     },
     "metadata": {},
     "output_type": "display_data"
    },
    {
     "data": {
      "text/html": [
       "Find logs at: <code>.\\wandb\\offline-run-20221215_200714-2294aztr\\logs</code>"
      ],
      "text/plain": [
       "<IPython.core.display.HTML object>"
      ]
     },
     "metadata": {},
     "output_type": "display_data"
    },
    {
     "data": {
      "text/html": [
       "Successfully finished last run (ID:2294aztr). Initializing new run:<br/>"
      ],
      "text/plain": [
       "<IPython.core.display.HTML object>"
      ]
     },
     "metadata": {},
     "output_type": "display_data"
    },
    {
     "data": {
      "text/html": [
       "Tracking run with wandb version 0.13.5"
      ],
      "text/plain": [
       "<IPython.core.display.HTML object>"
      ]
     },
     "metadata": {},
     "output_type": "display_data"
    },
    {
     "data": {
      "text/html": [
       "W&B syncing is set to <code>`offline`<code> in this directory.  <br/>Run <code>`wandb online`<code> or set <code>WANDB_MODE=online<code> to enable cloud syncing."
      ],
      "text/plain": [
       "<IPython.core.display.HTML object>"
      ]
     },
     "metadata": {},
     "output_type": "display_data"
    },
    {
     "name": "stdout",
     "output_type": "stream",
     "text": [
      "Evaluation successfully, \n",
      "Round : 3 ,Accuracy : 0.16684491978609628 loss : 0.554805190486704 \n",
      "Round {} 4\n",
      "Including clients: [43, 11, 71, 91, 67, 84, 98, 6, 99, 9, 60, 52, 82, 88, 17, 1, 30, 37, 47, 0, 92, 70, 50, 46, 62]\n",
      "Client 43 start Training\n",
      "Client 11 start Training\n",
      "Client 71 start Training\n",
      "Client 91 start Training\n",
      "Client 67 start Training\n",
      "Client 84 start Training\n",
      "Client 98 start Training\n",
      "Client 6 start Training\n",
      "Client 99 start Training\n",
      "Client 9 start Training\n",
      "Client 60 start Training\n",
      "Client 52 start Training\n",
      "Client 82 start Training\n",
      "Client 88 start Training\n",
      "Client 17 start Training\n",
      "Client 1 start Training\n",
      "Client 30 start Training\n",
      "Client 37 start Training\n",
      "Client 47 start Training\n",
      "Client 0 start Training\n",
      "Client 92 start Training\n",
      "Client 70 start Training\n",
      "Client 50 start Training\n",
      "Client 46 start Training\n",
      "Client 62 start Training\n",
      "Finish training. Collecting parameters...\n",
      "Clients updated ! Ready for next round\n"
     ]
    },
    {
     "data": {
      "text/html": [
       "Finishing last run (ID:2l11y1j2) before initializing another..."
      ],
      "text/plain": [
       "<IPython.core.display.HTML object>"
      ]
     },
     "metadata": {},
     "output_type": "display_data"
    },
    {
     "data": {
      "text/html": [
       "Waiting for W&B process to finish... <strong style=\"color:green\">(success).</strong>"
      ],
      "text/plain": [
       "<IPython.core.display.HTML object>"
      ]
     },
     "metadata": {},
     "output_type": "display_data"
    },
    {
     "data": {
      "text/html": [
       "<style>\n",
       "    table.wandb td:nth-child(1) { padding: 0 10px; text-align: left ; width: auto;} td:nth-child(2) {text-align: left ; width: 100%}\n",
       "    .wandb-row { display: flex; flex-direction: row; flex-wrap: wrap; justify-content: flex-start; width: 100% }\n",
       "    .wandb-col { display: flex; flex-direction: column; flex-basis: 100%; flex: 1; padding: 10px; }\n",
       "    </style>\n",
       "<div class=\"wandb-row\"><div class=\"wandb-col\"><h3>Run history:</h3><br/><table class=\"wandb\"><tr><td>accuracy</td><td>▁</td></tr><tr><td>loss</td><td>▁</td></tr><tr><td>round</td><td>▁</td></tr></table><br/></div><div class=\"wandb-col\"><h3>Run summary:</h3><br/><table class=\"wandb\"><tr><td>accuracy</td><td>0.16684</td></tr><tr><td>loss</td><td>0.55481</td></tr><tr><td>round</td><td>3</td></tr></table><br/></div></div>"
      ],
      "text/plain": [
       "<IPython.core.display.HTML object>"
      ]
     },
     "metadata": {},
     "output_type": "display_data"
    },
    {
     "data": {
      "text/html": [
       "You can sync this run to the cloud by running:<br/><code>wandb sync f:\\Thesis\\Model train\\Federated_training\\wandb\\offline-run-20221215_202126-2l11y1j2<code>"
      ],
      "text/plain": [
       "<IPython.core.display.HTML object>"
      ]
     },
     "metadata": {},
     "output_type": "display_data"
    },
    {
     "data": {
      "text/html": [
       "Find logs at: <code>.\\wandb\\offline-run-20221215_202126-2l11y1j2\\logs</code>"
      ],
      "text/plain": [
       "<IPython.core.display.HTML object>"
      ]
     },
     "metadata": {},
     "output_type": "display_data"
    },
    {
     "data": {
      "text/html": [
       "Successfully finished last run (ID:2l11y1j2). Initializing new run:<br/>"
      ],
      "text/plain": [
       "<IPython.core.display.HTML object>"
      ]
     },
     "metadata": {},
     "output_type": "display_data"
    },
    {
     "data": {
      "text/html": [
       "Tracking run with wandb version 0.13.5"
      ],
      "text/plain": [
       "<IPython.core.display.HTML object>"
      ]
     },
     "metadata": {},
     "output_type": "display_data"
    },
    {
     "data": {
      "text/html": [
       "W&B syncing is set to <code>`offline`<code> in this directory.  <br/>Run <code>`wandb online`<code> or set <code>WANDB_MODE=online<code> to enable cloud syncing."
      ],
      "text/plain": [
       "<IPython.core.display.HTML object>"
      ]
     },
     "metadata": {},
     "output_type": "display_data"
    },
    {
     "name": "stdout",
     "output_type": "stream",
     "text": [
      "model saved, best accuracy: 0.1679144385026738\n",
      "Evaluation successfully, \n",
      "Round : 4 ,Accuracy : 0.1679144385026738 loss : 0.55280999305414 \n",
      "Round {} 5\n",
      "Including clients: [66, 28, 18, 92, 23, 98, 58, 93, 44, 79, 77, 96, 10, 42, 27, 3, 53, 48, 61, 52, 13, 16, 73, 38, 57]\n",
      "Client 66 start Training\n",
      "Client 28 start Training\n",
      "Client 18 start Training\n",
      "Client 92 start Training\n",
      "Client 23 start Training\n",
      "Client 98 start Training\n",
      "Client 58 start Training\n",
      "Client 93 start Training\n",
      "Client 44 start Training\n",
      "Client 79 start Training\n",
      "Client 77 start Training\n",
      "Client 96 start Training\n",
      "Client 10 start Training\n",
      "Client 42 start Training\n",
      "Client 27 start Training\n",
      "Client 3 start Training\n",
      "Client 53 start Training\n",
      "Client 48 start Training\n",
      "Client 61 start Training\n",
      "Client 52 start Training\n",
      "Client 13 start Training\n",
      "Client 16 start Training\n",
      "Client 73 start Training\n",
      "Client 38 start Training\n",
      "Client 57 start Training\n",
      "Finish training. Collecting parameters...\n",
      "Clients updated ! Ready for next round\n"
     ]
    },
    {
     "data": {
      "text/html": [
       "Finishing last run (ID:1n28sxev) before initializing another..."
      ],
      "text/plain": [
       "<IPython.core.display.HTML object>"
      ]
     },
     "metadata": {},
     "output_type": "display_data"
    },
    {
     "data": {
      "text/html": [
       "Waiting for W&B process to finish... <strong style=\"color:green\">(success).</strong>"
      ],
      "text/plain": [
       "<IPython.core.display.HTML object>"
      ]
     },
     "metadata": {},
     "output_type": "display_data"
    },
    {
     "data": {
      "text/html": [
       "<style>\n",
       "    table.wandb td:nth-child(1) { padding: 0 10px; text-align: left ; width: auto;} td:nth-child(2) {text-align: left ; width: 100%}\n",
       "    .wandb-row { display: flex; flex-direction: row; flex-wrap: wrap; justify-content: flex-start; width: 100% }\n",
       "    .wandb-col { display: flex; flex-direction: column; flex-basis: 100%; flex: 1; padding: 10px; }\n",
       "    </style>\n",
       "<div class=\"wandb-row\"><div class=\"wandb-col\"><h3>Run history:</h3><br/><table class=\"wandb\"><tr><td>accuracy</td><td>▁</td></tr><tr><td>loss</td><td>▁</td></tr><tr><td>round</td><td>▁</td></tr></table><br/></div><div class=\"wandb-col\"><h3>Run summary:</h3><br/><table class=\"wandb\"><tr><td>accuracy</td><td>0.16791</td></tr><tr><td>loss</td><td>0.55281</td></tr><tr><td>round</td><td>4</td></tr></table><br/></div></div>"
      ],
      "text/plain": [
       "<IPython.core.display.HTML object>"
      ]
     },
     "metadata": {},
     "output_type": "display_data"
    },
    {
     "data": {
      "text/html": [
       "You can sync this run to the cloud by running:<br/><code>wandb sync f:\\Thesis\\Model train\\Federated_training\\wandb\\offline-run-20221215_203538-1n28sxev<code>"
      ],
      "text/plain": [
       "<IPython.core.display.HTML object>"
      ]
     },
     "metadata": {},
     "output_type": "display_data"
    },
    {
     "data": {
      "text/html": [
       "Find logs at: <code>.\\wandb\\offline-run-20221215_203538-1n28sxev\\logs</code>"
      ],
      "text/plain": [
       "<IPython.core.display.HTML object>"
      ]
     },
     "metadata": {},
     "output_type": "display_data"
    },
    {
     "data": {
      "text/html": [
       "Successfully finished last run (ID:1n28sxev). Initializing new run:<br/>"
      ],
      "text/plain": [
       "<IPython.core.display.HTML object>"
      ]
     },
     "metadata": {},
     "output_type": "display_data"
    },
    {
     "data": {
      "text/html": [
       "Tracking run with wandb version 0.13.5"
      ],
      "text/plain": [
       "<IPython.core.display.HTML object>"
      ]
     },
     "metadata": {},
     "output_type": "display_data"
    },
    {
     "data": {
      "text/html": [
       "W&B syncing is set to <code>`offline`<code> in this directory.  <br/>Run <code>`wandb online`<code> or set <code>WANDB_MODE=online<code> to enable cloud syncing."
      ],
      "text/plain": [
       "<IPython.core.display.HTML object>"
      ]
     },
     "metadata": {},
     "output_type": "display_data"
    },
    {
     "name": "stdout",
     "output_type": "stream",
     "text": [
      "model saved, best accuracy: 0.16898395721925136\n",
      "Evaluation successfully, \n",
      "Round : 5 ,Accuracy : 0.16898395721925136 loss : 0.5692164666831174 \n",
      "Round {} 6\n",
      "Including clients: [8, 29, 76, 59, 13, 55, 69, 4, 41, 93, 3, 71, 95, 57, 33, 23, 47, 68, 66, 74, 43, 90, 45, 28, 19]\n",
      "Client 8 start Training\n",
      "Client 29 start Training\n",
      "Client 76 start Training\n",
      "Client 59 start Training\n",
      "Client 13 start Training\n",
      "Client 55 start Training\n",
      "Client 69 start Training\n",
      "Client 4 start Training\n",
      "Client 41 start Training\n",
      "Client 93 start Training\n",
      "Client 3 start Training\n",
      "Client 71 start Training\n",
      "Client 95 start Training\n",
      "Client 57 start Training\n",
      "Client 33 start Training\n",
      "Client 23 start Training\n",
      "Client 47 start Training\n",
      "Client 68 start Training\n",
      "Client 66 start Training\n",
      "Client 74 start Training\n",
      "Client 43 start Training\n",
      "Client 90 start Training\n",
      "Client 45 start Training\n",
      "Client 28 start Training\n",
      "Client 19 start Training\n",
      "Finish training. Collecting parameters...\n",
      "Clients updated ! Ready for next round\n"
     ]
    },
    {
     "data": {
      "text/html": [
       "Finishing last run (ID:2b8ua5rf) before initializing another..."
      ],
      "text/plain": [
       "<IPython.core.display.HTML object>"
      ]
     },
     "metadata": {},
     "output_type": "display_data"
    },
    {
     "data": {
      "text/html": [
       "Waiting for W&B process to finish... <strong style=\"color:green\">(success).</strong>"
      ],
      "text/plain": [
       "<IPython.core.display.HTML object>"
      ]
     },
     "metadata": {},
     "output_type": "display_data"
    },
    {
     "data": {
      "text/html": [
       "<style>\n",
       "    table.wandb td:nth-child(1) { padding: 0 10px; text-align: left ; width: auto;} td:nth-child(2) {text-align: left ; width: 100%}\n",
       "    .wandb-row { display: flex; flex-direction: row; flex-wrap: wrap; justify-content: flex-start; width: 100% }\n",
       "    .wandb-col { display: flex; flex-direction: column; flex-basis: 100%; flex: 1; padding: 10px; }\n",
       "    </style>\n",
       "<div class=\"wandb-row\"><div class=\"wandb-col\"><h3>Run history:</h3><br/><table class=\"wandb\"><tr><td>accuracy</td><td>▁</td></tr><tr><td>loss</td><td>▁</td></tr><tr><td>round</td><td>▁</td></tr></table><br/></div><div class=\"wandb-col\"><h3>Run summary:</h3><br/><table class=\"wandb\"><tr><td>accuracy</td><td>0.16898</td></tr><tr><td>loss</td><td>0.56922</td></tr><tr><td>round</td><td>5</td></tr></table><br/></div></div>"
      ],
      "text/plain": [
       "<IPython.core.display.HTML object>"
      ]
     },
     "metadata": {},
     "output_type": "display_data"
    },
    {
     "data": {
      "text/html": [
       "You can sync this run to the cloud by running:<br/><code>wandb sync f:\\Thesis\\Model train\\Federated_training\\wandb\\offline-run-20221215_204951-2b8ua5rf<code>"
      ],
      "text/plain": [
       "<IPython.core.display.HTML object>"
      ]
     },
     "metadata": {},
     "output_type": "display_data"
    },
    {
     "data": {
      "text/html": [
       "Find logs at: <code>.\\wandb\\offline-run-20221215_204951-2b8ua5rf\\logs</code>"
      ],
      "text/plain": [
       "<IPython.core.display.HTML object>"
      ]
     },
     "metadata": {},
     "output_type": "display_data"
    },
    {
     "data": {
      "text/html": [
       "Successfully finished last run (ID:2b8ua5rf). Initializing new run:<br/>"
      ],
      "text/plain": [
       "<IPython.core.display.HTML object>"
      ]
     },
     "metadata": {},
     "output_type": "display_data"
    },
    {
     "data": {
      "text/html": [
       "Tracking run with wandb version 0.13.5"
      ],
      "text/plain": [
       "<IPython.core.display.HTML object>"
      ]
     },
     "metadata": {},
     "output_type": "display_data"
    },
    {
     "data": {
      "text/html": [
       "W&B syncing is set to <code>`offline`<code> in this directory.  <br/>Run <code>`wandb online`<code> or set <code>WANDB_MODE=online<code> to enable cloud syncing."
      ],
      "text/plain": [
       "<IPython.core.display.HTML object>"
      ]
     },
     "metadata": {},
     "output_type": "display_data"
    },
    {
     "name": "stdout",
     "output_type": "stream",
     "text": [
      "Evaluation successfully, \n",
      "Round : 6 ,Accuracy : 0.1684491978609626 loss : 0.5873717560487635 \n",
      "Round {} 7\n",
      "Including clients: [86, 12, 53, 88, 7, 54, 67, 48, 96, 46, 37, 34, 8, 27, 73, 44, 28, 66, 80, 98, 71, 10, 25, 22, 4]\n",
      "Client 86 start Training\n",
      "Client 12 start Training\n",
      "Client 53 start Training\n",
      "Client 88 start Training\n",
      "Client 7 start Training\n",
      "Client 54 start Training\n",
      "Client 67 start Training\n",
      "Client 48 start Training\n",
      "Client 96 start Training\n",
      "Client 46 start Training\n",
      "Client 37 start Training\n",
      "Client 34 start Training\n",
      "Client 8 start Training\n",
      "Client 27 start Training\n",
      "Client 73 start Training\n",
      "Client 44 start Training\n",
      "Client 28 start Training\n",
      "Client 66 start Training\n",
      "Client 80 start Training\n",
      "Client 98 start Training\n",
      "Client 71 start Training\n",
      "Client 10 start Training\n",
      "Client 25 start Training\n",
      "Client 22 start Training\n",
      "Client 4 start Training\n",
      "Finish training. Collecting parameters...\n",
      "Clients updated ! Ready for next round\n"
     ]
    },
    {
     "data": {
      "text/html": [
       "Finishing last run (ID:2yliks4a) before initializing another..."
      ],
      "text/plain": [
       "<IPython.core.display.HTML object>"
      ]
     },
     "metadata": {},
     "output_type": "display_data"
    },
    {
     "data": {
      "text/html": [
       "Waiting for W&B process to finish... <strong style=\"color:green\">(success).</strong>"
      ],
      "text/plain": [
       "<IPython.core.display.HTML object>"
      ]
     },
     "metadata": {},
     "output_type": "display_data"
    },
    {
     "data": {
      "text/html": [
       "<style>\n",
       "    table.wandb td:nth-child(1) { padding: 0 10px; text-align: left ; width: auto;} td:nth-child(2) {text-align: left ; width: 100%}\n",
       "    .wandb-row { display: flex; flex-direction: row; flex-wrap: wrap; justify-content: flex-start; width: 100% }\n",
       "    .wandb-col { display: flex; flex-direction: column; flex-basis: 100%; flex: 1; padding: 10px; }\n",
       "    </style>\n",
       "<div class=\"wandb-row\"><div class=\"wandb-col\"><h3>Run history:</h3><br/><table class=\"wandb\"><tr><td>accuracy</td><td>▁</td></tr><tr><td>loss</td><td>▁</td></tr><tr><td>round</td><td>▁</td></tr></table><br/></div><div class=\"wandb-col\"><h3>Run summary:</h3><br/><table class=\"wandb\"><tr><td>accuracy</td><td>0.16845</td></tr><tr><td>loss</td><td>0.58737</td></tr><tr><td>round</td><td>6</td></tr></table><br/></div></div>"
      ],
      "text/plain": [
       "<IPython.core.display.HTML object>"
      ]
     },
     "metadata": {},
     "output_type": "display_data"
    },
    {
     "data": {
      "text/html": [
       "You can sync this run to the cloud by running:<br/><code>wandb sync f:\\Thesis\\Model train\\Federated_training\\wandb\\offline-run-20221215_210402-2yliks4a<code>"
      ],
      "text/plain": [
       "<IPython.core.display.HTML object>"
      ]
     },
     "metadata": {},
     "output_type": "display_data"
    },
    {
     "data": {
      "text/html": [
       "Find logs at: <code>.\\wandb\\offline-run-20221215_210402-2yliks4a\\logs</code>"
      ],
      "text/plain": [
       "<IPython.core.display.HTML object>"
      ]
     },
     "metadata": {},
     "output_type": "display_data"
    },
    {
     "data": {
      "text/html": [
       "Successfully finished last run (ID:2yliks4a). Initializing new run:<br/>"
      ],
      "text/plain": [
       "<IPython.core.display.HTML object>"
      ]
     },
     "metadata": {},
     "output_type": "display_data"
    },
    {
     "data": {
      "text/html": [
       "Tracking run with wandb version 0.13.5"
      ],
      "text/plain": [
       "<IPython.core.display.HTML object>"
      ]
     },
     "metadata": {},
     "output_type": "display_data"
    },
    {
     "data": {
      "text/html": [
       "W&B syncing is set to <code>`offline`<code> in this directory.  <br/>Run <code>`wandb online`<code> or set <code>WANDB_MODE=online<code> to enable cloud syncing."
      ],
      "text/plain": [
       "<IPython.core.display.HTML object>"
      ]
     },
     "metadata": {},
     "output_type": "display_data"
    },
    {
     "name": "stdout",
     "output_type": "stream",
     "text": [
      "Evaluation successfully, \n",
      "Round : 7 ,Accuracy : 0.1681818181818182 loss : 0.6023679938227098 \n",
      "Round {} 8\n",
      "Including clients: [55, 71, 28, 38, 91, 30, 67, 54, 13, 73, 37, 51, 90, 16, 83, 48, 82, 18, 32, 53, 92, 17, 61, 1, 81]\n",
      "Client 55 start Training\n",
      "Client 71 start Training\n",
      "Client 28 start Training\n",
      "Client 38 start Training\n",
      "Client 91 start Training\n",
      "Client 30 start Training\n",
      "Client 67 start Training\n",
      "Client 54 start Training\n",
      "Client 13 start Training\n",
      "Client 73 start Training\n",
      "Client 37 start Training\n",
      "Client 51 start Training\n",
      "Client 90 start Training\n",
      "Client 16 start Training\n",
      "Client 83 start Training\n",
      "Client 48 start Training\n",
      "Client 82 start Training\n",
      "Client 18 start Training\n",
      "Client 32 start Training\n",
      "Client 53 start Training\n",
      "Client 92 start Training\n",
      "Client 17 start Training\n",
      "Client 61 start Training\n",
      "Client 1 start Training\n",
      "Client 81 start Training\n",
      "Finish training. Collecting parameters...\n",
      "Clients updated ! Ready for next round\n"
     ]
    },
    {
     "data": {
      "text/html": [
       "Finishing last run (ID:38fmpkem) before initializing another..."
      ],
      "text/plain": [
       "<IPython.core.display.HTML object>"
      ]
     },
     "metadata": {},
     "output_type": "display_data"
    },
    {
     "data": {
      "text/html": [
       "Waiting for W&B process to finish... <strong style=\"color:green\">(success).</strong>"
      ],
      "text/plain": [
       "<IPython.core.display.HTML object>"
      ]
     },
     "metadata": {},
     "output_type": "display_data"
    },
    {
     "data": {
      "text/html": [
       "<style>\n",
       "    table.wandb td:nth-child(1) { padding: 0 10px; text-align: left ; width: auto;} td:nth-child(2) {text-align: left ; width: 100%}\n",
       "    .wandb-row { display: flex; flex-direction: row; flex-wrap: wrap; justify-content: flex-start; width: 100% }\n",
       "    .wandb-col { display: flex; flex-direction: column; flex-basis: 100%; flex: 1; padding: 10px; }\n",
       "    </style>\n",
       "<div class=\"wandb-row\"><div class=\"wandb-col\"><h3>Run history:</h3><br/><table class=\"wandb\"><tr><td>accuracy</td><td>▁</td></tr><tr><td>loss</td><td>▁</td></tr><tr><td>round</td><td>▁</td></tr></table><br/></div><div class=\"wandb-col\"><h3>Run summary:</h3><br/><table class=\"wandb\"><tr><td>accuracy</td><td>0.16818</td></tr><tr><td>loss</td><td>0.60237</td></tr><tr><td>round</td><td>7</td></tr></table><br/></div></div>"
      ],
      "text/plain": [
       "<IPython.core.display.HTML object>"
      ]
     },
     "metadata": {},
     "output_type": "display_data"
    },
    {
     "data": {
      "text/html": [
       "You can sync this run to the cloud by running:<br/><code>wandb sync f:\\Thesis\\Model train\\Federated_training\\wandb\\offline-run-20221215_211812-38fmpkem<code>"
      ],
      "text/plain": [
       "<IPython.core.display.HTML object>"
      ]
     },
     "metadata": {},
     "output_type": "display_data"
    },
    {
     "data": {
      "text/html": [
       "Find logs at: <code>.\\wandb\\offline-run-20221215_211812-38fmpkem\\logs</code>"
      ],
      "text/plain": [
       "<IPython.core.display.HTML object>"
      ]
     },
     "metadata": {},
     "output_type": "display_data"
    },
    {
     "data": {
      "text/html": [
       "Successfully finished last run (ID:38fmpkem). Initializing new run:<br/>"
      ],
      "text/plain": [
       "<IPython.core.display.HTML object>"
      ]
     },
     "metadata": {},
     "output_type": "display_data"
    },
    {
     "data": {
      "text/html": [
       "Tracking run with wandb version 0.13.5"
      ],
      "text/plain": [
       "<IPython.core.display.HTML object>"
      ]
     },
     "metadata": {},
     "output_type": "display_data"
    },
    {
     "data": {
      "text/html": [
       "W&B syncing is set to <code>`offline`<code> in this directory.  <br/>Run <code>`wandb online`<code> or set <code>WANDB_MODE=online<code> to enable cloud syncing."
      ],
      "text/plain": [
       "<IPython.core.display.HTML object>"
      ]
     },
     "metadata": {},
     "output_type": "display_data"
    },
    {
     "name": "stdout",
     "output_type": "stream",
     "text": [
      "model saved, best accuracy: 0.1711229946524064\n",
      "Evaluation successfully, \n",
      "Round : 8 ,Accuracy : 0.1711229946524064 loss : 0.628296050636526 \n",
      "Round {} 9\n",
      "Including clients: [93, 85, 82, 96, 32, 41, 63, 15, 37, 71, 98, 86, 69, 91, 1, 22, 19, 75, 18, 53, 80, 26, 59, 11, 81]\n",
      "Client 93 start Training\n",
      "Client 85 start Training\n",
      "Client 82 start Training\n",
      "Client 96 start Training\n",
      "Client 32 start Training\n",
      "Client 41 start Training\n",
      "Client 63 start Training\n",
      "Client 15 start Training\n",
      "Client 37 start Training\n",
      "Client 71 start Training\n",
      "Client 98 start Training\n",
      "Client 86 start Training\n",
      "Client 69 start Training\n",
      "Client 91 start Training\n",
      "Client 1 start Training\n",
      "Client 22 start Training\n",
      "Client 19 start Training\n",
      "Client 75 start Training\n",
      "Client 18 start Training\n",
      "Client 53 start Training\n",
      "Client 80 start Training\n",
      "Client 26 start Training\n",
      "Client 59 start Training\n",
      "Client 11 start Training\n",
      "Client 81 start Training\n",
      "Finish training. Collecting parameters...\n",
      "Clients updated ! Ready for next round\n"
     ]
    },
    {
     "data": {
      "text/html": [
       "Finishing last run (ID:3or0gt5n) before initializing another..."
      ],
      "text/plain": [
       "<IPython.core.display.HTML object>"
      ]
     },
     "metadata": {},
     "output_type": "display_data"
    },
    {
     "data": {
      "text/html": [
       "Waiting for W&B process to finish... <strong style=\"color:green\">(success).</strong>"
      ],
      "text/plain": [
       "<IPython.core.display.HTML object>"
      ]
     },
     "metadata": {},
     "output_type": "display_data"
    },
    {
     "data": {
      "text/html": [
       "<style>\n",
       "    table.wandb td:nth-child(1) { padding: 0 10px; text-align: left ; width: auto;} td:nth-child(2) {text-align: left ; width: 100%}\n",
       "    .wandb-row { display: flex; flex-direction: row; flex-wrap: wrap; justify-content: flex-start; width: 100% }\n",
       "    .wandb-col { display: flex; flex-direction: column; flex-basis: 100%; flex: 1; padding: 10px; }\n",
       "    </style>\n",
       "<div class=\"wandb-row\"><div class=\"wandb-col\"><h3>Run history:</h3><br/><table class=\"wandb\"><tr><td>accuracy</td><td>▁</td></tr><tr><td>loss</td><td>▁</td></tr><tr><td>round</td><td>▁</td></tr></table><br/></div><div class=\"wandb-col\"><h3>Run summary:</h3><br/><table class=\"wandb\"><tr><td>accuracy</td><td>0.17112</td></tr><tr><td>loss</td><td>0.6283</td></tr><tr><td>round</td><td>8</td></tr></table><br/></div></div>"
      ],
      "text/plain": [
       "<IPython.core.display.HTML object>"
      ]
     },
     "metadata": {},
     "output_type": "display_data"
    },
    {
     "data": {
      "text/html": [
       "You can sync this run to the cloud by running:<br/><code>wandb sync f:\\Thesis\\Model train\\Federated_training\\wandb\\offline-run-20221215_213227-3or0gt5n<code>"
      ],
      "text/plain": [
       "<IPython.core.display.HTML object>"
      ]
     },
     "metadata": {},
     "output_type": "display_data"
    },
    {
     "data": {
      "text/html": [
       "Find logs at: <code>.\\wandb\\offline-run-20221215_213227-3or0gt5n\\logs</code>"
      ],
      "text/plain": [
       "<IPython.core.display.HTML object>"
      ]
     },
     "metadata": {},
     "output_type": "display_data"
    },
    {
     "data": {
      "text/html": [
       "Successfully finished last run (ID:3or0gt5n). Initializing new run:<br/>"
      ],
      "text/plain": [
       "<IPython.core.display.HTML object>"
      ]
     },
     "metadata": {},
     "output_type": "display_data"
    },
    {
     "data": {
      "text/html": [
       "Tracking run with wandb version 0.13.5"
      ],
      "text/plain": [
       "<IPython.core.display.HTML object>"
      ]
     },
     "metadata": {},
     "output_type": "display_data"
    },
    {
     "data": {
      "text/html": [
       "W&B syncing is set to <code>`offline`<code> in this directory.  <br/>Run <code>`wandb online`<code> or set <code>WANDB_MODE=online<code> to enable cloud syncing."
      ],
      "text/plain": [
       "<IPython.core.display.HTML object>"
      ]
     },
     "metadata": {},
     "output_type": "display_data"
    },
    {
     "name": "stdout",
     "output_type": "stream",
     "text": [
      "model saved, best accuracy: 0.17326203208556148\n",
      "Evaluation successfully, \n",
      "Round : 9 ,Accuracy : 0.17326203208556148 loss : 0.6653354756016144 \n",
      "Round {} 10\n",
      "Including clients: [50, 7, 6, 90, 22, 72, 60, 37, 71, 49, 93, 57, 43, 83, 82, 1, 10, 87, 97, 88, 27, 35, 20, 28, 85]\n",
      "Client 50 start Training\n",
      "Client 7 start Training\n",
      "Client 6 start Training\n",
      "Client 90 start Training\n",
      "Client 22 start Training\n",
      "Client 72 start Training\n",
      "Client 60 start Training\n",
      "Client 37 start Training\n",
      "Client 71 start Training\n",
      "Client 49 start Training\n",
      "Client 93 start Training\n",
      "Client 57 start Training\n",
      "Client 43 start Training\n",
      "Client 83 start Training\n",
      "Client 82 start Training\n",
      "Client 1 start Training\n",
      "Client 10 start Training\n",
      "Client 87 start Training\n",
      "Client 97 start Training\n",
      "Client 88 start Training\n",
      "Client 27 start Training\n",
      "Client 35 start Training\n",
      "Client 20 start Training\n",
      "Client 28 start Training\n",
      "Client 85 start Training\n",
      "Finish training. Collecting parameters...\n",
      "Clients updated ! Ready for next round\n"
     ]
    },
    {
     "data": {
      "text/html": [
       "Finishing last run (ID:3gw732h7) before initializing another..."
      ],
      "text/plain": [
       "<IPython.core.display.HTML object>"
      ]
     },
     "metadata": {},
     "output_type": "display_data"
    },
    {
     "data": {
      "text/html": [
       "Waiting for W&B process to finish... <strong style=\"color:green\">(success).</strong>"
      ],
      "text/plain": [
       "<IPython.core.display.HTML object>"
      ]
     },
     "metadata": {},
     "output_type": "display_data"
    },
    {
     "data": {
      "text/html": [
       "<style>\n",
       "    table.wandb td:nth-child(1) { padding: 0 10px; text-align: left ; width: auto;} td:nth-child(2) {text-align: left ; width: 100%}\n",
       "    .wandb-row { display: flex; flex-direction: row; flex-wrap: wrap; justify-content: flex-start; width: 100% }\n",
       "    .wandb-col { display: flex; flex-direction: column; flex-basis: 100%; flex: 1; padding: 10px; }\n",
       "    </style>\n",
       "<div class=\"wandb-row\"><div class=\"wandb-col\"><h3>Run history:</h3><br/><table class=\"wandb\"><tr><td>accuracy</td><td>▁</td></tr><tr><td>loss</td><td>▁</td></tr><tr><td>round</td><td>▁</td></tr></table><br/></div><div class=\"wandb-col\"><h3>Run summary:</h3><br/><table class=\"wandb\"><tr><td>accuracy</td><td>0.17326</td></tr><tr><td>loss</td><td>0.66534</td></tr><tr><td>round</td><td>9</td></tr></table><br/></div></div>"
      ],
      "text/plain": [
       "<IPython.core.display.HTML object>"
      ]
     },
     "metadata": {},
     "output_type": "display_data"
    },
    {
     "data": {
      "text/html": [
       "You can sync this run to the cloud by running:<br/><code>wandb sync f:\\Thesis\\Model train\\Federated_training\\wandb\\offline-run-20221215_214509-3gw732h7<code>"
      ],
      "text/plain": [
       "<IPython.core.display.HTML object>"
      ]
     },
     "metadata": {},
     "output_type": "display_data"
    },
    {
     "data": {
      "text/html": [
       "Find logs at: <code>.\\wandb\\offline-run-20221215_214509-3gw732h7\\logs</code>"
      ],
      "text/plain": [
       "<IPython.core.display.HTML object>"
      ]
     },
     "metadata": {},
     "output_type": "display_data"
    },
    {
     "data": {
      "text/html": [
       "Successfully finished last run (ID:3gw732h7). Initializing new run:<br/>"
      ],
      "text/plain": [
       "<IPython.core.display.HTML object>"
      ]
     },
     "metadata": {},
     "output_type": "display_data"
    },
    {
     "data": {
      "text/html": [
       "Tracking run with wandb version 0.13.5"
      ],
      "text/plain": [
       "<IPython.core.display.HTML object>"
      ]
     },
     "metadata": {},
     "output_type": "display_data"
    },
    {
     "data": {
      "text/html": [
       "W&B syncing is set to <code>`offline`<code> in this directory.  <br/>Run <code>`wandb online`<code> or set <code>WANDB_MODE=online<code> to enable cloud syncing."
      ],
      "text/plain": [
       "<IPython.core.display.HTML object>"
      ]
     },
     "metadata": {},
     "output_type": "display_data"
    },
    {
     "name": "stdout",
     "output_type": "stream",
     "text": [
      "Evaluation successfully, \n",
      "Round : 10 ,Accuracy : 0.17245989304812834 loss : 0.6808738684590487 \n",
      "Round {} 11\n",
      "Including clients: [11, 55, 69, 80, 98, 85, 79, 9, 99, 36, 45, 84, 40, 6, 22, 7, 83, 52, 38, 93, 67, 90, 31, 63, 42]\n",
      "Client 11 start Training\n",
      "Client 55 start Training\n",
      "Client 69 start Training\n",
      "Client 80 start Training\n",
      "Client 98 start Training\n",
      "Client 85 start Training\n",
      "Client 79 start Training\n",
      "Client 9 start Training\n",
      "Client 99 start Training\n",
      "Client 36 start Training\n",
      "Client 45 start Training\n",
      "Client 84 start Training\n",
      "Client 40 start Training\n",
      "Client 6 start Training\n",
      "Client 22 start Training\n",
      "Client 7 start Training\n",
      "Client 83 start Training\n",
      "Client 52 start Training\n",
      "Client 38 start Training\n",
      "Client 93 start Training\n",
      "Client 67 start Training\n",
      "Client 90 start Training\n",
      "Client 31 start Training\n",
      "Client 63 start Training\n",
      "Client 42 start Training\n",
      "Finish training. Collecting parameters...\n",
      "Clients updated ! Ready for next round\n"
     ]
    },
    {
     "data": {
      "text/html": [
       "Finishing last run (ID:21omn41a) before initializing another..."
      ],
      "text/plain": [
       "<IPython.core.display.HTML object>"
      ]
     },
     "metadata": {},
     "output_type": "display_data"
    },
    {
     "data": {
      "text/html": [
       "Waiting for W&B process to finish... <strong style=\"color:green\">(success).</strong>"
      ],
      "text/plain": [
       "<IPython.core.display.HTML object>"
      ]
     },
     "metadata": {},
     "output_type": "display_data"
    },
    {
     "data": {
      "text/html": [
       "<style>\n",
       "    table.wandb td:nth-child(1) { padding: 0 10px; text-align: left ; width: auto;} td:nth-child(2) {text-align: left ; width: 100%}\n",
       "    .wandb-row { display: flex; flex-direction: row; flex-wrap: wrap; justify-content: flex-start; width: 100% }\n",
       "    .wandb-col { display: flex; flex-direction: column; flex-basis: 100%; flex: 1; padding: 10px; }\n",
       "    </style>\n",
       "<div class=\"wandb-row\"><div class=\"wandb-col\"><h3>Run history:</h3><br/><table class=\"wandb\"><tr><td>accuracy</td><td>▁</td></tr><tr><td>loss</td><td>▁</td></tr><tr><td>round</td><td>▁</td></tr></table><br/></div><div class=\"wandb-col\"><h3>Run summary:</h3><br/><table class=\"wandb\"><tr><td>accuracy</td><td>0.17246</td></tr><tr><td>loss</td><td>0.68087</td></tr><tr><td>round</td><td>10</td></tr></table><br/></div></div>"
      ],
      "text/plain": [
       "<IPython.core.display.HTML object>"
      ]
     },
     "metadata": {},
     "output_type": "display_data"
    },
    {
     "data": {
      "text/html": [
       "You can sync this run to the cloud by running:<br/><code>wandb sync f:\\Thesis\\Model train\\Federated_training\\wandb\\offline-run-20221215_215852-21omn41a<code>"
      ],
      "text/plain": [
       "<IPython.core.display.HTML object>"
      ]
     },
     "metadata": {},
     "output_type": "display_data"
    },
    {
     "data": {
      "text/html": [
       "Find logs at: <code>.\\wandb\\offline-run-20221215_215852-21omn41a\\logs</code>"
      ],
      "text/plain": [
       "<IPython.core.display.HTML object>"
      ]
     },
     "metadata": {},
     "output_type": "display_data"
    },
    {
     "data": {
      "text/html": [
       "Successfully finished last run (ID:21omn41a). Initializing new run:<br/>"
      ],
      "text/plain": [
       "<IPython.core.display.HTML object>"
      ]
     },
     "metadata": {},
     "output_type": "display_data"
    },
    {
     "data": {
      "text/html": [
       "Tracking run with wandb version 0.13.5"
      ],
      "text/plain": [
       "<IPython.core.display.HTML object>"
      ]
     },
     "metadata": {},
     "output_type": "display_data"
    },
    {
     "data": {
      "text/html": [
       "W&B syncing is set to <code>`offline`<code> in this directory.  <br/>Run <code>`wandb online`<code> or set <code>WANDB_MODE=online<code> to enable cloud syncing."
      ],
      "text/plain": [
       "<IPython.core.display.HTML object>"
      ]
     },
     "metadata": {},
     "output_type": "display_data"
    },
    {
     "name": "stdout",
     "output_type": "stream",
     "text": [
      "Evaluation successfully, \n",
      "Round : 11 ,Accuracy : 0.1711229946524064 loss : 0.6947002691381118 \n",
      "Round {} 12\n",
      "Including clients: [63, 20, 85, 13, 99, 37, 12, 53, 46, 91, 73, 75, 3, 24, 41, 57, 6, 77, 42, 67, 35, 68, 92, 29, 90]\n",
      "Client 63 start Training\n",
      "Client 20 start Training\n",
      "Client 85 start Training\n",
      "Client 13 start Training\n",
      "Client 99 start Training\n",
      "Client 37 start Training\n",
      "Client 12 start Training\n",
      "Client 53 start Training\n",
      "Client 46 start Training\n",
      "Client 91 start Training\n",
      "Client 73 start Training\n",
      "Client 75 start Training\n",
      "Client 3 start Training\n",
      "Client 24 start Training\n",
      "Client 41 start Training\n",
      "Client 57 start Training\n",
      "Client 6 start Training\n",
      "Client 77 start Training\n",
      "Client 42 start Training\n",
      "Client 67 start Training\n",
      "Client 35 start Training\n",
      "Client 68 start Training\n",
      "Client 92 start Training\n",
      "Client 29 start Training\n",
      "Client 90 start Training\n",
      "Finish training. Collecting parameters...\n",
      "Clients updated ! Ready for next round\n"
     ]
    },
    {
     "data": {
      "text/html": [
       "Finishing last run (ID:xmrkzb0b) before initializing another..."
      ],
      "text/plain": [
       "<IPython.core.display.HTML object>"
      ]
     },
     "metadata": {},
     "output_type": "display_data"
    },
    {
     "data": {
      "text/html": [
       "Waiting for W&B process to finish... <strong style=\"color:green\">(success).</strong>"
      ],
      "text/plain": [
       "<IPython.core.display.HTML object>"
      ]
     },
     "metadata": {},
     "output_type": "display_data"
    },
    {
     "data": {
      "text/html": [
       "<style>\n",
       "    table.wandb td:nth-child(1) { padding: 0 10px; text-align: left ; width: auto;} td:nth-child(2) {text-align: left ; width: 100%}\n",
       "    .wandb-row { display: flex; flex-direction: row; flex-wrap: wrap; justify-content: flex-start; width: 100% }\n",
       "    .wandb-col { display: flex; flex-direction: column; flex-basis: 100%; flex: 1; padding: 10px; }\n",
       "    </style>\n",
       "<div class=\"wandb-row\"><div class=\"wandb-col\"><h3>Run history:</h3><br/><table class=\"wandb\"><tr><td>accuracy</td><td>▁</td></tr><tr><td>loss</td><td>▁</td></tr><tr><td>round</td><td>▁</td></tr></table><br/></div><div class=\"wandb-col\"><h3>Run summary:</h3><br/><table class=\"wandb\"><tr><td>accuracy</td><td>0.17112</td></tr><tr><td>loss</td><td>0.6947</td></tr><tr><td>round</td><td>11</td></tr></table><br/></div></div>"
      ],
      "text/plain": [
       "<IPython.core.display.HTML object>"
      ]
     },
     "metadata": {},
     "output_type": "display_data"
    },
    {
     "data": {
      "text/html": [
       "You can sync this run to the cloud by running:<br/><code>wandb sync f:\\Thesis\\Model train\\Federated_training\\wandb\\offline-run-20221215_221249-xmrkzb0b<code>"
      ],
      "text/plain": [
       "<IPython.core.display.HTML object>"
      ]
     },
     "metadata": {},
     "output_type": "display_data"
    },
    {
     "data": {
      "text/html": [
       "Find logs at: <code>.\\wandb\\offline-run-20221215_221249-xmrkzb0b\\logs</code>"
      ],
      "text/plain": [
       "<IPython.core.display.HTML object>"
      ]
     },
     "metadata": {},
     "output_type": "display_data"
    },
    {
     "data": {
      "text/html": [
       "Successfully finished last run (ID:xmrkzb0b). Initializing new run:<br/>"
      ],
      "text/plain": [
       "<IPython.core.display.HTML object>"
      ]
     },
     "metadata": {},
     "output_type": "display_data"
    },
    {
     "data": {
      "text/html": [
       "Tracking run with wandb version 0.13.5"
      ],
      "text/plain": [
       "<IPython.core.display.HTML object>"
      ]
     },
     "metadata": {},
     "output_type": "display_data"
    },
    {
     "data": {
      "text/html": [
       "W&B syncing is set to <code>`offline`<code> in this directory.  <br/>Run <code>`wandb online`<code> or set <code>WANDB_MODE=online<code> to enable cloud syncing."
      ],
      "text/plain": [
       "<IPython.core.display.HTML object>"
      ]
     },
     "metadata": {},
     "output_type": "display_data"
    },
    {
     "name": "stdout",
     "output_type": "stream",
     "text": [
      "model saved, best accuracy: 0.1735294117647059\n",
      "Evaluation successfully, \n",
      "Round : 12 ,Accuracy : 0.1735294117647059 loss : 0.7288890165441176 \n",
      "Round {} 13\n",
      "Including clients: [87, 90, 8, 40, 98, 79, 46, 15, 30, 73, 11, 84, 13, 37, 70, 55, 44, 35, 49, 80, 91, 4, 99, 86, 94]\n",
      "Client 87 start Training\n",
      "Client 90 start Training\n",
      "Client 8 start Training\n",
      "Client 40 start Training\n",
      "Client 98 start Training\n",
      "Client 79 start Training\n",
      "Client 46 start Training\n",
      "Client 15 start Training\n",
      "Client 30 start Training\n",
      "Client 73 start Training\n",
      "Client 11 start Training\n",
      "Client 84 start Training\n",
      "Client 13 start Training\n",
      "Client 37 start Training\n",
      "Client 70 start Training\n",
      "Client 55 start Training\n",
      "Client 44 start Training\n",
      "Client 35 start Training\n",
      "Client 49 start Training\n",
      "Client 80 start Training\n",
      "Client 91 start Training\n",
      "Client 4 start Training\n",
      "Client 99 start Training\n",
      "Client 86 start Training\n",
      "Client 94 start Training\n",
      "Finish training. Collecting parameters...\n",
      "Clients updated ! Ready for next round\n"
     ]
    },
    {
     "data": {
      "text/html": [
       "Finishing last run (ID:38cv9g72) before initializing another..."
      ],
      "text/plain": [
       "<IPython.core.display.HTML object>"
      ]
     },
     "metadata": {},
     "output_type": "display_data"
    },
    {
     "data": {
      "text/html": [
       "Waiting for W&B process to finish... <strong style=\"color:green\">(success).</strong>"
      ],
      "text/plain": [
       "<IPython.core.display.HTML object>"
      ]
     },
     "metadata": {},
     "output_type": "display_data"
    },
    {
     "data": {
      "text/html": [
       "<style>\n",
       "    table.wandb td:nth-child(1) { padding: 0 10px; text-align: left ; width: auto;} td:nth-child(2) {text-align: left ; width: 100%}\n",
       "    .wandb-row { display: flex; flex-direction: row; flex-wrap: wrap; justify-content: flex-start; width: 100% }\n",
       "    .wandb-col { display: flex; flex-direction: column; flex-basis: 100%; flex: 1; padding: 10px; }\n",
       "    </style>\n",
       "<div class=\"wandb-row\"><div class=\"wandb-col\"><h3>Run history:</h3><br/><table class=\"wandb\"><tr><td>accuracy</td><td>▁</td></tr><tr><td>loss</td><td>▁</td></tr><tr><td>round</td><td>▁</td></tr></table><br/></div><div class=\"wandb-col\"><h3>Run summary:</h3><br/><table class=\"wandb\"><tr><td>accuracy</td><td>0.17353</td></tr><tr><td>loss</td><td>0.72889</td></tr><tr><td>round</td><td>12</td></tr></table><br/></div></div>"
      ],
      "text/plain": [
       "<IPython.core.display.HTML object>"
      ]
     },
     "metadata": {},
     "output_type": "display_data"
    },
    {
     "data": {
      "text/html": [
       "You can sync this run to the cloud by running:<br/><code>wandb sync f:\\Thesis\\Model train\\Federated_training\\wandb\\offline-run-20221215_222737-38cv9g72<code>"
      ],
      "text/plain": [
       "<IPython.core.display.HTML object>"
      ]
     },
     "metadata": {},
     "output_type": "display_data"
    },
    {
     "data": {
      "text/html": [
       "Find logs at: <code>.\\wandb\\offline-run-20221215_222737-38cv9g72\\logs</code>"
      ],
      "text/plain": [
       "<IPython.core.display.HTML object>"
      ]
     },
     "metadata": {},
     "output_type": "display_data"
    },
    {
     "data": {
      "text/html": [
       "Successfully finished last run (ID:38cv9g72). Initializing new run:<br/>"
      ],
      "text/plain": [
       "<IPython.core.display.HTML object>"
      ]
     },
     "metadata": {},
     "output_type": "display_data"
    },
    {
     "data": {
      "text/html": [
       "Tracking run with wandb version 0.13.5"
      ],
      "text/plain": [
       "<IPython.core.display.HTML object>"
      ]
     },
     "metadata": {},
     "output_type": "display_data"
    },
    {
     "data": {
      "text/html": [
       "W&B syncing is set to <code>`offline`<code> in this directory.  <br/>Run <code>`wandb online`<code> or set <code>WANDB_MODE=online<code> to enable cloud syncing."
      ],
      "text/plain": [
       "<IPython.core.display.HTML object>"
      ]
     },
     "metadata": {},
     "output_type": "display_data"
    },
    {
     "name": "stdout",
     "output_type": "stream",
     "text": [
      "model saved, best accuracy: 0.17433155080213905\n",
      "Evaluation successfully, \n",
      "Round : 13 ,Accuracy : 0.17433155080213905 loss : 0.7470110709016974 \n",
      "Round {} 14\n",
      "Including clients: [10, 28, 26, 84, 75, 20, 91, 3, 99, 98, 6, 86, 24, 41, 9, 96, 42, 92, 74, 1, 62, 69, 52, 8, 43]\n",
      "Client 10 start Training\n",
      "Client 28 start Training\n",
      "Client 26 start Training\n",
      "Client 84 start Training\n",
      "Client 75 start Training\n",
      "Client 20 start Training\n",
      "Client 91 start Training\n",
      "Client 3 start Training\n",
      "Client 99 start Training\n",
      "Client 98 start Training\n",
      "Client 6 start Training\n",
      "Client 86 start Training\n",
      "Client 24 start Training\n",
      "Client 41 start Training\n",
      "Client 9 start Training\n",
      "Client 96 start Training\n",
      "Client 42 start Training\n",
      "Client 92 start Training\n",
      "Client 74 start Training\n",
      "Client 1 start Training\n",
      "Client 62 start Training\n",
      "Client 69 start Training\n",
      "Client 52 start Training\n",
      "Client 8 start Training\n",
      "Client 43 start Training\n",
      "Finish training. Collecting parameters...\n",
      "Clients updated ! Ready for next round\n"
     ]
    },
    {
     "data": {
      "text/html": [
       "Finishing last run (ID:1xu5dj09) before initializing another..."
      ],
      "text/plain": [
       "<IPython.core.display.HTML object>"
      ]
     },
     "metadata": {},
     "output_type": "display_data"
    },
    {
     "data": {
      "text/html": [
       "Waiting for W&B process to finish... <strong style=\"color:green\">(success).</strong>"
      ],
      "text/plain": [
       "<IPython.core.display.HTML object>"
      ]
     },
     "metadata": {},
     "output_type": "display_data"
    },
    {
     "data": {
      "text/html": [
       "<style>\n",
       "    table.wandb td:nth-child(1) { padding: 0 10px; text-align: left ; width: auto;} td:nth-child(2) {text-align: left ; width: 100%}\n",
       "    .wandb-row { display: flex; flex-direction: row; flex-wrap: wrap; justify-content: flex-start; width: 100% }\n",
       "    .wandb-col { display: flex; flex-direction: column; flex-basis: 100%; flex: 1; padding: 10px; }\n",
       "    </style>\n",
       "<div class=\"wandb-row\"><div class=\"wandb-col\"><h3>Run history:</h3><br/><table class=\"wandb\"><tr><td>accuracy</td><td>▁</td></tr><tr><td>loss</td><td>▁</td></tr><tr><td>round</td><td>▁</td></tr></table><br/></div><div class=\"wandb-col\"><h3>Run summary:</h3><br/><table class=\"wandb\"><tr><td>accuracy</td><td>0.17433</td></tr><tr><td>loss</td><td>0.74701</td></tr><tr><td>round</td><td>13</td></tr></table><br/></div></div>"
      ],
      "text/plain": [
       "<IPython.core.display.HTML object>"
      ]
     },
     "metadata": {},
     "output_type": "display_data"
    },
    {
     "data": {
      "text/html": [
       "You can sync this run to the cloud by running:<br/><code>wandb sync f:\\Thesis\\Model train\\Federated_training\\wandb\\offline-run-20221215_224307-1xu5dj09<code>"
      ],
      "text/plain": [
       "<IPython.core.display.HTML object>"
      ]
     },
     "metadata": {},
     "output_type": "display_data"
    },
    {
     "data": {
      "text/html": [
       "Find logs at: <code>.\\wandb\\offline-run-20221215_224307-1xu5dj09\\logs</code>"
      ],
      "text/plain": [
       "<IPython.core.display.HTML object>"
      ]
     },
     "metadata": {},
     "output_type": "display_data"
    },
    {
     "data": {
      "text/html": [
       "Successfully finished last run (ID:1xu5dj09). Initializing new run:<br/>"
      ],
      "text/plain": [
       "<IPython.core.display.HTML object>"
      ]
     },
     "metadata": {},
     "output_type": "display_data"
    },
    {
     "data": {
      "text/html": [
       "Tracking run with wandb version 0.13.5"
      ],
      "text/plain": [
       "<IPython.core.display.HTML object>"
      ]
     },
     "metadata": {},
     "output_type": "display_data"
    },
    {
     "data": {
      "text/html": [
       "W&B syncing is set to <code>`offline`<code> in this directory.  <br/>Run <code>`wandb online`<code> or set <code>WANDB_MODE=online<code> to enable cloud syncing."
      ],
      "text/plain": [
       "<IPython.core.display.HTML object>"
      ]
     },
     "metadata": {},
     "output_type": "display_data"
    },
    {
     "name": "stdout",
     "output_type": "stream",
     "text": [
      "Evaluation successfully, \n",
      "Round : 14 ,Accuracy : 0.11229946524064172 loss : 0.7781609409951908 \n",
      "Round {} 15\n",
      "Including clients: [57, 16, 77, 88, 0, 39, 73, 87, 53, 2, 12, 49, 80, 37, 31, 64, 23, 26, 90, 54, 91, 48, 89, 97, 17]\n",
      "Client 57 start Training\n",
      "Client 16 start Training\n",
      "Client 77 start Training\n",
      "Client 88 start Training\n",
      "Client 0 start Training\n",
      "Client 39 start Training\n",
      "Client 73 start Training\n",
      "Client 87 start Training\n",
      "Client 53 start Training\n",
      "Client 2 start Training\n",
      "Client 12 start Training\n",
      "Client 49 start Training\n",
      "Client 80 start Training\n",
      "Client 37 start Training\n",
      "Client 31 start Training\n",
      "Client 64 start Training\n",
      "Client 23 start Training\n",
      "Client 26 start Training\n",
      "Client 90 start Training\n",
      "Client 54 start Training\n",
      "Client 91 start Training\n",
      "Client 48 start Training\n",
      "Client 89 start Training\n",
      "Client 97 start Training\n",
      "Client 17 start Training\n",
      "Finish training. Collecting parameters...\n",
      "Clients updated ! Ready for next round\n"
     ]
    },
    {
     "data": {
      "text/html": [
       "Finishing last run (ID:ch7z71h2) before initializing another..."
      ],
      "text/plain": [
       "<IPython.core.display.HTML object>"
      ]
     },
     "metadata": {},
     "output_type": "display_data"
    },
    {
     "data": {
      "text/html": [
       "Waiting for W&B process to finish... <strong style=\"color:green\">(success).</strong>"
      ],
      "text/plain": [
       "<IPython.core.display.HTML object>"
      ]
     },
     "metadata": {},
     "output_type": "display_data"
    },
    {
     "data": {
      "text/html": [
       "<style>\n",
       "    table.wandb td:nth-child(1) { padding: 0 10px; text-align: left ; width: auto;} td:nth-child(2) {text-align: left ; width: 100%}\n",
       "    .wandb-row { display: flex; flex-direction: row; flex-wrap: wrap; justify-content: flex-start; width: 100% }\n",
       "    .wandb-col { display: flex; flex-direction: column; flex-basis: 100%; flex: 1; padding: 10px; }\n",
       "    </style>\n",
       "<div class=\"wandb-row\"><div class=\"wandb-col\"><h3>Run history:</h3><br/><table class=\"wandb\"><tr><td>accuracy</td><td>▁</td></tr><tr><td>loss</td><td>▁</td></tr><tr><td>round</td><td>▁</td></tr></table><br/></div><div class=\"wandb-col\"><h3>Run summary:</h3><br/><table class=\"wandb\"><tr><td>accuracy</td><td>0.1123</td></tr><tr><td>loss</td><td>0.77816</td></tr><tr><td>round</td><td>14</td></tr></table><br/></div></div>"
      ],
      "text/plain": [
       "<IPython.core.display.HTML object>"
      ]
     },
     "metadata": {},
     "output_type": "display_data"
    },
    {
     "data": {
      "text/html": [
       "You can sync this run to the cloud by running:<br/><code>wandb sync f:\\Thesis\\Model train\\Federated_training\\wandb\\offline-run-20221215_225808-ch7z71h2<code>"
      ],
      "text/plain": [
       "<IPython.core.display.HTML object>"
      ]
     },
     "metadata": {},
     "output_type": "display_data"
    },
    {
     "data": {
      "text/html": [
       "Find logs at: <code>.\\wandb\\offline-run-20221215_225808-ch7z71h2\\logs</code>"
      ],
      "text/plain": [
       "<IPython.core.display.HTML object>"
      ]
     },
     "metadata": {},
     "output_type": "display_data"
    },
    {
     "data": {
      "text/html": [
       "Successfully finished last run (ID:ch7z71h2). Initializing new run:<br/>"
      ],
      "text/plain": [
       "<IPython.core.display.HTML object>"
      ]
     },
     "metadata": {},
     "output_type": "display_data"
    },
    {
     "data": {
      "text/html": [
       "Tracking run with wandb version 0.13.5"
      ],
      "text/plain": [
       "<IPython.core.display.HTML object>"
      ]
     },
     "metadata": {},
     "output_type": "display_data"
    },
    {
     "data": {
      "text/html": [
       "W&B syncing is set to <code>`offline`<code> in this directory.  <br/>Run <code>`wandb online`<code> or set <code>WANDB_MODE=online<code> to enable cloud syncing."
      ],
      "text/plain": [
       "<IPython.core.display.HTML object>"
      ]
     },
     "metadata": {},
     "output_type": "display_data"
    },
    {
     "name": "stdout",
     "output_type": "stream",
     "text": [
      "Evaluation successfully, \n",
      "Round : 15 ,Accuracy : 0.16737967914438506 loss : 0.8085002537398415 \n",
      "Round {} 16\n",
      "Including clients: [37, 60, 5, 76, 17, 6, 55, 28, 86, 82, 51, 21, 81, 42, 83, 31, 99, 80, 10, 36, 4, 33, 0, 16, 79]\n",
      "Client 37 start Training\n",
      "Client 60 start Training\n",
      "Client 5 start Training\n",
      "Client 76 start Training\n",
      "Client 17 start Training\n",
      "Client 6 start Training\n",
      "Client 55 start Training\n",
      "Client 28 start Training\n",
      "Client 86 start Training\n",
      "Client 82 start Training\n",
      "Client 51 start Training\n",
      "Client 21 start Training\n",
      "Client 81 start Training\n",
      "Client 42 start Training\n",
      "Client 83 start Training\n",
      "Client 31 start Training\n",
      "Client 99 start Training\n",
      "Client 80 start Training\n",
      "Client 10 start Training\n",
      "Client 36 start Training\n",
      "Client 4 start Training\n",
      "Client 33 start Training\n",
      "Client 0 start Training\n",
      "Client 16 start Training\n",
      "Client 79 start Training\n",
      "Finish training. Collecting parameters...\n",
      "Clients updated ! Ready for next round\n"
     ]
    },
    {
     "data": {
      "text/html": [
       "Finishing last run (ID:3oa7uqwo) before initializing another..."
      ],
      "text/plain": [
       "<IPython.core.display.HTML object>"
      ]
     },
     "metadata": {},
     "output_type": "display_data"
    },
    {
     "data": {
      "text/html": [
       "Waiting for W&B process to finish... <strong style=\"color:green\">(success).</strong>"
      ],
      "text/plain": [
       "<IPython.core.display.HTML object>"
      ]
     },
     "metadata": {},
     "output_type": "display_data"
    },
    {
     "data": {
      "text/html": [
       "<style>\n",
       "    table.wandb td:nth-child(1) { padding: 0 10px; text-align: left ; width: auto;} td:nth-child(2) {text-align: left ; width: 100%}\n",
       "    .wandb-row { display: flex; flex-direction: row; flex-wrap: wrap; justify-content: flex-start; width: 100% }\n",
       "    .wandb-col { display: flex; flex-direction: column; flex-basis: 100%; flex: 1; padding: 10px; }\n",
       "    </style>\n",
       "<div class=\"wandb-row\"><div class=\"wandb-col\"><h3>Run history:</h3><br/><table class=\"wandb\"><tr><td>accuracy</td><td>▁</td></tr><tr><td>loss</td><td>▁</td></tr><tr><td>round</td><td>▁</td></tr></table><br/></div><div class=\"wandb-col\"><h3>Run summary:</h3><br/><table class=\"wandb\"><tr><td>accuracy</td><td>0.16738</td></tr><tr><td>loss</td><td>0.8085</td></tr><tr><td>round</td><td>15</td></tr></table><br/></div></div>"
      ],
      "text/plain": [
       "<IPython.core.display.HTML object>"
      ]
     },
     "metadata": {},
     "output_type": "display_data"
    },
    {
     "data": {
      "text/html": [
       "You can sync this run to the cloud by running:<br/><code>wandb sync f:\\Thesis\\Model train\\Federated_training\\wandb\\offline-run-20221215_231441-3oa7uqwo<code>"
      ],
      "text/plain": [
       "<IPython.core.display.HTML object>"
      ]
     },
     "metadata": {},
     "output_type": "display_data"
    },
    {
     "data": {
      "text/html": [
       "Find logs at: <code>.\\wandb\\offline-run-20221215_231441-3oa7uqwo\\logs</code>"
      ],
      "text/plain": [
       "<IPython.core.display.HTML object>"
      ]
     },
     "metadata": {},
     "output_type": "display_data"
    },
    {
     "data": {
      "text/html": [
       "Successfully finished last run (ID:3oa7uqwo). Initializing new run:<br/>"
      ],
      "text/plain": [
       "<IPython.core.display.HTML object>"
      ]
     },
     "metadata": {},
     "output_type": "display_data"
    },
    {
     "data": {
      "text/html": [
       "Tracking run with wandb version 0.13.5"
      ],
      "text/plain": [
       "<IPython.core.display.HTML object>"
      ]
     },
     "metadata": {},
     "output_type": "display_data"
    },
    {
     "data": {
      "text/html": [
       "W&B syncing is set to <code>`offline`<code> in this directory.  <br/>Run <code>`wandb online`<code> or set <code>WANDB_MODE=online<code> to enable cloud syncing."
      ],
      "text/plain": [
       "<IPython.core.display.HTML object>"
      ]
     },
     "metadata": {},
     "output_type": "display_data"
    },
    {
     "name": "stdout",
     "output_type": "stream",
     "text": [
      "Evaluation successfully, \n",
      "Round : 16 ,Accuracy : 0.10427807486631016 loss : 0.8382412579289095 \n",
      "Round {} 17\n",
      "Including clients: [48, 79, 28, 62, 58, 46, 9, 69, 57, 53, 11, 2, 51, 3, 89, 74, 27, 32, 15, 56, 80, 1, 31, 67, 63]\n",
      "Client 48 start Training\n",
      "Client 79 start Training\n",
      "Client 28 start Training\n",
      "Client 62 start Training\n",
      "Client 58 start Training\n",
      "Client 46 start Training\n",
      "Client 9 start Training\n",
      "Client 69 start Training\n",
      "Client 57 start Training\n",
      "Client 53 start Training\n",
      "Client 11 start Training\n",
      "Client 2 start Training\n",
      "Client 51 start Training\n",
      "Client 3 start Training\n",
      "Client 89 start Training\n",
      "Client 74 start Training\n",
      "Client 27 start Training\n",
      "Client 32 start Training\n",
      "Client 15 start Training\n",
      "Client 56 start Training\n",
      "Client 80 start Training\n",
      "Client 1 start Training\n",
      "Client 31 start Training\n",
      "Client 67 start Training\n",
      "Client 63 start Training\n",
      "Finish training. Collecting parameters...\n",
      "Clients updated ! Ready for next round\n"
     ]
    },
    {
     "data": {
      "text/html": [
       "Finishing last run (ID:2exhrrn8) before initializing another..."
      ],
      "text/plain": [
       "<IPython.core.display.HTML object>"
      ]
     },
     "metadata": {},
     "output_type": "display_data"
    },
    {
     "data": {
      "text/html": [
       "Waiting for W&B process to finish... <strong style=\"color:green\">(success).</strong>"
      ],
      "text/plain": [
       "<IPython.core.display.HTML object>"
      ]
     },
     "metadata": {},
     "output_type": "display_data"
    },
    {
     "data": {
      "text/html": [
       "<style>\n",
       "    table.wandb td:nth-child(1) { padding: 0 10px; text-align: left ; width: auto;} td:nth-child(2) {text-align: left ; width: 100%}\n",
       "    .wandb-row { display: flex; flex-direction: row; flex-wrap: wrap; justify-content: flex-start; width: 100% }\n",
       "    .wandb-col { display: flex; flex-direction: column; flex-basis: 100%; flex: 1; padding: 10px; }\n",
       "    </style>\n",
       "<div class=\"wandb-row\"><div class=\"wandb-col\"><h3>Run history:</h3><br/><table class=\"wandb\"><tr><td>accuracy</td><td>▁</td></tr><tr><td>loss</td><td>▁</td></tr><tr><td>round</td><td>▁</td></tr></table><br/></div><div class=\"wandb-col\"><h3>Run summary:</h3><br/><table class=\"wandb\"><tr><td>accuracy</td><td>0.10428</td></tr><tr><td>loss</td><td>0.83824</td></tr><tr><td>round</td><td>16</td></tr></table><br/></div></div>"
      ],
      "text/plain": [
       "<IPython.core.display.HTML object>"
      ]
     },
     "metadata": {},
     "output_type": "display_data"
    },
    {
     "data": {
      "text/html": [
       "You can sync this run to the cloud by running:<br/><code>wandb sync f:\\Thesis\\Model train\\Federated_training\\wandb\\offline-run-20221215_232946-2exhrrn8<code>"
      ],
      "text/plain": [
       "<IPython.core.display.HTML object>"
      ]
     },
     "metadata": {},
     "output_type": "display_data"
    },
    {
     "data": {
      "text/html": [
       "Find logs at: <code>.\\wandb\\offline-run-20221215_232946-2exhrrn8\\logs</code>"
      ],
      "text/plain": [
       "<IPython.core.display.HTML object>"
      ]
     },
     "metadata": {},
     "output_type": "display_data"
    },
    {
     "data": {
      "text/html": [
       "Successfully finished last run (ID:2exhrrn8). Initializing new run:<br/>"
      ],
      "text/plain": [
       "<IPython.core.display.HTML object>"
      ]
     },
     "metadata": {},
     "output_type": "display_data"
    },
    {
     "data": {
      "text/html": [
       "Tracking run with wandb version 0.13.5"
      ],
      "text/plain": [
       "<IPython.core.display.HTML object>"
      ]
     },
     "metadata": {},
     "output_type": "display_data"
    },
    {
     "data": {
      "text/html": [
       "W&B syncing is set to <code>`offline`<code> in this directory.  <br/>Run <code>`wandb online`<code> or set <code>WANDB_MODE=online<code> to enable cloud syncing."
      ],
      "text/plain": [
       "<IPython.core.display.HTML object>"
      ]
     },
     "metadata": {},
     "output_type": "display_data"
    },
    {
     "name": "stdout",
     "output_type": "stream",
     "text": [
      "Evaluation successfully, \n",
      "Round : 17 ,Accuracy : 0.027807486631016044 loss : 0.8719330544777733 \n",
      "Round {} 18\n",
      "Including clients: [78, 99, 70, 13, 42, 51, 36, 29, 49, 22, 75, 68, 95, 57, 60, 56, 72, 94, 67, 88, 52, 27, 31, 69, 50]\n",
      "Client 78 start Training\n",
      "Client 99 start Training\n",
      "Client 70 start Training\n",
      "Client 13 start Training\n",
      "Client 42 start Training\n",
      "Client 51 start Training\n",
      "Client 36 start Training\n",
      "Client 29 start Training\n",
      "Client 49 start Training\n",
      "Client 22 start Training\n",
      "Client 75 start Training\n",
      "Client 68 start Training\n",
      "Client 95 start Training\n",
      "Client 57 start Training\n",
      "Client 60 start Training\n",
      "Client 56 start Training\n",
      "Client 72 start Training\n",
      "Client 94 start Training\n",
      "Client 67 start Training\n",
      "Client 88 start Training\n",
      "Client 52 start Training\n",
      "Client 27 start Training\n",
      "Client 31 start Training\n",
      "Client 69 start Training\n",
      "Client 50 start Training\n",
      "Finish training. Collecting parameters...\n",
      "Clients updated ! Ready for next round\n"
     ]
    },
    {
     "data": {
      "text/html": [
       "Finishing last run (ID:1dvhzqx3) before initializing another..."
      ],
      "text/plain": [
       "<IPython.core.display.HTML object>"
      ]
     },
     "metadata": {},
     "output_type": "display_data"
    },
    {
     "data": {
      "text/html": [
       "Waiting for W&B process to finish... <strong style=\"color:green\">(success).</strong>"
      ],
      "text/plain": [
       "<IPython.core.display.HTML object>"
      ]
     },
     "metadata": {},
     "output_type": "display_data"
    },
    {
     "data": {
      "text/html": [
       "<style>\n",
       "    table.wandb td:nth-child(1) { padding: 0 10px; text-align: left ; width: auto;} td:nth-child(2) {text-align: left ; width: 100%}\n",
       "    .wandb-row { display: flex; flex-direction: row; flex-wrap: wrap; justify-content: flex-start; width: 100% }\n",
       "    .wandb-col { display: flex; flex-direction: column; flex-basis: 100%; flex: 1; padding: 10px; }\n",
       "    </style>\n",
       "<div class=\"wandb-row\"><div class=\"wandb-col\"><h3>Run history:</h3><br/><table class=\"wandb\"><tr><td>accuracy</td><td>▁</td></tr><tr><td>loss</td><td>▁</td></tr><tr><td>round</td><td>▁</td></tr></table><br/></div><div class=\"wandb-col\"><h3>Run summary:</h3><br/><table class=\"wandb\"><tr><td>accuracy</td><td>0.02781</td></tr><tr><td>loss</td><td>0.87193</td></tr><tr><td>round</td><td>17</td></tr></table><br/></div></div>"
      ],
      "text/plain": [
       "<IPython.core.display.HTML object>"
      ]
     },
     "metadata": {},
     "output_type": "display_data"
    },
    {
     "data": {
      "text/html": [
       "You can sync this run to the cloud by running:<br/><code>wandb sync f:\\Thesis\\Model train\\Federated_training\\wandb\\offline-run-20221215_234237-1dvhzqx3<code>"
      ],
      "text/plain": [
       "<IPython.core.display.HTML object>"
      ]
     },
     "metadata": {},
     "output_type": "display_data"
    },
    {
     "data": {
      "text/html": [
       "Find logs at: <code>.\\wandb\\offline-run-20221215_234237-1dvhzqx3\\logs</code>"
      ],
      "text/plain": [
       "<IPython.core.display.HTML object>"
      ]
     },
     "metadata": {},
     "output_type": "display_data"
    },
    {
     "data": {
      "text/html": [
       "Successfully finished last run (ID:1dvhzqx3). Initializing new run:<br/>"
      ],
      "text/plain": [
       "<IPython.core.display.HTML object>"
      ]
     },
     "metadata": {},
     "output_type": "display_data"
    },
    {
     "data": {
      "text/html": [
       "Tracking run with wandb version 0.13.5"
      ],
      "text/plain": [
       "<IPython.core.display.HTML object>"
      ]
     },
     "metadata": {},
     "output_type": "display_data"
    },
    {
     "data": {
      "text/html": [
       "W&B syncing is set to <code>`offline`<code> in this directory.  <br/>Run <code>`wandb online`<code> or set <code>WANDB_MODE=online<code> to enable cloud syncing."
      ],
      "text/plain": [
       "<IPython.core.display.HTML object>"
      ]
     },
     "metadata": {},
     "output_type": "display_data"
    },
    {
     "name": "stdout",
     "output_type": "stream",
     "text": [
      "Evaluation successfully, \n",
      "Round : 18 ,Accuracy : 0.07459893048128344 loss : 0.8734090605521585 \n",
      "Round {} 19\n",
      "Including clients: [26, 47, 10, 76, 81, 12, 7, 1, 19, 28, 89, 78, 29, 57, 95, 31, 30, 51, 20, 84, 42, 45, 8, 69, 75]\n",
      "Client 26 start Training\n",
      "Client 47 start Training\n",
      "Client 10 start Training\n",
      "Client 76 start Training\n",
      "Client 81 start Training\n",
      "Client 12 start Training\n",
      "Client 7 start Training\n",
      "Client 1 start Training\n",
      "Client 19 start Training\n",
      "Client 28 start Training\n",
      "Client 89 start Training\n",
      "Client 78 start Training\n",
      "Client 29 start Training\n",
      "Client 57 start Training\n",
      "Client 95 start Training\n",
      "Client 31 start Training\n",
      "Client 30 start Training\n",
      "Client 51 start Training\n",
      "Client 20 start Training\n",
      "Client 84 start Training\n",
      "Client 42 start Training\n",
      "Client 45 start Training\n",
      "Client 8 start Training\n",
      "Client 69 start Training\n",
      "Client 75 start Training\n",
      "Finish training. Collecting parameters...\n",
      "Clients updated ! Ready for next round\n"
     ]
    },
    {
     "data": {
      "text/html": [
       "Finishing last run (ID:1ap7oh1y) before initializing another..."
      ],
      "text/plain": [
       "<IPython.core.display.HTML object>"
      ]
     },
     "metadata": {},
     "output_type": "display_data"
    },
    {
     "data": {
      "text/html": [
       "Waiting for W&B process to finish... <strong style=\"color:green\">(success).</strong>"
      ],
      "text/plain": [
       "<IPython.core.display.HTML object>"
      ]
     },
     "metadata": {},
     "output_type": "display_data"
    },
    {
     "data": {
      "text/html": [
       "<style>\n",
       "    table.wandb td:nth-child(1) { padding: 0 10px; text-align: left ; width: auto;} td:nth-child(2) {text-align: left ; width: 100%}\n",
       "    .wandb-row { display: flex; flex-direction: row; flex-wrap: wrap; justify-content: flex-start; width: 100% }\n",
       "    .wandb-col { display: flex; flex-direction: column; flex-basis: 100%; flex: 1; padding: 10px; }\n",
       "    </style>\n",
       "<div class=\"wandb-row\"><div class=\"wandb-col\"><h3>Run history:</h3><br/><table class=\"wandb\"><tr><td>accuracy</td><td>▁</td></tr><tr><td>loss</td><td>▁</td></tr><tr><td>round</td><td>▁</td></tr></table><br/></div><div class=\"wandb-col\"><h3>Run summary:</h3><br/><table class=\"wandb\"><tr><td>accuracy</td><td>0.0746</td></tr><tr><td>loss</td><td>0.87341</td></tr><tr><td>round</td><td>18</td></tr></table><br/></div></div>"
      ],
      "text/plain": [
       "<IPython.core.display.HTML object>"
      ]
     },
     "metadata": {},
     "output_type": "display_data"
    },
    {
     "data": {
      "text/html": [
       "You can sync this run to the cloud by running:<br/><code>wandb sync f:\\Thesis\\Model train\\Federated_training\\wandb\\offline-run-20221215_235551-1ap7oh1y<code>"
      ],
      "text/plain": [
       "<IPython.core.display.HTML object>"
      ]
     },
     "metadata": {},
     "output_type": "display_data"
    },
    {
     "data": {
      "text/html": [
       "Find logs at: <code>.\\wandb\\offline-run-20221215_235551-1ap7oh1y\\logs</code>"
      ],
      "text/plain": [
       "<IPython.core.display.HTML object>"
      ]
     },
     "metadata": {},
     "output_type": "display_data"
    },
    {
     "data": {
      "text/html": [
       "Successfully finished last run (ID:1ap7oh1y). Initializing new run:<br/>"
      ],
      "text/plain": [
       "<IPython.core.display.HTML object>"
      ]
     },
     "metadata": {},
     "output_type": "display_data"
    },
    {
     "data": {
      "text/html": [
       "Tracking run with wandb version 0.13.5"
      ],
      "text/plain": [
       "<IPython.core.display.HTML object>"
      ]
     },
     "metadata": {},
     "output_type": "display_data"
    },
    {
     "data": {
      "text/html": [
       "W&B syncing is set to <code>`offline`<code> in this directory.  <br/>Run <code>`wandb online`<code> or set <code>WANDB_MODE=online<code> to enable cloud syncing."
      ],
      "text/plain": [
       "<IPython.core.display.HTML object>"
      ]
     },
     "metadata": {},
     "output_type": "display_data"
    },
    {
     "name": "stdout",
     "output_type": "stream",
     "text": [
      "Evaluation successfully, \n",
      "Round : 19 ,Accuracy : 0.048395721925133695 loss : 0.8988175436774677 \n",
      "Round {} 20\n",
      "Including clients: [31, 83, 86, 44, 4, 91, 76, 23, 80, 93, 94, 77, 26, 50, 19, 24, 51, 30, 89, 78, 87, 6, 75, 59, 54]\n",
      "Client 31 start Training\n",
      "Client 83 start Training\n",
      "Client 86 start Training\n",
      "Client 44 start Training\n",
      "Client 4 start Training\n",
      "Client 91 start Training\n",
      "Client 76 start Training\n",
      "Client 23 start Training\n",
      "Client 80 start Training\n",
      "Client 93 start Training\n",
      "Client 94 start Training\n",
      "Client 77 start Training\n",
      "Client 26 start Training\n",
      "Client 50 start Training\n",
      "Client 19 start Training\n",
      "Client 24 start Training\n",
      "Client 51 start Training\n",
      "Client 30 start Training\n",
      "Client 89 start Training\n",
      "Client 78 start Training\n",
      "Client 87 start Training\n",
      "Client 6 start Training\n",
      "Client 75 start Training\n",
      "Client 59 start Training\n",
      "Client 54 start Training\n",
      "Finish training. Collecting parameters...\n",
      "Clients updated ! Ready for next round\n"
     ]
    },
    {
     "data": {
      "text/html": [
       "Finishing last run (ID:3ux32x4n) before initializing another..."
      ],
      "text/plain": [
       "<IPython.core.display.HTML object>"
      ]
     },
     "metadata": {},
     "output_type": "display_data"
    },
    {
     "data": {
      "text/html": [
       "Waiting for W&B process to finish... <strong style=\"color:green\">(success).</strong>"
      ],
      "text/plain": [
       "<IPython.core.display.HTML object>"
      ]
     },
     "metadata": {},
     "output_type": "display_data"
    },
    {
     "data": {
      "text/html": [
       "<style>\n",
       "    table.wandb td:nth-child(1) { padding: 0 10px; text-align: left ; width: auto;} td:nth-child(2) {text-align: left ; width: 100%}\n",
       "    .wandb-row { display: flex; flex-direction: row; flex-wrap: wrap; justify-content: flex-start; width: 100% }\n",
       "    .wandb-col { display: flex; flex-direction: column; flex-basis: 100%; flex: 1; padding: 10px; }\n",
       "    </style>\n",
       "<div class=\"wandb-row\"><div class=\"wandb-col\"><h3>Run history:</h3><br/><table class=\"wandb\"><tr><td>accuracy</td><td>▁</td></tr><tr><td>loss</td><td>▁</td></tr><tr><td>round</td><td>▁</td></tr></table><br/></div><div class=\"wandb-col\"><h3>Run summary:</h3><br/><table class=\"wandb\"><tr><td>accuracy</td><td>0.0484</td></tr><tr><td>loss</td><td>0.89882</td></tr><tr><td>round</td><td>19</td></tr></table><br/></div></div>"
      ],
      "text/plain": [
       "<IPython.core.display.HTML object>"
      ]
     },
     "metadata": {},
     "output_type": "display_data"
    },
    {
     "data": {
      "text/html": [
       "You can sync this run to the cloud by running:<br/><code>wandb sync f:\\Thesis\\Model train\\Federated_training\\wandb\\offline-run-20221216_000913-3ux32x4n<code>"
      ],
      "text/plain": [
       "<IPython.core.display.HTML object>"
      ]
     },
     "metadata": {},
     "output_type": "display_data"
    },
    {
     "data": {
      "text/html": [
       "Find logs at: <code>.\\wandb\\offline-run-20221216_000913-3ux32x4n\\logs</code>"
      ],
      "text/plain": [
       "<IPython.core.display.HTML object>"
      ]
     },
     "metadata": {},
     "output_type": "display_data"
    },
    {
     "data": {
      "text/html": [
       "Successfully finished last run (ID:3ux32x4n). Initializing new run:<br/>"
      ],
      "text/plain": [
       "<IPython.core.display.HTML object>"
      ]
     },
     "metadata": {},
     "output_type": "display_data"
    },
    {
     "data": {
      "text/html": [
       "Tracking run with wandb version 0.13.5"
      ],
      "text/plain": [
       "<IPython.core.display.HTML object>"
      ]
     },
     "metadata": {},
     "output_type": "display_data"
    },
    {
     "data": {
      "text/html": [
       "W&B syncing is set to <code>`offline`<code> in this directory.  <br/>Run <code>`wandb online`<code> or set <code>WANDB_MODE=online<code> to enable cloud syncing."
      ],
      "text/plain": [
       "<IPython.core.display.HTML object>"
      ]
     },
     "metadata": {},
     "output_type": "display_data"
    },
    {
     "name": "stdout",
     "output_type": "stream",
     "text": [
      "Evaluation successfully, \n",
      "Round : 20 ,Accuracy : 0.1181818181818182 loss : 0.9149381118343476 \n",
      "Round {} 21\n",
      "Including clients: [83, 4, 90, 24, 59, 39, 15, 86, 14, 36, 49, 2, 87, 89, 58, 96, 97, 11, 37, 92, 93, 23, 0, 20, 84]\n",
      "Client 83 start Training\n",
      "Client 4 start Training\n",
      "Client 90 start Training\n",
      "Client 24 start Training\n",
      "Client 59 start Training\n",
      "Client 39 start Training\n",
      "Client 15 start Training\n",
      "Client 86 start Training\n",
      "Client 14 start Training\n",
      "Client 36 start Training\n",
      "Client 49 start Training\n",
      "Client 2 start Training\n",
      "Client 87 start Training\n",
      "Client 89 start Training\n",
      "Client 58 start Training\n",
      "Client 96 start Training\n",
      "Client 97 start Training\n",
      "Client 11 start Training\n",
      "Client 37 start Training\n",
      "Client 92 start Training\n",
      "Client 93 start Training\n",
      "Client 23 start Training\n",
      "Client 0 start Training\n",
      "Client 20 start Training\n",
      "Client 84 start Training\n",
      "Finish training. Collecting parameters...\n",
      "Clients updated ! Ready for next round\n"
     ]
    },
    {
     "data": {
      "text/html": [
       "Finishing last run (ID:2so9f1oi) before initializing another..."
      ],
      "text/plain": [
       "<IPython.core.display.HTML object>"
      ]
     },
     "metadata": {},
     "output_type": "display_data"
    },
    {
     "data": {
      "text/html": [
       "Waiting for W&B process to finish... <strong style=\"color:green\">(success).</strong>"
      ],
      "text/plain": [
       "<IPython.core.display.HTML object>"
      ]
     },
     "metadata": {},
     "output_type": "display_data"
    },
    {
     "data": {
      "text/html": [
       "<style>\n",
       "    table.wandb td:nth-child(1) { padding: 0 10px; text-align: left ; width: auto;} td:nth-child(2) {text-align: left ; width: 100%}\n",
       "    .wandb-row { display: flex; flex-direction: row; flex-wrap: wrap; justify-content: flex-start; width: 100% }\n",
       "    .wandb-col { display: flex; flex-direction: column; flex-basis: 100%; flex: 1; padding: 10px; }\n",
       "    </style>\n",
       "<div class=\"wandb-row\"><div class=\"wandb-col\"><h3>Run history:</h3><br/><table class=\"wandb\"><tr><td>accuracy</td><td>▁</td></tr><tr><td>loss</td><td>▁</td></tr><tr><td>round</td><td>▁</td></tr></table><br/></div><div class=\"wandb-col\"><h3>Run summary:</h3><br/><table class=\"wandb\"><tr><td>accuracy</td><td>0.11818</td></tr><tr><td>loss</td><td>0.91494</td></tr><tr><td>round</td><td>20</td></tr></table><br/></div></div>"
      ],
      "text/plain": [
       "<IPython.core.display.HTML object>"
      ]
     },
     "metadata": {},
     "output_type": "display_data"
    },
    {
     "data": {
      "text/html": [
       "You can sync this run to the cloud by running:<br/><code>wandb sync f:\\Thesis\\Model train\\Federated_training\\wandb\\offline-run-20221216_002332-2so9f1oi<code>"
      ],
      "text/plain": [
       "<IPython.core.display.HTML object>"
      ]
     },
     "metadata": {},
     "output_type": "display_data"
    },
    {
     "data": {
      "text/html": [
       "Find logs at: <code>.\\wandb\\offline-run-20221216_002332-2so9f1oi\\logs</code>"
      ],
      "text/plain": [
       "<IPython.core.display.HTML object>"
      ]
     },
     "metadata": {},
     "output_type": "display_data"
    },
    {
     "data": {
      "text/html": [
       "Successfully finished last run (ID:2so9f1oi). Initializing new run:<br/>"
      ],
      "text/plain": [
       "<IPython.core.display.HTML object>"
      ]
     },
     "metadata": {},
     "output_type": "display_data"
    },
    {
     "data": {
      "text/html": [
       "Tracking run with wandb version 0.13.5"
      ],
      "text/plain": [
       "<IPython.core.display.HTML object>"
      ]
     },
     "metadata": {},
     "output_type": "display_data"
    },
    {
     "data": {
      "text/html": [
       "W&B syncing is set to <code>`offline`<code> in this directory.  <br/>Run <code>`wandb online`<code> or set <code>WANDB_MODE=online<code> to enable cloud syncing."
      ],
      "text/plain": [
       "<IPython.core.display.HTML object>"
      ]
     },
     "metadata": {},
     "output_type": "display_data"
    },
    {
     "name": "stdout",
     "output_type": "stream",
     "text": [
      "Evaluation successfully, \n",
      "Round : 21 ,Accuracy : 0.1700534759358289 loss : 0.9506146995460286 \n",
      "Round {} 22\n",
      "Including clients: [45, 55, 38, 66, 64, 81, 41, 67, 65, 24, 97, 73, 60, 42, 46, 92, 95, 13, 29, 59, 17, 50, 74, 11, 15]\n",
      "Client 45 start Training\n",
      "Client 55 start Training\n",
      "Client 38 start Training\n",
      "Client 66 start Training\n",
      "Client 64 start Training\n",
      "Client 81 start Training\n",
      "Client 41 start Training\n",
      "Client 67 start Training\n",
      "Client 65 start Training\n",
      "Client 24 start Training\n",
      "Client 97 start Training\n",
      "Client 73 start Training\n",
      "Client 60 start Training\n",
      "Client 42 start Training\n",
      "Client 46 start Training\n",
      "Client 92 start Training\n",
      "Client 95 start Training\n",
      "Client 13 start Training\n",
      "Client 29 start Training\n",
      "Client 59 start Training\n",
      "Client 17 start Training\n",
      "Client 50 start Training\n",
      "Client 74 start Training\n",
      "Client 11 start Training\n",
      "Client 15 start Training\n",
      "Finish training. Collecting parameters...\n",
      "Clients updated ! Ready for next round\n"
     ]
    },
    {
     "data": {
      "text/html": [
       "Finishing last run (ID:2009svi2) before initializing another..."
      ],
      "text/plain": [
       "<IPython.core.display.HTML object>"
      ]
     },
     "metadata": {},
     "output_type": "display_data"
    },
    {
     "data": {
      "text/html": [
       "Waiting for W&B process to finish... <strong style=\"color:green\">(success).</strong>"
      ],
      "text/plain": [
       "<IPython.core.display.HTML object>"
      ]
     },
     "metadata": {},
     "output_type": "display_data"
    },
    {
     "data": {
      "text/html": [
       "<style>\n",
       "    table.wandb td:nth-child(1) { padding: 0 10px; text-align: left ; width: auto;} td:nth-child(2) {text-align: left ; width: 100%}\n",
       "    .wandb-row { display: flex; flex-direction: row; flex-wrap: wrap; justify-content: flex-start; width: 100% }\n",
       "    .wandb-col { display: flex; flex-direction: column; flex-basis: 100%; flex: 1; padding: 10px; }\n",
       "    </style>\n",
       "<div class=\"wandb-row\"><div class=\"wandb-col\"><h3>Run history:</h3><br/><table class=\"wandb\"><tr><td>accuracy</td><td>▁</td></tr><tr><td>loss</td><td>▁</td></tr><tr><td>round</td><td>▁</td></tr></table><br/></div><div class=\"wandb-col\"><h3>Run summary:</h3><br/><table class=\"wandb\"><tr><td>accuracy</td><td>0.17005</td></tr><tr><td>loss</td><td>0.95061</td></tr><tr><td>round</td><td>21</td></tr></table><br/></div></div>"
      ],
      "text/plain": [
       "<IPython.core.display.HTML object>"
      ]
     },
     "metadata": {},
     "output_type": "display_data"
    },
    {
     "data": {
      "text/html": [
       "You can sync this run to the cloud by running:<br/><code>wandb sync f:\\Thesis\\Model train\\Federated_training\\wandb\\offline-run-20221216_003824-2009svi2<code>"
      ],
      "text/plain": [
       "<IPython.core.display.HTML object>"
      ]
     },
     "metadata": {},
     "output_type": "display_data"
    },
    {
     "data": {
      "text/html": [
       "Find logs at: <code>.\\wandb\\offline-run-20221216_003824-2009svi2\\logs</code>"
      ],
      "text/plain": [
       "<IPython.core.display.HTML object>"
      ]
     },
     "metadata": {},
     "output_type": "display_data"
    },
    {
     "data": {
      "text/html": [
       "Successfully finished last run (ID:2009svi2). Initializing new run:<br/>"
      ],
      "text/plain": [
       "<IPython.core.display.HTML object>"
      ]
     },
     "metadata": {},
     "output_type": "display_data"
    },
    {
     "data": {
      "text/html": [
       "Tracking run with wandb version 0.13.5"
      ],
      "text/plain": [
       "<IPython.core.display.HTML object>"
      ]
     },
     "metadata": {},
     "output_type": "display_data"
    },
    {
     "data": {
      "text/html": [
       "W&B syncing is set to <code>`offline`<code> in this directory.  <br/>Run <code>`wandb online`<code> or set <code>WANDB_MODE=online<code> to enable cloud syncing."
      ],
      "text/plain": [
       "<IPython.core.display.HTML object>"
      ]
     },
     "metadata": {},
     "output_type": "display_data"
    },
    {
     "name": "stdout",
     "output_type": "stream",
     "text": [
      "Evaluation successfully, \n",
      "Round : 22 ,Accuracy : 0.1740641711229947 loss : 0.9899841567730521 \n",
      "Round {} 23\n",
      "Including clients: [59, 33, 55, 78, 16, 29, 81, 69, 62, 38, 37, 31, 22, 12, 30, 90, 53, 43, 66, 60, 57, 26, 91, 5, 58]\n",
      "Client 59 start Training\n",
      "Client 33 start Training\n",
      "Client 55 start Training\n",
      "Client 78 start Training\n",
      "Client 16 start Training\n",
      "Client 29 start Training\n",
      "Client 81 start Training\n",
      "Client 69 start Training\n",
      "Client 62 start Training\n",
      "Client 38 start Training\n",
      "Client 37 start Training\n",
      "Client 31 start Training\n",
      "Client 22 start Training\n",
      "Client 12 start Training\n",
      "Client 30 start Training\n",
      "Client 90 start Training\n",
      "Client 53 start Training\n",
      "Client 43 start Training\n",
      "Client 66 start Training\n",
      "Client 60 start Training\n",
      "Client 57 start Training\n",
      "Client 26 start Training\n",
      "Client 91 start Training\n",
      "Client 5 start Training\n",
      "Client 58 start Training\n",
      "Finish training. Collecting parameters...\n",
      "Clients updated ! Ready for next round\n"
     ]
    },
    {
     "data": {
      "text/html": [
       "Finishing last run (ID:di5ljnqp) before initializing another..."
      ],
      "text/plain": [
       "<IPython.core.display.HTML object>"
      ]
     },
     "metadata": {},
     "output_type": "display_data"
    },
    {
     "data": {
      "text/html": [
       "Waiting for W&B process to finish... <strong style=\"color:green\">(success).</strong>"
      ],
      "text/plain": [
       "<IPython.core.display.HTML object>"
      ]
     },
     "metadata": {},
     "output_type": "display_data"
    },
    {
     "data": {
      "text/html": [
       "<style>\n",
       "    table.wandb td:nth-child(1) { padding: 0 10px; text-align: left ; width: auto;} td:nth-child(2) {text-align: left ; width: 100%}\n",
       "    .wandb-row { display: flex; flex-direction: row; flex-wrap: wrap; justify-content: flex-start; width: 100% }\n",
       "    .wandb-col { display: flex; flex-direction: column; flex-basis: 100%; flex: 1; padding: 10px; }\n",
       "    </style>\n",
       "<div class=\"wandb-row\"><div class=\"wandb-col\"><h3>Run history:</h3><br/><table class=\"wandb\"><tr><td>accuracy</td><td>▁</td></tr><tr><td>loss</td><td>▁</td></tr><tr><td>round</td><td>▁</td></tr></table><br/></div><div class=\"wandb-col\"><h3>Run summary:</h3><br/><table class=\"wandb\"><tr><td>accuracy</td><td>0.17406</td></tr><tr><td>loss</td><td>0.98998</td></tr><tr><td>round</td><td>22</td></tr></table><br/></div></div>"
      ],
      "text/plain": [
       "<IPython.core.display.HTML object>"
      ]
     },
     "metadata": {},
     "output_type": "display_data"
    },
    {
     "data": {
      "text/html": [
       "You can sync this run to the cloud by running:<br/><code>wandb sync f:\\Thesis\\Model train\\Federated_training\\wandb\\offline-run-20221216_005047-di5ljnqp<code>"
      ],
      "text/plain": [
       "<IPython.core.display.HTML object>"
      ]
     },
     "metadata": {},
     "output_type": "display_data"
    },
    {
     "data": {
      "text/html": [
       "Find logs at: <code>.\\wandb\\offline-run-20221216_005047-di5ljnqp\\logs</code>"
      ],
      "text/plain": [
       "<IPython.core.display.HTML object>"
      ]
     },
     "metadata": {},
     "output_type": "display_data"
    },
    {
     "data": {
      "text/html": [
       "Successfully finished last run (ID:di5ljnqp). Initializing new run:<br/>"
      ],
      "text/plain": [
       "<IPython.core.display.HTML object>"
      ]
     },
     "metadata": {},
     "output_type": "display_data"
    },
    {
     "data": {
      "text/html": [
       "Tracking run with wandb version 0.13.5"
      ],
      "text/plain": [
       "<IPython.core.display.HTML object>"
      ]
     },
     "metadata": {},
     "output_type": "display_data"
    },
    {
     "data": {
      "text/html": [
       "W&B syncing is set to <code>`offline`<code> in this directory.  <br/>Run <code>`wandb online`<code> or set <code>WANDB_MODE=online<code> to enable cloud syncing."
      ],
      "text/plain": [
       "<IPython.core.display.HTML object>"
      ]
     },
     "metadata": {},
     "output_type": "display_data"
    },
    {
     "name": "stdout",
     "output_type": "stream",
     "text": [
      "model saved, best accuracy: 0.17486631016042783\n",
      "Evaluation successfully, \n",
      "Round : 23 ,Accuracy : 0.17486631016042783 loss : 1.0182649464530742 \n",
      "Round {} 24\n",
      "Including clients: [92, 31, 7, 18, 55, 98, 88, 53, 27, 28, 17, 4, 36, 25, 52, 85, 38, 97, 32, 47, 68, 26, 60, 21, 20]\n",
      "Client 92 start Training\n",
      "Client 31 start Training\n",
      "Client 7 start Training\n",
      "Client 18 start Training\n",
      "Client 55 start Training\n",
      "Client 98 start Training\n",
      "Client 88 start Training\n",
      "Client 53 start Training\n",
      "Client 27 start Training\n",
      "Client 28 start Training\n",
      "Client 17 start Training\n",
      "Client 4 start Training\n",
      "Client 36 start Training\n",
      "Client 25 start Training\n",
      "Client 52 start Training\n",
      "Client 85 start Training\n",
      "Client 38 start Training\n",
      "Client 97 start Training\n",
      "Client 32 start Training\n",
      "Client 47 start Training\n",
      "Client 68 start Training\n",
      "Client 26 start Training\n",
      "Client 60 start Training\n",
      "Client 21 start Training\n",
      "Client 20 start Training\n",
      "Finish training. Collecting parameters...\n",
      "Clients updated ! Ready for next round\n"
     ]
    },
    {
     "data": {
      "text/html": [
       "Finishing last run (ID:p2z1mdsq) before initializing another..."
      ],
      "text/plain": [
       "<IPython.core.display.HTML object>"
      ]
     },
     "metadata": {},
     "output_type": "display_data"
    },
    {
     "data": {
      "text/html": [
       "Waiting for W&B process to finish... <strong style=\"color:green\">(success).</strong>"
      ],
      "text/plain": [
       "<IPython.core.display.HTML object>"
      ]
     },
     "metadata": {},
     "output_type": "display_data"
    },
    {
     "data": {
      "text/html": [
       "<style>\n",
       "    table.wandb td:nth-child(1) { padding: 0 10px; text-align: left ; width: auto;} td:nth-child(2) {text-align: left ; width: 100%}\n",
       "    .wandb-row { display: flex; flex-direction: row; flex-wrap: wrap; justify-content: flex-start; width: 100% }\n",
       "    .wandb-col { display: flex; flex-direction: column; flex-basis: 100%; flex: 1; padding: 10px; }\n",
       "    </style>\n",
       "<div class=\"wandb-row\"><div class=\"wandb-col\"><h3>Run history:</h3><br/><table class=\"wandb\"><tr><td>accuracy</td><td>▁</td></tr><tr><td>loss</td><td>▁</td></tr><tr><td>round</td><td>▁</td></tr></table><br/></div><div class=\"wandb-col\"><h3>Run summary:</h3><br/><table class=\"wandb\"><tr><td>accuracy</td><td>0.17487</td></tr><tr><td>loss</td><td>1.01826</td></tr><tr><td>round</td><td>23</td></tr></table><br/></div></div>"
      ],
      "text/plain": [
       "<IPython.core.display.HTML object>"
      ]
     },
     "metadata": {},
     "output_type": "display_data"
    },
    {
     "data": {
      "text/html": [
       "You can sync this run to the cloud by running:<br/><code>wandb sync f:\\Thesis\\Model train\\Federated_training\\wandb\\offline-run-20221216_010210-p2z1mdsq<code>"
      ],
      "text/plain": [
       "<IPython.core.display.HTML object>"
      ]
     },
     "metadata": {},
     "output_type": "display_data"
    },
    {
     "data": {
      "text/html": [
       "Find logs at: <code>.\\wandb\\offline-run-20221216_010210-p2z1mdsq\\logs</code>"
      ],
      "text/plain": [
       "<IPython.core.display.HTML object>"
      ]
     },
     "metadata": {},
     "output_type": "display_data"
    },
    {
     "data": {
      "text/html": [
       "Successfully finished last run (ID:p2z1mdsq). Initializing new run:<br/>"
      ],
      "text/plain": [
       "<IPython.core.display.HTML object>"
      ]
     },
     "metadata": {},
     "output_type": "display_data"
    },
    {
     "data": {
      "text/html": [
       "Tracking run with wandb version 0.13.5"
      ],
      "text/plain": [
       "<IPython.core.display.HTML object>"
      ]
     },
     "metadata": {},
     "output_type": "display_data"
    },
    {
     "data": {
      "text/html": [
       "W&B syncing is set to <code>`offline`<code> in this directory.  <br/>Run <code>`wandb online`<code> or set <code>WANDB_MODE=online<code> to enable cloud syncing."
      ],
      "text/plain": [
       "<IPython.core.display.HTML object>"
      ]
     },
     "metadata": {},
     "output_type": "display_data"
    },
    {
     "name": "stdout",
     "output_type": "stream",
     "text": [
      "Evaluation successfully, \n",
      "Round : 24 ,Accuracy : 0.17486631016042783 loss : 1.049287260056817 \n",
      "Round {} 25\n",
      "Including clients: [20, 58, 79, 51, 65, 72, 26, 84, 0, 73, 90, 53, 6, 16, 83, 88, 60, 30, 9, 52, 2, 74, 21, 5, 23]\n",
      "Client 20 start Training\n",
      "Client 58 start Training\n",
      "Client 79 start Training\n",
      "Client 51 start Training\n",
      "Client 65 start Training\n",
      "Client 72 start Training\n",
      "Client 26 start Training\n",
      "Client 84 start Training\n",
      "Client 0 start Training\n",
      "Client 73 start Training\n",
      "Client 90 start Training\n",
      "Client 53 start Training\n",
      "Client 6 start Training\n",
      "Client 16 start Training\n",
      "Client 83 start Training\n",
      "Client 88 start Training\n",
      "Client 60 start Training\n",
      "Client 30 start Training\n",
      "Client 9 start Training\n",
      "Client 52 start Training\n",
      "Client 2 start Training\n",
      "Client 74 start Training\n",
      "Client 21 start Training\n",
      "Client 5 start Training\n",
      "Client 23 start Training\n",
      "Finish training. Collecting parameters...\n",
      "Clients updated ! Ready for next round\n"
     ]
    },
    {
     "data": {
      "text/html": [
       "Finishing last run (ID:6u7pxrac) before initializing another..."
      ],
      "text/plain": [
       "<IPython.core.display.HTML object>"
      ]
     },
     "metadata": {},
     "output_type": "display_data"
    },
    {
     "data": {
      "text/html": [
       "Waiting for W&B process to finish... <strong style=\"color:green\">(success).</strong>"
      ],
      "text/plain": [
       "<IPython.core.display.HTML object>"
      ]
     },
     "metadata": {},
     "output_type": "display_data"
    },
    {
     "data": {
      "text/html": [
       "<style>\n",
       "    table.wandb td:nth-child(1) { padding: 0 10px; text-align: left ; width: auto;} td:nth-child(2) {text-align: left ; width: 100%}\n",
       "    .wandb-row { display: flex; flex-direction: row; flex-wrap: wrap; justify-content: flex-start; width: 100% }\n",
       "    .wandb-col { display: flex; flex-direction: column; flex-basis: 100%; flex: 1; padding: 10px; }\n",
       "    </style>\n",
       "<div class=\"wandb-row\"><div class=\"wandb-col\"><h3>Run history:</h3><br/><table class=\"wandb\"><tr><td>accuracy</td><td>▁</td></tr><tr><td>loss</td><td>▁</td></tr><tr><td>round</td><td>▁</td></tr></table><br/></div><div class=\"wandb-col\"><h3>Run summary:</h3><br/><table class=\"wandb\"><tr><td>accuracy</td><td>0.17487</td></tr><tr><td>loss</td><td>1.04929</td></tr><tr><td>round</td><td>24</td></tr></table><br/></div></div>"
      ],
      "text/plain": [
       "<IPython.core.display.HTML object>"
      ]
     },
     "metadata": {},
     "output_type": "display_data"
    },
    {
     "data": {
      "text/html": [
       "You can sync this run to the cloud by running:<br/><code>wandb sync f:\\Thesis\\Model train\\Federated_training\\wandb\\offline-run-20221216_011332-6u7pxrac<code>"
      ],
      "text/plain": [
       "<IPython.core.display.HTML object>"
      ]
     },
     "metadata": {},
     "output_type": "display_data"
    },
    {
     "data": {
      "text/html": [
       "Find logs at: <code>.\\wandb\\offline-run-20221216_011332-6u7pxrac\\logs</code>"
      ],
      "text/plain": [
       "<IPython.core.display.HTML object>"
      ]
     },
     "metadata": {},
     "output_type": "display_data"
    },
    {
     "data": {
      "text/html": [
       "Successfully finished last run (ID:6u7pxrac). Initializing new run:<br/>"
      ],
      "text/plain": [
       "<IPython.core.display.HTML object>"
      ]
     },
     "metadata": {},
     "output_type": "display_data"
    },
    {
     "data": {
      "text/html": [
       "Tracking run with wandb version 0.13.5"
      ],
      "text/plain": [
       "<IPython.core.display.HTML object>"
      ]
     },
     "metadata": {},
     "output_type": "display_data"
    },
    {
     "data": {
      "text/html": [
       "W&B syncing is set to <code>`offline`<code> in this directory.  <br/>Run <code>`wandb online`<code> or set <code>WANDB_MODE=online<code> to enable cloud syncing."
      ],
      "text/plain": [
       "<IPython.core.display.HTML object>"
      ]
     },
     "metadata": {},
     "output_type": "display_data"
    },
    {
     "name": "stdout",
     "output_type": "stream",
     "text": [
      "Evaluation successfully, \n",
      "Round : 25 ,Accuracy : 0.1735294117647059 loss : 1.0494353199068875 \n",
      "Round {} 26\n",
      "Including clients: [63, 89, 95, 94, 40, 44, 66, 7, 6, 29, 16, 27, 38, 45, 53, 33, 99, 47, 59, 50, 98, 46, 72, 55, 36]\n",
      "Client 63 start Training\n",
      "Client 89 start Training\n",
      "Client 95 start Training\n",
      "Client 94 start Training\n",
      "Client 40 start Training\n",
      "Client 44 start Training\n",
      "Client 66 start Training\n",
      "Client 7 start Training\n",
      "Client 6 start Training\n",
      "Client 29 start Training\n",
      "Client 16 start Training\n",
      "Client 27 start Training\n",
      "Client 38 start Training\n",
      "Client 45 start Training\n",
      "Client 53 start Training\n",
      "Client 33 start Training\n",
      "Client 99 start Training\n",
      "Client 47 start Training\n",
      "Client 59 start Training\n",
      "Client 50 start Training\n",
      "Client 98 start Training\n",
      "Client 46 start Training\n",
      "Client 72 start Training\n",
      "Client 55 start Training\n",
      "Client 36 start Training\n",
      "Finish training. Collecting parameters...\n",
      "Clients updated ! Ready for next round\n"
     ]
    },
    {
     "data": {
      "text/html": [
       "Finishing last run (ID:2grk1f5l) before initializing another..."
      ],
      "text/plain": [
       "<IPython.core.display.HTML object>"
      ]
     },
     "metadata": {},
     "output_type": "display_data"
    },
    {
     "data": {
      "text/html": [
       "Waiting for W&B process to finish... <strong style=\"color:green\">(success).</strong>"
      ],
      "text/plain": [
       "<IPython.core.display.HTML object>"
      ]
     },
     "metadata": {},
     "output_type": "display_data"
    },
    {
     "data": {
      "text/html": [
       "<style>\n",
       "    table.wandb td:nth-child(1) { padding: 0 10px; text-align: left ; width: auto;} td:nth-child(2) {text-align: left ; width: 100%}\n",
       "    .wandb-row { display: flex; flex-direction: row; flex-wrap: wrap; justify-content: flex-start; width: 100% }\n",
       "    .wandb-col { display: flex; flex-direction: column; flex-basis: 100%; flex: 1; padding: 10px; }\n",
       "    </style>\n",
       "<div class=\"wandb-row\"><div class=\"wandb-col\"><h3>Run history:</h3><br/><table class=\"wandb\"><tr><td>accuracy</td><td>▁</td></tr><tr><td>loss</td><td>▁</td></tr><tr><td>round</td><td>▁</td></tr></table><br/></div><div class=\"wandb-col\"><h3>Run summary:</h3><br/><table class=\"wandb\"><tr><td>accuracy</td><td>0.17353</td></tr><tr><td>loss</td><td>1.04944</td></tr><tr><td>round</td><td>25</td></tr></table><br/></div></div>"
      ],
      "text/plain": [
       "<IPython.core.display.HTML object>"
      ]
     },
     "metadata": {},
     "output_type": "display_data"
    },
    {
     "data": {
      "text/html": [
       "You can sync this run to the cloud by running:<br/><code>wandb sync f:\\Thesis\\Model train\\Federated_training\\wandb\\offline-run-20221216_012754-2grk1f5l<code>"
      ],
      "text/plain": [
       "<IPython.core.display.HTML object>"
      ]
     },
     "metadata": {},
     "output_type": "display_data"
    },
    {
     "data": {
      "text/html": [
       "Find logs at: <code>.\\wandb\\offline-run-20221216_012754-2grk1f5l\\logs</code>"
      ],
      "text/plain": [
       "<IPython.core.display.HTML object>"
      ]
     },
     "metadata": {},
     "output_type": "display_data"
    },
    {
     "data": {
      "text/html": [
       "Successfully finished last run (ID:2grk1f5l). Initializing new run:<br/>"
      ],
      "text/plain": [
       "<IPython.core.display.HTML object>"
      ]
     },
     "metadata": {},
     "output_type": "display_data"
    },
    {
     "data": {
      "text/html": [
       "Tracking run with wandb version 0.13.5"
      ],
      "text/plain": [
       "<IPython.core.display.HTML object>"
      ]
     },
     "metadata": {},
     "output_type": "display_data"
    },
    {
     "data": {
      "text/html": [
       "W&B syncing is set to <code>`offline`<code> in this directory.  <br/>Run <code>`wandb online`<code> or set <code>WANDB_MODE=online<code> to enable cloud syncing."
      ],
      "text/plain": [
       "<IPython.core.display.HTML object>"
      ]
     },
     "metadata": {},
     "output_type": "display_data"
    },
    {
     "name": "stdout",
     "output_type": "stream",
     "text": [
      "Evaluation successfully, \n",
      "Round : 26 ,Accuracy : 0.1727272727272727 loss : 1.0504069583301239 \n",
      "Round {} 27\n",
      "Including clients: [41, 81, 62, 93, 54, 4, 36, 94, 12, 57, 85, 98, 44, 6, 97, 2, 38, 67, 39, 87, 66, 5, 49, 10, 73]\n",
      "Client 41 start Training\n",
      "Client 81 start Training\n",
      "Client 62 start Training\n",
      "Client 93 start Training\n",
      "Client 54 start Training\n",
      "Client 4 start Training\n",
      "Client 36 start Training\n",
      "Client 94 start Training\n",
      "Client 12 start Training\n",
      "Client 57 start Training\n",
      "Client 85 start Training\n",
      "Client 98 start Training\n",
      "Client 44 start Training\n",
      "Client 6 start Training\n",
      "Client 97 start Training\n",
      "Client 2 start Training\n",
      "Client 38 start Training\n",
      "Client 67 start Training\n",
      "Client 39 start Training\n",
      "Client 87 start Training\n",
      "Client 66 start Training\n",
      "Client 5 start Training\n",
      "Client 49 start Training\n",
      "Client 10 start Training\n",
      "Client 73 start Training\n",
      "Finish training. Collecting parameters...\n",
      "Clients updated ! Ready for next round\n"
     ]
    },
    {
     "data": {
      "text/html": [
       "Finishing last run (ID:bvh891k8) before initializing another..."
      ],
      "text/plain": [
       "<IPython.core.display.HTML object>"
      ]
     },
     "metadata": {},
     "output_type": "display_data"
    },
    {
     "data": {
      "text/html": [
       "Waiting for W&B process to finish... <strong style=\"color:green\">(success).</strong>"
      ],
      "text/plain": [
       "<IPython.core.display.HTML object>"
      ]
     },
     "metadata": {},
     "output_type": "display_data"
    },
    {
     "data": {
      "text/html": [
       "<style>\n",
       "    table.wandb td:nth-child(1) { padding: 0 10px; text-align: left ; width: auto;} td:nth-child(2) {text-align: left ; width: 100%}\n",
       "    .wandb-row { display: flex; flex-direction: row; flex-wrap: wrap; justify-content: flex-start; width: 100% }\n",
       "    .wandb-col { display: flex; flex-direction: column; flex-basis: 100%; flex: 1; padding: 10px; }\n",
       "    </style>\n",
       "<div class=\"wandb-row\"><div class=\"wandb-col\"><h3>Run history:</h3><br/><table class=\"wandb\"><tr><td>accuracy</td><td>▁</td></tr><tr><td>loss</td><td>▁</td></tr><tr><td>round</td><td>▁</td></tr></table><br/></div><div class=\"wandb-col\"><h3>Run summary:</h3><br/><table class=\"wandb\"><tr><td>accuracy</td><td>0.17273</td></tr><tr><td>loss</td><td>1.05041</td></tr><tr><td>round</td><td>26</td></tr></table><br/></div></div>"
      ],
      "text/plain": [
       "<IPython.core.display.HTML object>"
      ]
     },
     "metadata": {},
     "output_type": "display_data"
    },
    {
     "data": {
      "text/html": [
       "You can sync this run to the cloud by running:<br/><code>wandb sync f:\\Thesis\\Model train\\Federated_training\\wandb\\offline-run-20221216_014215-bvh891k8<code>"
      ],
      "text/plain": [
       "<IPython.core.display.HTML object>"
      ]
     },
     "metadata": {},
     "output_type": "display_data"
    },
    {
     "data": {
      "text/html": [
       "Find logs at: <code>.\\wandb\\offline-run-20221216_014215-bvh891k8\\logs</code>"
      ],
      "text/plain": [
       "<IPython.core.display.HTML object>"
      ]
     },
     "metadata": {},
     "output_type": "display_data"
    },
    {
     "data": {
      "text/html": [
       "Successfully finished last run (ID:bvh891k8). Initializing new run:<br/>"
      ],
      "text/plain": [
       "<IPython.core.display.HTML object>"
      ]
     },
     "metadata": {},
     "output_type": "display_data"
    },
    {
     "data": {
      "text/html": [
       "Tracking run with wandb version 0.13.5"
      ],
      "text/plain": [
       "<IPython.core.display.HTML object>"
      ]
     },
     "metadata": {},
     "output_type": "display_data"
    },
    {
     "data": {
      "text/html": [
       "W&B syncing is set to <code>`offline`<code> in this directory.  <br/>Run <code>`wandb online`<code> or set <code>WANDB_MODE=online<code> to enable cloud syncing."
      ],
      "text/plain": [
       "<IPython.core.display.HTML object>"
      ]
     },
     "metadata": {},
     "output_type": "display_data"
    },
    {
     "name": "stdout",
     "output_type": "stream",
     "text": [
      "Evaluation successfully, \n",
      "Round : 27 ,Accuracy : 0.139572192513369 loss : 1.0379952636950793 \n",
      "Round {} 28\n",
      "Including clients: [76, 16, 72, 49, 82, 70, 30, 33, 78, 5, 22, 69, 42, 60, 55, 96, 27, 86, 14, 63, 4, 66, 8, 36, 64]\n",
      "Client 76 start Training\n",
      "Client 16 start Training\n",
      "Client 72 start Training\n",
      "Client 49 start Training\n",
      "Client 82 start Training\n",
      "Client 70 start Training\n",
      "Client 30 start Training\n",
      "Client 33 start Training\n",
      "Client 78 start Training\n",
      "Client 5 start Training\n",
      "Client 22 start Training\n",
      "Client 69 start Training\n",
      "Client 42 start Training\n",
      "Client 60 start Training\n",
      "Client 55 start Training\n",
      "Client 96 start Training\n",
      "Client 27 start Training\n",
      "Client 86 start Training\n",
      "Client 14 start Training\n",
      "Client 63 start Training\n",
      "Client 4 start Training\n",
      "Client 66 start Training\n",
      "Client 8 start Training\n",
      "Client 36 start Training\n",
      "Client 64 start Training\n",
      "Finish training. Collecting parameters...\n",
      "Clients updated ! Ready for next round\n"
     ]
    },
    {
     "data": {
      "text/html": [
       "Finishing last run (ID:3svwozu0) before initializing another..."
      ],
      "text/plain": [
       "<IPython.core.display.HTML object>"
      ]
     },
     "metadata": {},
     "output_type": "display_data"
    },
    {
     "data": {
      "text/html": [
       "Waiting for W&B process to finish... <strong style=\"color:green\">(success).</strong>"
      ],
      "text/plain": [
       "<IPython.core.display.HTML object>"
      ]
     },
     "metadata": {},
     "output_type": "display_data"
    },
    {
     "data": {
      "text/html": [
       "<style>\n",
       "    table.wandb td:nth-child(1) { padding: 0 10px; text-align: left ; width: auto;} td:nth-child(2) {text-align: left ; width: 100%}\n",
       "    .wandb-row { display: flex; flex-direction: row; flex-wrap: wrap; justify-content: flex-start; width: 100% }\n",
       "    .wandb-col { display: flex; flex-direction: column; flex-basis: 100%; flex: 1; padding: 10px; }\n",
       "    </style>\n",
       "<div class=\"wandb-row\"><div class=\"wandb-col\"><h3>Run history:</h3><br/><table class=\"wandb\"><tr><td>accuracy</td><td>▁</td></tr><tr><td>loss</td><td>▁</td></tr><tr><td>round</td><td>▁</td></tr></table><br/></div><div class=\"wandb-col\"><h3>Run summary:</h3><br/><table class=\"wandb\"><tr><td>accuracy</td><td>0.13957</td></tr><tr><td>loss</td><td>1.038</td></tr><tr><td>round</td><td>27</td></tr></table><br/></div></div>"
      ],
      "text/plain": [
       "<IPython.core.display.HTML object>"
      ]
     },
     "metadata": {},
     "output_type": "display_data"
    },
    {
     "data": {
      "text/html": [
       "You can sync this run to the cloud by running:<br/><code>wandb sync f:\\Thesis\\Model train\\Federated_training\\wandb\\offline-run-20221216_015804-3svwozu0<code>"
      ],
      "text/plain": [
       "<IPython.core.display.HTML object>"
      ]
     },
     "metadata": {},
     "output_type": "display_data"
    },
    {
     "data": {
      "text/html": [
       "Find logs at: <code>.\\wandb\\offline-run-20221216_015804-3svwozu0\\logs</code>"
      ],
      "text/plain": [
       "<IPython.core.display.HTML object>"
      ]
     },
     "metadata": {},
     "output_type": "display_data"
    },
    {
     "data": {
      "text/html": [
       "Successfully finished last run (ID:3svwozu0). Initializing new run:<br/>"
      ],
      "text/plain": [
       "<IPython.core.display.HTML object>"
      ]
     },
     "metadata": {},
     "output_type": "display_data"
    },
    {
     "data": {
      "text/html": [
       "Tracking run with wandb version 0.13.5"
      ],
      "text/plain": [
       "<IPython.core.display.HTML object>"
      ]
     },
     "metadata": {},
     "output_type": "display_data"
    },
    {
     "data": {
      "text/html": [
       "W&B syncing is set to <code>`offline`<code> in this directory.  <br/>Run <code>`wandb online`<code> or set <code>WANDB_MODE=online<code> to enable cloud syncing."
      ],
      "text/plain": [
       "<IPython.core.display.HTML object>"
      ]
     },
     "metadata": {},
     "output_type": "display_data"
    },
    {
     "name": "stdout",
     "output_type": "stream",
     "text": [
      "Evaluation successfully, \n",
      "Round : 28 ,Accuracy : 0.16497326203208557 loss : 1.0560879417281737 \n",
      "Round {} 29\n",
      "Including clients: [78, 37, 38, 55, 53, 67, 81, 32, 86, 1, 51, 30, 23, 92, 48, 18, 70, 34, 88, 0, 36, 39, 56, 99, 98]\n",
      "Client 78 start Training\n",
      "Client 37 start Training\n",
      "Client 38 start Training\n",
      "Client 55 start Training\n",
      "Client 53 start Training\n",
      "Client 67 start Training\n",
      "Client 81 start Training\n",
      "Client 32 start Training\n",
      "Client 86 start Training\n",
      "Client 1 start Training\n",
      "Client 51 start Training\n",
      "Client 30 start Training\n",
      "Client 23 start Training\n",
      "Client 92 start Training\n",
      "Client 48 start Training\n",
      "Client 18 start Training\n",
      "Client 70 start Training\n",
      "Client 34 start Training\n",
      "Client 88 start Training\n",
      "Client 0 start Training\n",
      "Client 36 start Training\n",
      "Client 39 start Training\n",
      "Client 56 start Training\n",
      "Client 99 start Training\n",
      "Client 98 start Training\n",
      "Finish training. Collecting parameters...\n",
      "Clients updated ! Ready for next round\n"
     ]
    },
    {
     "data": {
      "text/html": [
       "Finishing last run (ID:3962g1xb) before initializing another..."
      ],
      "text/plain": [
       "<IPython.core.display.HTML object>"
      ]
     },
     "metadata": {},
     "output_type": "display_data"
    },
    {
     "data": {
      "text/html": [
       "Waiting for W&B process to finish... <strong style=\"color:green\">(success).</strong>"
      ],
      "text/plain": [
       "<IPython.core.display.HTML object>"
      ]
     },
     "metadata": {},
     "output_type": "display_data"
    },
    {
     "data": {
      "text/html": [
       "<style>\n",
       "    table.wandb td:nth-child(1) { padding: 0 10px; text-align: left ; width: auto;} td:nth-child(2) {text-align: left ; width: 100%}\n",
       "    .wandb-row { display: flex; flex-direction: row; flex-wrap: wrap; justify-content: flex-start; width: 100% }\n",
       "    .wandb-col { display: flex; flex-direction: column; flex-basis: 100%; flex: 1; padding: 10px; }\n",
       "    </style>\n",
       "<div class=\"wandb-row\"><div class=\"wandb-col\"><h3>Run history:</h3><br/><table class=\"wandb\"><tr><td>accuracy</td><td>▁</td></tr><tr><td>loss</td><td>▁</td></tr><tr><td>round</td><td>▁</td></tr></table><br/></div><div class=\"wandb-col\"><h3>Run summary:</h3><br/><table class=\"wandb\"><tr><td>accuracy</td><td>0.16497</td></tr><tr><td>loss</td><td>1.05609</td></tr><tr><td>round</td><td>28</td></tr></table><br/></div></div>"
      ],
      "text/plain": [
       "<IPython.core.display.HTML object>"
      ]
     },
     "metadata": {},
     "output_type": "display_data"
    },
    {
     "data": {
      "text/html": [
       "You can sync this run to the cloud by running:<br/><code>wandb sync f:\\Thesis\\Model train\\Federated_training\\wandb\\offline-run-20221216_021244-3962g1xb<code>"
      ],
      "text/plain": [
       "<IPython.core.display.HTML object>"
      ]
     },
     "metadata": {},
     "output_type": "display_data"
    },
    {
     "data": {
      "text/html": [
       "Find logs at: <code>.\\wandb\\offline-run-20221216_021244-3962g1xb\\logs</code>"
      ],
      "text/plain": [
       "<IPython.core.display.HTML object>"
      ]
     },
     "metadata": {},
     "output_type": "display_data"
    },
    {
     "data": {
      "text/html": [
       "Successfully finished last run (ID:3962g1xb). Initializing new run:<br/>"
      ],
      "text/plain": [
       "<IPython.core.display.HTML object>"
      ]
     },
     "metadata": {},
     "output_type": "display_data"
    },
    {
     "data": {
      "text/html": [
       "Tracking run with wandb version 0.13.5"
      ],
      "text/plain": [
       "<IPython.core.display.HTML object>"
      ]
     },
     "metadata": {},
     "output_type": "display_data"
    },
    {
     "data": {
      "text/html": [
       "W&B syncing is set to <code>`offline`<code> in this directory.  <br/>Run <code>`wandb online`<code> or set <code>WANDB_MODE=online<code> to enable cloud syncing."
      ],
      "text/plain": [
       "<IPython.core.display.HTML object>"
      ]
     },
     "metadata": {},
     "output_type": "display_data"
    },
    {
     "name": "stdout",
     "output_type": "stream",
     "text": [
      "Evaluation successfully, \n",
      "Round : 29 ,Accuracy : 0.17058823529411768 loss : 1.065516178301949 \n",
      "Round {} 30\n",
      "Including clients: [93, 64, 17, 35, 19, 67, 12, 84, 9, 56, 37, 45, 54, 30, 51, 24, 99, 14, 20, 81, 60, 11, 4, 29, 63]\n",
      "Client 93 start Training\n",
      "Client 64 start Training\n",
      "Client 17 start Training\n",
      "Client 35 start Training\n",
      "Client 19 start Training\n",
      "Client 67 start Training\n",
      "Client 12 start Training\n",
      "Client 84 start Training\n",
      "Client 9 start Training\n",
      "Client 56 start Training\n",
      "Client 37 start Training\n",
      "Client 45 start Training\n",
      "Client 54 start Training\n",
      "Client 30 start Training\n",
      "Client 51 start Training\n",
      "Client 24 start Training\n",
      "Client 99 start Training\n",
      "Client 14 start Training\n",
      "Client 20 start Training\n",
      "Client 81 start Training\n",
      "Client 60 start Training\n",
      "Client 11 start Training\n",
      "Client 4 start Training\n",
      "Client 29 start Training\n",
      "Client 63 start Training\n",
      "Finish training. Collecting parameters...\n",
      "Clients updated ! Ready for next round\n"
     ]
    },
    {
     "data": {
      "text/html": [
       "Finishing last run (ID:2jybc5g3) before initializing another..."
      ],
      "text/plain": [
       "<IPython.core.display.HTML object>"
      ]
     },
     "metadata": {},
     "output_type": "display_data"
    },
    {
     "data": {
      "text/html": [
       "Waiting for W&B process to finish... <strong style=\"color:green\">(success).</strong>"
      ],
      "text/plain": [
       "<IPython.core.display.HTML object>"
      ]
     },
     "metadata": {},
     "output_type": "display_data"
    },
    {
     "data": {
      "text/html": [
       "<style>\n",
       "    table.wandb td:nth-child(1) { padding: 0 10px; text-align: left ; width: auto;} td:nth-child(2) {text-align: left ; width: 100%}\n",
       "    .wandb-row { display: flex; flex-direction: row; flex-wrap: wrap; justify-content: flex-start; width: 100% }\n",
       "    .wandb-col { display: flex; flex-direction: column; flex-basis: 100%; flex: 1; padding: 10px; }\n",
       "    </style>\n",
       "<div class=\"wandb-row\"><div class=\"wandb-col\"><h3>Run history:</h3><br/><table class=\"wandb\"><tr><td>accuracy</td><td>▁</td></tr><tr><td>loss</td><td>▁</td></tr><tr><td>round</td><td>▁</td></tr></table><br/></div><div class=\"wandb-col\"><h3>Run summary:</h3><br/><table class=\"wandb\"><tr><td>accuracy</td><td>0.17059</td></tr><tr><td>loss</td><td>1.06552</td></tr><tr><td>round</td><td>29</td></tr></table><br/></div></div>"
      ],
      "text/plain": [
       "<IPython.core.display.HTML object>"
      ]
     },
     "metadata": {},
     "output_type": "display_data"
    },
    {
     "data": {
      "text/html": [
       "You can sync this run to the cloud by running:<br/><code>wandb sync f:\\Thesis\\Model train\\Federated_training\\wandb\\offline-run-20221216_022636-2jybc5g3<code>"
      ],
      "text/plain": [
       "<IPython.core.display.HTML object>"
      ]
     },
     "metadata": {},
     "output_type": "display_data"
    },
    {
     "data": {
      "text/html": [
       "Find logs at: <code>.\\wandb\\offline-run-20221216_022636-2jybc5g3\\logs</code>"
      ],
      "text/plain": [
       "<IPython.core.display.HTML object>"
      ]
     },
     "metadata": {},
     "output_type": "display_data"
    },
    {
     "data": {
      "text/html": [
       "Successfully finished last run (ID:2jybc5g3). Initializing new run:<br/>"
      ],
      "text/plain": [
       "<IPython.core.display.HTML object>"
      ]
     },
     "metadata": {},
     "output_type": "display_data"
    },
    {
     "data": {
      "text/html": [
       "Tracking run with wandb version 0.13.5"
      ],
      "text/plain": [
       "<IPython.core.display.HTML object>"
      ]
     },
     "metadata": {},
     "output_type": "display_data"
    },
    {
     "data": {
      "text/html": [
       "W&B syncing is set to <code>`offline`<code> in this directory.  <br/>Run <code>`wandb online`<code> or set <code>WANDB_MODE=online<code> to enable cloud syncing."
      ],
      "text/plain": [
       "<IPython.core.display.HTML object>"
      ]
     },
     "metadata": {},
     "output_type": "display_data"
    },
    {
     "name": "stdout",
     "output_type": "stream",
     "text": [
      "Evaluation successfully, \n",
      "Round : 30 ,Accuracy : 0.1740641711229947 loss : 1.108734956559013 \n",
      "Round {} 31\n",
      "Including clients: [99, 7, 11, 87, 43, 34, 37, 71, 95, 94, 97, 42, 93, 62, 12, 23, 4, 85, 20, 24, 53, 47, 30, 31, 36]\n",
      "Client 99 start Training\n",
      "Client 7 start Training\n",
      "Client 11 start Training\n",
      "Client 87 start Training\n",
      "Client 43 start Training\n",
      "Client 34 start Training\n",
      "Client 37 start Training\n",
      "Client 71 start Training\n",
      "Client 95 start Training\n",
      "Client 94 start Training\n",
      "Client 97 start Training\n",
      "Client 42 start Training\n",
      "Client 93 start Training\n",
      "Client 62 start Training\n",
      "Client 12 start Training\n",
      "Client 23 start Training\n",
      "Client 4 start Training\n",
      "Client 85 start Training\n",
      "Client 20 start Training\n",
      "Client 24 start Training\n",
      "Client 53 start Training\n",
      "Client 47 start Training\n",
      "Client 30 start Training\n",
      "Client 31 start Training\n",
      "Client 36 start Training\n",
      "Finish training. Collecting parameters...\n",
      "Clients updated ! Ready for next round\n"
     ]
    },
    {
     "data": {
      "text/html": [
       "Finishing last run (ID:kums4l37) before initializing another..."
      ],
      "text/plain": [
       "<IPython.core.display.HTML object>"
      ]
     },
     "metadata": {},
     "output_type": "display_data"
    },
    {
     "data": {
      "text/html": [
       "Waiting for W&B process to finish... <strong style=\"color:green\">(success).</strong>"
      ],
      "text/plain": [
       "<IPython.core.display.HTML object>"
      ]
     },
     "metadata": {},
     "output_type": "display_data"
    },
    {
     "data": {
      "text/html": [
       "<style>\n",
       "    table.wandb td:nth-child(1) { padding: 0 10px; text-align: left ; width: auto;} td:nth-child(2) {text-align: left ; width: 100%}\n",
       "    .wandb-row { display: flex; flex-direction: row; flex-wrap: wrap; justify-content: flex-start; width: 100% }\n",
       "    .wandb-col { display: flex; flex-direction: column; flex-basis: 100%; flex: 1; padding: 10px; }\n",
       "    </style>\n",
       "<div class=\"wandb-row\"><div class=\"wandb-col\"><h3>Run history:</h3><br/><table class=\"wandb\"><tr><td>accuracy</td><td>▁</td></tr><tr><td>loss</td><td>▁</td></tr><tr><td>round</td><td>▁</td></tr></table><br/></div><div class=\"wandb-col\"><h3>Run summary:</h3><br/><table class=\"wandb\"><tr><td>accuracy</td><td>0.17406</td></tr><tr><td>loss</td><td>1.10873</td></tr><tr><td>round</td><td>30</td></tr></table><br/></div></div>"
      ],
      "text/plain": [
       "<IPython.core.display.HTML object>"
      ]
     },
     "metadata": {},
     "output_type": "display_data"
    },
    {
     "data": {
      "text/html": [
       "You can sync this run to the cloud by running:<br/><code>wandb sync f:\\Thesis\\Model train\\Federated_training\\wandb\\offline-run-20221216_024035-kums4l37<code>"
      ],
      "text/plain": [
       "<IPython.core.display.HTML object>"
      ]
     },
     "metadata": {},
     "output_type": "display_data"
    },
    {
     "data": {
      "text/html": [
       "Find logs at: <code>.\\wandb\\offline-run-20221216_024035-kums4l37\\logs</code>"
      ],
      "text/plain": [
       "<IPython.core.display.HTML object>"
      ]
     },
     "metadata": {},
     "output_type": "display_data"
    },
    {
     "data": {
      "text/html": [
       "Successfully finished last run (ID:kums4l37). Initializing new run:<br/>"
      ],
      "text/plain": [
       "<IPython.core.display.HTML object>"
      ]
     },
     "metadata": {},
     "output_type": "display_data"
    },
    {
     "data": {
      "text/html": [
       "Tracking run with wandb version 0.13.5"
      ],
      "text/plain": [
       "<IPython.core.display.HTML object>"
      ]
     },
     "metadata": {},
     "output_type": "display_data"
    },
    {
     "data": {
      "text/html": [
       "W&B syncing is set to <code>`offline`<code> in this directory.  <br/>Run <code>`wandb online`<code> or set <code>WANDB_MODE=online<code> to enable cloud syncing."
      ],
      "text/plain": [
       "<IPython.core.display.HTML object>"
      ]
     },
     "metadata": {},
     "output_type": "display_data"
    },
    {
     "name": "stdout",
     "output_type": "stream",
     "text": [
      "model saved, best accuracy: 0.17593582887700537\n",
      "Evaluation successfully, \n",
      "Round : 31 ,Accuracy : 0.17593582887700537 loss : 1.1301880032620966 \n",
      "Round {} 32\n",
      "Including clients: [39, 75, 7, 26, 76, 42, 2, 22, 60, 83, 53, 91, 9, 5, 73, 68, 84, 62, 71, 93, 1, 99, 3, 21, 94]\n",
      "Client 39 start Training\n",
      "Client 75 start Training\n",
      "Client 7 start Training\n",
      "Client 26 start Training\n",
      "Client 76 start Training\n",
      "Client 42 start Training\n",
      "Client 2 start Training\n",
      "Client 22 start Training\n",
      "Client 60 start Training\n",
      "Client 83 start Training\n",
      "Client 53 start Training\n",
      "Client 91 start Training\n",
      "Client 9 start Training\n",
      "Client 5 start Training\n",
      "Client 73 start Training\n",
      "Client 68 start Training\n",
      "Client 84 start Training\n",
      "Client 62 start Training\n",
      "Client 71 start Training\n",
      "Client 93 start Training\n",
      "Client 1 start Training\n",
      "Client 99 start Training\n",
      "Client 3 start Training\n",
      "Client 21 start Training\n",
      "Client 94 start Training\n",
      "Finish training. Collecting parameters...\n",
      "Clients updated ! Ready for next round\n"
     ]
    },
    {
     "data": {
      "text/html": [
       "Finishing last run (ID:2qupptfj) before initializing another..."
      ],
      "text/plain": [
       "<IPython.core.display.HTML object>"
      ]
     },
     "metadata": {},
     "output_type": "display_data"
    },
    {
     "data": {
      "text/html": [
       "Waiting for W&B process to finish... <strong style=\"color:green\">(success).</strong>"
      ],
      "text/plain": [
       "<IPython.core.display.HTML object>"
      ]
     },
     "metadata": {},
     "output_type": "display_data"
    },
    {
     "data": {
      "text/html": [
       "<style>\n",
       "    table.wandb td:nth-child(1) { padding: 0 10px; text-align: left ; width: auto;} td:nth-child(2) {text-align: left ; width: 100%}\n",
       "    .wandb-row { display: flex; flex-direction: row; flex-wrap: wrap; justify-content: flex-start; width: 100% }\n",
       "    .wandb-col { display: flex; flex-direction: column; flex-basis: 100%; flex: 1; padding: 10px; }\n",
       "    </style>\n",
       "<div class=\"wandb-row\"><div class=\"wandb-col\"><h3>Run history:</h3><br/><table class=\"wandb\"><tr><td>accuracy</td><td>▁</td></tr><tr><td>loss</td><td>▁</td></tr><tr><td>round</td><td>▁</td></tr></table><br/></div><div class=\"wandb-col\"><h3>Run summary:</h3><br/><table class=\"wandb\"><tr><td>accuracy</td><td>0.17594</td></tr><tr><td>loss</td><td>1.13019</td></tr><tr><td>round</td><td>31</td></tr></table><br/></div></div>"
      ],
      "text/plain": [
       "<IPython.core.display.HTML object>"
      ]
     },
     "metadata": {},
     "output_type": "display_data"
    },
    {
     "data": {
      "text/html": [
       "You can sync this run to the cloud by running:<br/><code>wandb sync f:\\Thesis\\Model train\\Federated_training\\wandb\\offline-run-20221216_025433-2qupptfj<code>"
      ],
      "text/plain": [
       "<IPython.core.display.HTML object>"
      ]
     },
     "metadata": {},
     "output_type": "display_data"
    },
    {
     "data": {
      "text/html": [
       "Find logs at: <code>.\\wandb\\offline-run-20221216_025433-2qupptfj\\logs</code>"
      ],
      "text/plain": [
       "<IPython.core.display.HTML object>"
      ]
     },
     "metadata": {},
     "output_type": "display_data"
    },
    {
     "data": {
      "text/html": [
       "Successfully finished last run (ID:2qupptfj). Initializing new run:<br/>"
      ],
      "text/plain": [
       "<IPython.core.display.HTML object>"
      ]
     },
     "metadata": {},
     "output_type": "display_data"
    },
    {
     "data": {
      "text/html": [
       "Tracking run with wandb version 0.13.5"
      ],
      "text/plain": [
       "<IPython.core.display.HTML object>"
      ]
     },
     "metadata": {},
     "output_type": "display_data"
    },
    {
     "data": {
      "text/html": [
       "W&B syncing is set to <code>`offline`<code> in this directory.  <br/>Run <code>`wandb online`<code> or set <code>WANDB_MODE=online<code> to enable cloud syncing."
      ],
      "text/plain": [
       "<IPython.core.display.HTML object>"
      ]
     },
     "metadata": {},
     "output_type": "display_data"
    },
    {
     "name": "stdout",
     "output_type": "stream",
     "text": [
      "Evaluation successfully, \n",
      "Round : 32 ,Accuracy : 0.17379679144385027 loss : 1.0989924866885425 \n",
      "Round {} 33\n",
      "Including clients: [5, 11, 42, 54, 63, 48, 51, 60, 92, 9, 61, 12, 85, 78, 67, 13, 91, 76, 6, 82, 84, 89, 33, 69, 58]\n",
      "Client 5 start Training\n",
      "Client 11 start Training\n",
      "Client 42 start Training\n",
      "Client 54 start Training\n",
      "Client 63 start Training\n",
      "Client 48 start Training\n",
      "Client 51 start Training\n",
      "Client 60 start Training\n",
      "Client 92 start Training\n",
      "Client 9 start Training\n",
      "Client 61 start Training\n",
      "Client 12 start Training\n",
      "Client 85 start Training\n",
      "Client 78 start Training\n",
      "Client 67 start Training\n",
      "Client 13 start Training\n",
      "Client 91 start Training\n",
      "Client 76 start Training\n",
      "Client 6 start Training\n",
      "Client 82 start Training\n",
      "Client 84 start Training\n",
      "Client 89 start Training\n",
      "Client 33 start Training\n",
      "Client 69 start Training\n",
      "Client 58 start Training\n",
      "Finish training. Collecting parameters...\n",
      "Clients updated ! Ready for next round\n"
     ]
    },
    {
     "data": {
      "text/html": [
       "Finishing last run (ID:37ved30u) before initializing another..."
      ],
      "text/plain": [
       "<IPython.core.display.HTML object>"
      ]
     },
     "metadata": {},
     "output_type": "display_data"
    },
    {
     "data": {
      "text/html": [
       "Waiting for W&B process to finish... <strong style=\"color:green\">(success).</strong>"
      ],
      "text/plain": [
       "<IPython.core.display.HTML object>"
      ]
     },
     "metadata": {},
     "output_type": "display_data"
    },
    {
     "data": {
      "text/html": [
       "<style>\n",
       "    table.wandb td:nth-child(1) { padding: 0 10px; text-align: left ; width: auto;} td:nth-child(2) {text-align: left ; width: 100%}\n",
       "    .wandb-row { display: flex; flex-direction: row; flex-wrap: wrap; justify-content: flex-start; width: 100% }\n",
       "    .wandb-col { display: flex; flex-direction: column; flex-basis: 100%; flex: 1; padding: 10px; }\n",
       "    </style>\n",
       "<div class=\"wandb-row\"><div class=\"wandb-col\"><h3>Run history:</h3><br/><table class=\"wandb\"><tr><td>accuracy</td><td>▁</td></tr><tr><td>loss</td><td>▁</td></tr><tr><td>round</td><td>▁</td></tr></table><br/></div><div class=\"wandb-col\"><h3>Run summary:</h3><br/><table class=\"wandb\"><tr><td>accuracy</td><td>0.1738</td></tr><tr><td>loss</td><td>1.09899</td></tr><tr><td>round</td><td>32</td></tr></table><br/></div></div>"
      ],
      "text/plain": [
       "<IPython.core.display.HTML object>"
      ]
     },
     "metadata": {},
     "output_type": "display_data"
    },
    {
     "data": {
      "text/html": [
       "You can sync this run to the cloud by running:<br/><code>wandb sync f:\\Thesis\\Model train\\Federated_training\\wandb\\offline-run-20221216_030833-37ved30u<code>"
      ],
      "text/plain": [
       "<IPython.core.display.HTML object>"
      ]
     },
     "metadata": {},
     "output_type": "display_data"
    },
    {
     "data": {
      "text/html": [
       "Find logs at: <code>.\\wandb\\offline-run-20221216_030833-37ved30u\\logs</code>"
      ],
      "text/plain": [
       "<IPython.core.display.HTML object>"
      ]
     },
     "metadata": {},
     "output_type": "display_data"
    },
    {
     "data": {
      "text/html": [
       "Successfully finished last run (ID:37ved30u). Initializing new run:<br/>"
      ],
      "text/plain": [
       "<IPython.core.display.HTML object>"
      ]
     },
     "metadata": {},
     "output_type": "display_data"
    },
    {
     "data": {
      "text/html": [
       "Tracking run with wandb version 0.13.5"
      ],
      "text/plain": [
       "<IPython.core.display.HTML object>"
      ]
     },
     "metadata": {},
     "output_type": "display_data"
    },
    {
     "data": {
      "text/html": [
       "W&B syncing is set to <code>`offline`<code> in this directory.  <br/>Run <code>`wandb online`<code> or set <code>WANDB_MODE=online<code> to enable cloud syncing."
      ],
      "text/plain": [
       "<IPython.core.display.HTML object>"
      ]
     },
     "metadata": {},
     "output_type": "display_data"
    },
    {
     "name": "stdout",
     "output_type": "stream",
     "text": [
      "Evaluation successfully, \n",
      "Round : 33 ,Accuracy : 0.17139037433155083 loss : 1.1030189527228553 \n",
      "Round {} 34\n",
      "Including clients: [92, 15, 75, 82, 54, 27, 23, 90, 17, 55, 26, 72, 69, 7, 36, 10, 18, 52, 22, 37, 41, 51, 34, 74, 61]\n",
      "Client 92 start Training\n",
      "Client 15 start Training\n",
      "Client 75 start Training\n",
      "Client 82 start Training\n",
      "Client 54 start Training\n",
      "Client 27 start Training\n",
      "Client 23 start Training\n",
      "Client 90 start Training\n",
      "Client 17 start Training\n",
      "Client 55 start Training\n",
      "Client 26 start Training\n",
      "Client 72 start Training\n",
      "Client 69 start Training\n",
      "Client 7 start Training\n",
      "Client 36 start Training\n",
      "Client 10 start Training\n",
      "Client 18 start Training\n",
      "Client 52 start Training\n",
      "Client 22 start Training\n",
      "Client 37 start Training\n",
      "Client 41 start Training\n",
      "Client 51 start Training\n",
      "Client 34 start Training\n",
      "Client 74 start Training\n",
      "Client 61 start Training\n",
      "Finish training. Collecting parameters...\n",
      "Clients updated ! Ready for next round\n"
     ]
    },
    {
     "data": {
      "text/html": [
       "Finishing last run (ID:19zqntrl) before initializing another..."
      ],
      "text/plain": [
       "<IPython.core.display.HTML object>"
      ]
     },
     "metadata": {},
     "output_type": "display_data"
    },
    {
     "data": {
      "text/html": [
       "Waiting for W&B process to finish... <strong style=\"color:green\">(success).</strong>"
      ],
      "text/plain": [
       "<IPython.core.display.HTML object>"
      ]
     },
     "metadata": {},
     "output_type": "display_data"
    },
    {
     "data": {
      "text/html": [
       "<style>\n",
       "    table.wandb td:nth-child(1) { padding: 0 10px; text-align: left ; width: auto;} td:nth-child(2) {text-align: left ; width: 100%}\n",
       "    .wandb-row { display: flex; flex-direction: row; flex-wrap: wrap; justify-content: flex-start; width: 100% }\n",
       "    .wandb-col { display: flex; flex-direction: column; flex-basis: 100%; flex: 1; padding: 10px; }\n",
       "    </style>\n",
       "<div class=\"wandb-row\"><div class=\"wandb-col\"><h3>Run history:</h3><br/><table class=\"wandb\"><tr><td>accuracy</td><td>▁</td></tr><tr><td>loss</td><td>▁</td></tr><tr><td>round</td><td>▁</td></tr></table><br/></div><div class=\"wandb-col\"><h3>Run summary:</h3><br/><table class=\"wandb\"><tr><td>accuracy</td><td>0.17139</td></tr><tr><td>loss</td><td>1.10302</td></tr><tr><td>round</td><td>33</td></tr></table><br/></div></div>"
      ],
      "text/plain": [
       "<IPython.core.display.HTML object>"
      ]
     },
     "metadata": {},
     "output_type": "display_data"
    },
    {
     "data": {
      "text/html": [
       "You can sync this run to the cloud by running:<br/><code>wandb sync f:\\Thesis\\Model train\\Federated_training\\wandb\\offline-run-20221216_032227-19zqntrl<code>"
      ],
      "text/plain": [
       "<IPython.core.display.HTML object>"
      ]
     },
     "metadata": {},
     "output_type": "display_data"
    },
    {
     "data": {
      "text/html": [
       "Find logs at: <code>.\\wandb\\offline-run-20221216_032227-19zqntrl\\logs</code>"
      ],
      "text/plain": [
       "<IPython.core.display.HTML object>"
      ]
     },
     "metadata": {},
     "output_type": "display_data"
    },
    {
     "data": {
      "text/html": [
       "Successfully finished last run (ID:19zqntrl). Initializing new run:<br/>"
      ],
      "text/plain": [
       "<IPython.core.display.HTML object>"
      ]
     },
     "metadata": {},
     "output_type": "display_data"
    },
    {
     "data": {
      "text/html": [
       "Tracking run with wandb version 0.13.5"
      ],
      "text/plain": [
       "<IPython.core.display.HTML object>"
      ]
     },
     "metadata": {},
     "output_type": "display_data"
    },
    {
     "data": {
      "text/html": [
       "W&B syncing is set to <code>`offline`<code> in this directory.  <br/>Run <code>`wandb online`<code> or set <code>WANDB_MODE=online<code> to enable cloud syncing."
      ],
      "text/plain": [
       "<IPython.core.display.HTML object>"
      ]
     },
     "metadata": {},
     "output_type": "display_data"
    },
    {
     "name": "stdout",
     "output_type": "stream",
     "text": [
      "Evaluation successfully, \n",
      "Round : 34 ,Accuracy : 0.17566844919786098 loss : 1.145802395547775 \n",
      "Round {} 35\n",
      "Including clients: [24, 73, 6, 63, 30, 3, 90, 91, 28, 41, 96, 20, 58, 89, 21, 18, 72, 87, 76, 92, 99, 82, 49, 44, 74]\n",
      "Client 24 start Training\n",
      "Client 73 start Training\n",
      "Client 6 start Training\n",
      "Client 63 start Training\n",
      "Client 30 start Training\n",
      "Client 3 start Training\n",
      "Client 90 start Training\n",
      "Client 91 start Training\n",
      "Client 28 start Training\n",
      "Client 41 start Training\n",
      "Client 96 start Training\n",
      "Client 20 start Training\n",
      "Client 58 start Training\n",
      "Client 89 start Training\n",
      "Client 21 start Training\n",
      "Client 18 start Training\n",
      "Client 72 start Training\n",
      "Client 87 start Training\n",
      "Client 76 start Training\n",
      "Client 92 start Training\n",
      "Client 99 start Training\n",
      "Client 82 start Training\n",
      "Client 49 start Training\n",
      "Client 44 start Training\n",
      "Client 74 start Training\n",
      "Finish training. Collecting parameters...\n",
      "Clients updated ! Ready for next round\n"
     ]
    },
    {
     "data": {
      "text/html": [
       "Finishing last run (ID:1uoyr4ix) before initializing another..."
      ],
      "text/plain": [
       "<IPython.core.display.HTML object>"
      ]
     },
     "metadata": {},
     "output_type": "display_data"
    },
    {
     "data": {
      "text/html": [
       "Waiting for W&B process to finish... <strong style=\"color:green\">(success).</strong>"
      ],
      "text/plain": [
       "<IPython.core.display.HTML object>"
      ]
     },
     "metadata": {},
     "output_type": "display_data"
    },
    {
     "data": {
      "text/html": [
       "<style>\n",
       "    table.wandb td:nth-child(1) { padding: 0 10px; text-align: left ; width: auto;} td:nth-child(2) {text-align: left ; width: 100%}\n",
       "    .wandb-row { display: flex; flex-direction: row; flex-wrap: wrap; justify-content: flex-start; width: 100% }\n",
       "    .wandb-col { display: flex; flex-direction: column; flex-basis: 100%; flex: 1; padding: 10px; }\n",
       "    </style>\n",
       "<div class=\"wandb-row\"><div class=\"wandb-col\"><h3>Run history:</h3><br/><table class=\"wandb\"><tr><td>accuracy</td><td>▁</td></tr><tr><td>loss</td><td>▁</td></tr><tr><td>round</td><td>▁</td></tr></table><br/></div><div class=\"wandb-col\"><h3>Run summary:</h3><br/><table class=\"wandb\"><tr><td>accuracy</td><td>0.17567</td></tr><tr><td>loss</td><td>1.1458</td></tr><tr><td>round</td><td>34</td></tr></table><br/></div></div>"
      ],
      "text/plain": [
       "<IPython.core.display.HTML object>"
      ]
     },
     "metadata": {},
     "output_type": "display_data"
    },
    {
     "data": {
      "text/html": [
       "You can sync this run to the cloud by running:<br/><code>wandb sync f:\\Thesis\\Model train\\Federated_training\\wandb\\offline-run-20221216_033627-1uoyr4ix<code>"
      ],
      "text/plain": [
       "<IPython.core.display.HTML object>"
      ]
     },
     "metadata": {},
     "output_type": "display_data"
    },
    {
     "data": {
      "text/html": [
       "Find logs at: <code>.\\wandb\\offline-run-20221216_033627-1uoyr4ix\\logs</code>"
      ],
      "text/plain": [
       "<IPython.core.display.HTML object>"
      ]
     },
     "metadata": {},
     "output_type": "display_data"
    },
    {
     "data": {
      "text/html": [
       "Successfully finished last run (ID:1uoyr4ix). Initializing new run:<br/>"
      ],
      "text/plain": [
       "<IPython.core.display.HTML object>"
      ]
     },
     "metadata": {},
     "output_type": "display_data"
    },
    {
     "data": {
      "text/html": [
       "Tracking run with wandb version 0.13.5"
      ],
      "text/plain": [
       "<IPython.core.display.HTML object>"
      ]
     },
     "metadata": {},
     "output_type": "display_data"
    },
    {
     "data": {
      "text/html": [
       "W&B syncing is set to <code>`offline`<code> in this directory.  <br/>Run <code>`wandb online`<code> or set <code>WANDB_MODE=online<code> to enable cloud syncing."
      ],
      "text/plain": [
       "<IPython.core.display.HTML object>"
      ]
     },
     "metadata": {},
     "output_type": "display_data"
    },
    {
     "name": "stdout",
     "output_type": "stream",
     "text": [
      "model saved, best accuracy: 0.1767379679144385\n",
      "Evaluation successfully, \n",
      "Round : 35 ,Accuracy : 0.1767379679144385 loss : 1.1705968029358809 \n",
      "Round {} 36\n",
      "Including clients: [16, 1, 59, 44, 62, 29, 27, 97, 84, 91, 64, 61, 70, 81, 56, 18, 51, 36, 31, 53, 46, 11, 45, 22, 38]\n",
      "Client 16 start Training\n",
      "Client 1 start Training\n",
      "Client 59 start Training\n",
      "Client 44 start Training\n",
      "Client 62 start Training\n",
      "Client 29 start Training\n",
      "Client 27 start Training\n",
      "Client 97 start Training\n",
      "Client 84 start Training\n",
      "Client 91 start Training\n",
      "Client 64 start Training\n",
      "Client 61 start Training\n",
      "Client 70 start Training\n",
      "Client 81 start Training\n",
      "Client 56 start Training\n",
      "Client 18 start Training\n",
      "Client 51 start Training\n",
      "Client 36 start Training\n",
      "Client 31 start Training\n",
      "Client 53 start Training\n",
      "Client 46 start Training\n",
      "Client 11 start Training\n",
      "Client 45 start Training\n",
      "Client 22 start Training\n",
      "Client 38 start Training\n",
      "Finish training. Collecting parameters...\n",
      "Clients updated ! Ready for next round\n"
     ]
    },
    {
     "data": {
      "text/html": [
       "Finishing last run (ID:2xi3s7dz) before initializing another..."
      ],
      "text/plain": [
       "<IPython.core.display.HTML object>"
      ]
     },
     "metadata": {},
     "output_type": "display_data"
    },
    {
     "data": {
      "text/html": [
       "Waiting for W&B process to finish... <strong style=\"color:green\">(success).</strong>"
      ],
      "text/plain": [
       "<IPython.core.display.HTML object>"
      ]
     },
     "metadata": {},
     "output_type": "display_data"
    },
    {
     "data": {
      "text/html": [
       "<style>\n",
       "    table.wandb td:nth-child(1) { padding: 0 10px; text-align: left ; width: auto;} td:nth-child(2) {text-align: left ; width: 100%}\n",
       "    .wandb-row { display: flex; flex-direction: row; flex-wrap: wrap; justify-content: flex-start; width: 100% }\n",
       "    .wandb-col { display: flex; flex-direction: column; flex-basis: 100%; flex: 1; padding: 10px; }\n",
       "    </style>\n",
       "<div class=\"wandb-row\"><div class=\"wandb-col\"><h3>Run history:</h3><br/><table class=\"wandb\"><tr><td>accuracy</td><td>▁</td></tr><tr><td>loss</td><td>▁</td></tr><tr><td>round</td><td>▁</td></tr></table><br/></div><div class=\"wandb-col\"><h3>Run summary:</h3><br/><table class=\"wandb\"><tr><td>accuracy</td><td>0.17674</td></tr><tr><td>loss</td><td>1.1706</td></tr><tr><td>round</td><td>35</td></tr></table><br/></div></div>"
      ],
      "text/plain": [
       "<IPython.core.display.HTML object>"
      ]
     },
     "metadata": {},
     "output_type": "display_data"
    },
    {
     "data": {
      "text/html": [
       "You can sync this run to the cloud by running:<br/><code>wandb sync f:\\Thesis\\Model train\\Federated_training\\wandb\\offline-run-20221216_035029-2xi3s7dz<code>"
      ],
      "text/plain": [
       "<IPython.core.display.HTML object>"
      ]
     },
     "metadata": {},
     "output_type": "display_data"
    },
    {
     "data": {
      "text/html": [
       "Find logs at: <code>.\\wandb\\offline-run-20221216_035029-2xi3s7dz\\logs</code>"
      ],
      "text/plain": [
       "<IPython.core.display.HTML object>"
      ]
     },
     "metadata": {},
     "output_type": "display_data"
    },
    {
     "data": {
      "text/html": [
       "Successfully finished last run (ID:2xi3s7dz). Initializing new run:<br/>"
      ],
      "text/plain": [
       "<IPython.core.display.HTML object>"
      ]
     },
     "metadata": {},
     "output_type": "display_data"
    },
    {
     "data": {
      "text/html": [
       "Tracking run with wandb version 0.13.5"
      ],
      "text/plain": [
       "<IPython.core.display.HTML object>"
      ]
     },
     "metadata": {},
     "output_type": "display_data"
    },
    {
     "data": {
      "text/html": [
       "W&B syncing is set to <code>`offline`<code> in this directory.  <br/>Run <code>`wandb online`<code> or set <code>WANDB_MODE=online<code> to enable cloud syncing."
      ],
      "text/plain": [
       "<IPython.core.display.HTML object>"
      ]
     },
     "metadata": {},
     "output_type": "display_data"
    },
    {
     "name": "stdout",
     "output_type": "stream",
     "text": [
      "model saved, best accuracy: 0.1772727272727273\n",
      "Evaluation successfully, \n",
      "Round : 36 ,Accuracy : 0.1772727272727273 loss : 1.1961927912770745 \n",
      "Round {} 37\n",
      "Including clients: [84, 49, 78, 61, 51, 11, 87, 39, 64, 19, 6, 17, 15, 27, 99, 81, 97, 88, 36, 65, 35, 7, 93, 8, 53]\n",
      "Client 84 start Training\n",
      "Client 49 start Training\n",
      "Client 78 start Training\n",
      "Client 61 start Training\n",
      "Client 51 start Training\n",
      "Client 11 start Training\n",
      "Client 87 start Training\n",
      "Client 39 start Training\n",
      "Client 64 start Training\n",
      "Client 19 start Training\n",
      "Client 6 start Training\n",
      "Client 17 start Training\n",
      "Client 15 start Training\n",
      "Client 27 start Training\n",
      "Client 99 start Training\n",
      "Client 81 start Training\n",
      "Client 97 start Training\n",
      "Client 88 start Training\n",
      "Client 36 start Training\n",
      "Client 65 start Training\n",
      "Client 35 start Training\n",
      "Client 7 start Training\n",
      "Client 93 start Training\n",
      "Client 8 start Training\n",
      "Client 53 start Training\n",
      "Finish training. Collecting parameters...\n",
      "Clients updated ! Ready for next round\n"
     ]
    },
    {
     "data": {
      "text/html": [
       "Finishing last run (ID:og1ske4b) before initializing another..."
      ],
      "text/plain": [
       "<IPython.core.display.HTML object>"
      ]
     },
     "metadata": {},
     "output_type": "display_data"
    },
    {
     "data": {
      "text/html": [
       "Waiting for W&B process to finish... <strong style=\"color:green\">(success).</strong>"
      ],
      "text/plain": [
       "<IPython.core.display.HTML object>"
      ]
     },
     "metadata": {},
     "output_type": "display_data"
    },
    {
     "data": {
      "text/html": [
       "<style>\n",
       "    table.wandb td:nth-child(1) { padding: 0 10px; text-align: left ; width: auto;} td:nth-child(2) {text-align: left ; width: 100%}\n",
       "    .wandb-row { display: flex; flex-direction: row; flex-wrap: wrap; justify-content: flex-start; width: 100% }\n",
       "    .wandb-col { display: flex; flex-direction: column; flex-basis: 100%; flex: 1; padding: 10px; }\n",
       "    </style>\n",
       "<div class=\"wandb-row\"><div class=\"wandb-col\"><h3>Run history:</h3><br/><table class=\"wandb\"><tr><td>accuracy</td><td>▁</td></tr><tr><td>loss</td><td>▁</td></tr><tr><td>round</td><td>▁</td></tr></table><br/></div><div class=\"wandb-col\"><h3>Run summary:</h3><br/><table class=\"wandb\"><tr><td>accuracy</td><td>0.17727</td></tr><tr><td>loss</td><td>1.19619</td></tr><tr><td>round</td><td>36</td></tr></table><br/></div></div>"
      ],
      "text/plain": [
       "<IPython.core.display.HTML object>"
      ]
     },
     "metadata": {},
     "output_type": "display_data"
    },
    {
     "data": {
      "text/html": [
       "You can sync this run to the cloud by running:<br/><code>wandb sync f:\\Thesis\\Model train\\Federated_training\\wandb\\offline-run-20221216_040427-og1ske4b<code>"
      ],
      "text/plain": [
       "<IPython.core.display.HTML object>"
      ]
     },
     "metadata": {},
     "output_type": "display_data"
    },
    {
     "data": {
      "text/html": [
       "Find logs at: <code>.\\wandb\\offline-run-20221216_040427-og1ske4b\\logs</code>"
      ],
      "text/plain": [
       "<IPython.core.display.HTML object>"
      ]
     },
     "metadata": {},
     "output_type": "display_data"
    },
    {
     "data": {
      "text/html": [
       "Successfully finished last run (ID:og1ske4b). Initializing new run:<br/>"
      ],
      "text/plain": [
       "<IPython.core.display.HTML object>"
      ]
     },
     "metadata": {},
     "output_type": "display_data"
    },
    {
     "data": {
      "text/html": [
       "Tracking run with wandb version 0.13.5"
      ],
      "text/plain": [
       "<IPython.core.display.HTML object>"
      ]
     },
     "metadata": {},
     "output_type": "display_data"
    },
    {
     "data": {
      "text/html": [
       "W&B syncing is set to <code>`offline`<code> in this directory.  <br/>Run <code>`wandb online`<code> or set <code>WANDB_MODE=online<code> to enable cloud syncing."
      ],
      "text/plain": [
       "<IPython.core.display.HTML object>"
      ]
     },
     "metadata": {},
     "output_type": "display_data"
    },
    {
     "name": "stdout",
     "output_type": "stream",
     "text": [
      "Evaluation successfully, \n",
      "Round : 37 ,Accuracy : 0.17620320855614974 loss : 1.1867682554505088 \n",
      "Round {} 38\n",
      "Including clients: [35, 65, 97, 77, 40, 64, 87, 83, 43, 76, 13, 55, 41, 88, 85, 15, 73, 75, 7, 98, 44, 86, 8, 80, 57]\n",
      "Client 35 start Training\n",
      "Client 65 start Training\n",
      "Client 97 start Training\n",
      "Client 77 start Training\n",
      "Client 40 start Training\n",
      "Client 64 start Training\n",
      "Client 87 start Training\n",
      "Client 83 start Training\n",
      "Client 43 start Training\n",
      "Client 76 start Training\n",
      "Client 13 start Training\n",
      "Client 55 start Training\n",
      "Client 41 start Training\n",
      "Client 88 start Training\n",
      "Client 85 start Training\n",
      "Client 15 start Training\n",
      "Client 73 start Training\n",
      "Client 75 start Training\n",
      "Client 7 start Training\n",
      "Client 98 start Training\n",
      "Client 44 start Training\n",
      "Client 86 start Training\n",
      "Client 8 start Training\n",
      "Client 80 start Training\n",
      "Client 57 start Training\n",
      "Finish training. Collecting parameters...\n",
      "Clients updated ! Ready for next round\n"
     ]
    },
    {
     "data": {
      "text/html": [
       "Finishing last run (ID:iuiyp9lb) before initializing another..."
      ],
      "text/plain": [
       "<IPython.core.display.HTML object>"
      ]
     },
     "metadata": {},
     "output_type": "display_data"
    },
    {
     "data": {
      "text/html": [
       "Waiting for W&B process to finish... <strong style=\"color:green\">(success).</strong>"
      ],
      "text/plain": [
       "<IPython.core.display.HTML object>"
      ]
     },
     "metadata": {},
     "output_type": "display_data"
    },
    {
     "data": {
      "text/html": [
       "<style>\n",
       "    table.wandb td:nth-child(1) { padding: 0 10px; text-align: left ; width: auto;} td:nth-child(2) {text-align: left ; width: 100%}\n",
       "    .wandb-row { display: flex; flex-direction: row; flex-wrap: wrap; justify-content: flex-start; width: 100% }\n",
       "    .wandb-col { display: flex; flex-direction: column; flex-basis: 100%; flex: 1; padding: 10px; }\n",
       "    </style>\n",
       "<div class=\"wandb-row\"><div class=\"wandb-col\"><h3>Run history:</h3><br/><table class=\"wandb\"><tr><td>accuracy</td><td>▁</td></tr><tr><td>loss</td><td>▁</td></tr><tr><td>round</td><td>▁</td></tr></table><br/></div><div class=\"wandb-col\"><h3>Run summary:</h3><br/><table class=\"wandb\"><tr><td>accuracy</td><td>0.1762</td></tr><tr><td>loss</td><td>1.18677</td></tr><tr><td>round</td><td>37</td></tr></table><br/></div></div>"
      ],
      "text/plain": [
       "<IPython.core.display.HTML object>"
      ]
     },
     "metadata": {},
     "output_type": "display_data"
    },
    {
     "data": {
      "text/html": [
       "You can sync this run to the cloud by running:<br/><code>wandb sync f:\\Thesis\\Model train\\Federated_training\\wandb\\offline-run-20221216_041829-iuiyp9lb<code>"
      ],
      "text/plain": [
       "<IPython.core.display.HTML object>"
      ]
     },
     "metadata": {},
     "output_type": "display_data"
    },
    {
     "data": {
      "text/html": [
       "Find logs at: <code>.\\wandb\\offline-run-20221216_041829-iuiyp9lb\\logs</code>"
      ],
      "text/plain": [
       "<IPython.core.display.HTML object>"
      ]
     },
     "metadata": {},
     "output_type": "display_data"
    },
    {
     "data": {
      "text/html": [
       "Successfully finished last run (ID:iuiyp9lb). Initializing new run:<br/>"
      ],
      "text/plain": [
       "<IPython.core.display.HTML object>"
      ]
     },
     "metadata": {},
     "output_type": "display_data"
    },
    {
     "data": {
      "text/html": [
       "Tracking run with wandb version 0.13.5"
      ],
      "text/plain": [
       "<IPython.core.display.HTML object>"
      ]
     },
     "metadata": {},
     "output_type": "display_data"
    },
    {
     "data": {
      "text/html": [
       "W&B syncing is set to <code>`offline`<code> in this directory.  <br/>Run <code>`wandb online`<code> or set <code>WANDB_MODE=online<code> to enable cloud syncing."
      ],
      "text/plain": [
       "<IPython.core.display.HTML object>"
      ]
     },
     "metadata": {},
     "output_type": "display_data"
    },
    {
     "name": "stdout",
     "output_type": "stream",
     "text": [
      "Evaluation successfully, \n",
      "Round : 38 ,Accuracy : 0.17620320855614974 loss : 1.1748282279879014 \n",
      "Round {} 39\n",
      "Including clients: [17, 61, 4, 37, 2, 71, 28, 62, 95, 72, 24, 97, 79, 47, 26, 56, 58, 81, 13, 27, 96, 43, 69, 82, 11]\n",
      "Client 17 start Training\n",
      "Client 61 start Training\n",
      "Client 4 start Training\n",
      "Client 37 start Training\n",
      "Client 2 start Training\n",
      "Client 71 start Training\n",
      "Client 28 start Training\n",
      "Client 62 start Training\n",
      "Client 95 start Training\n",
      "Client 72 start Training\n",
      "Client 24 start Training\n",
      "Client 97 start Training\n",
      "Client 79 start Training\n",
      "Client 47 start Training\n",
      "Client 26 start Training\n",
      "Client 56 start Training\n",
      "Client 58 start Training\n",
      "Client 81 start Training\n",
      "Client 13 start Training\n",
      "Client 27 start Training\n",
      "Client 96 start Training\n",
      "Client 43 start Training\n",
      "Client 69 start Training\n",
      "Client 82 start Training\n",
      "Client 11 start Training\n",
      "Finish training. Collecting parameters...\n",
      "Clients updated ! Ready for next round\n"
     ]
    },
    {
     "data": {
      "text/html": [
       "Finishing last run (ID:5h8fqjjd) before initializing another..."
      ],
      "text/plain": [
       "<IPython.core.display.HTML object>"
      ]
     },
     "metadata": {},
     "output_type": "display_data"
    },
    {
     "data": {
      "text/html": [
       "Waiting for W&B process to finish... <strong style=\"color:green\">(success).</strong>"
      ],
      "text/plain": [
       "<IPython.core.display.HTML object>"
      ]
     },
     "metadata": {},
     "output_type": "display_data"
    },
    {
     "data": {
      "text/html": [
       "<style>\n",
       "    table.wandb td:nth-child(1) { padding: 0 10px; text-align: left ; width: auto;} td:nth-child(2) {text-align: left ; width: 100%}\n",
       "    .wandb-row { display: flex; flex-direction: row; flex-wrap: wrap; justify-content: flex-start; width: 100% }\n",
       "    .wandb-col { display: flex; flex-direction: column; flex-basis: 100%; flex: 1; padding: 10px; }\n",
       "    </style>\n",
       "<div class=\"wandb-row\"><div class=\"wandb-col\"><h3>Run history:</h3><br/><table class=\"wandb\"><tr><td>accuracy</td><td>▁</td></tr><tr><td>loss</td><td>▁</td></tr><tr><td>round</td><td>▁</td></tr></table><br/></div><div class=\"wandb-col\"><h3>Run summary:</h3><br/><table class=\"wandb\"><tr><td>accuracy</td><td>0.1762</td></tr><tr><td>loss</td><td>1.17483</td></tr><tr><td>round</td><td>38</td></tr></table><br/></div></div>"
      ],
      "text/plain": [
       "<IPython.core.display.HTML object>"
      ]
     },
     "metadata": {},
     "output_type": "display_data"
    },
    {
     "data": {
      "text/html": [
       "You can sync this run to the cloud by running:<br/><code>wandb sync f:\\Thesis\\Model train\\Federated_training\\wandb\\offline-run-20221216_043233-5h8fqjjd<code>"
      ],
      "text/plain": [
       "<IPython.core.display.HTML object>"
      ]
     },
     "metadata": {},
     "output_type": "display_data"
    },
    {
     "data": {
      "text/html": [
       "Find logs at: <code>.\\wandb\\offline-run-20221216_043233-5h8fqjjd\\logs</code>"
      ],
      "text/plain": [
       "<IPython.core.display.HTML object>"
      ]
     },
     "metadata": {},
     "output_type": "display_data"
    },
    {
     "data": {
      "text/html": [
       "Successfully finished last run (ID:5h8fqjjd). Initializing new run:<br/>"
      ],
      "text/plain": [
       "<IPython.core.display.HTML object>"
      ]
     },
     "metadata": {},
     "output_type": "display_data"
    },
    {
     "data": {
      "text/html": [
       "Tracking run with wandb version 0.13.5"
      ],
      "text/plain": [
       "<IPython.core.display.HTML object>"
      ]
     },
     "metadata": {},
     "output_type": "display_data"
    },
    {
     "data": {
      "text/html": [
       "W&B syncing is set to <code>`offline`<code> in this directory.  <br/>Run <code>`wandb online`<code> or set <code>WANDB_MODE=online<code> to enable cloud syncing."
      ],
      "text/plain": [
       "<IPython.core.display.HTML object>"
      ]
     },
     "metadata": {},
     "output_type": "display_data"
    },
    {
     "name": "stdout",
     "output_type": "stream",
     "text": [
      "Evaluation successfully, \n",
      "Round : 39 ,Accuracy : 0.17540106951871656 loss : 1.1790137690975067 \n",
      "Round {} 40\n",
      "Including clients: [38, 21, 24, 6, 20, 94, 7, 90, 44, 35, 10, 16, 58, 18, 3, 9, 69, 82, 84, 81, 92, 74, 15, 71, 4]\n",
      "Client 38 start Training\n",
      "Client 21 start Training\n",
      "Client 24 start Training\n",
      "Client 6 start Training\n",
      "Client 20 start Training\n",
      "Client 94 start Training\n",
      "Client 7 start Training\n",
      "Client 90 start Training\n",
      "Client 44 start Training\n",
      "Client 35 start Training\n",
      "Client 10 start Training\n",
      "Client 16 start Training\n",
      "Client 58 start Training\n",
      "Client 18 start Training\n",
      "Client 3 start Training\n",
      "Client 9 start Training\n",
      "Client 69 start Training\n",
      "Client 82 start Training\n",
      "Client 84 start Training\n",
      "Client 81 start Training\n",
      "Client 92 start Training\n",
      "Client 74 start Training\n",
      "Client 15 start Training\n",
      "Client 71 start Training\n",
      "Client 4 start Training\n",
      "Finish training. Collecting parameters...\n",
      "Clients updated ! Ready for next round\n"
     ]
    },
    {
     "data": {
      "text/html": [
       "Finishing last run (ID:9e8pdyoj) before initializing another..."
      ],
      "text/plain": [
       "<IPython.core.display.HTML object>"
      ]
     },
     "metadata": {},
     "output_type": "display_data"
    },
    {
     "data": {
      "text/html": [
       "Waiting for W&B process to finish... <strong style=\"color:green\">(success).</strong>"
      ],
      "text/plain": [
       "<IPython.core.display.HTML object>"
      ]
     },
     "metadata": {},
     "output_type": "display_data"
    },
    {
     "data": {
      "text/html": [
       "<style>\n",
       "    table.wandb td:nth-child(1) { padding: 0 10px; text-align: left ; width: auto;} td:nth-child(2) {text-align: left ; width: 100%}\n",
       "    .wandb-row { display: flex; flex-direction: row; flex-wrap: wrap; justify-content: flex-start; width: 100% }\n",
       "    .wandb-col { display: flex; flex-direction: column; flex-basis: 100%; flex: 1; padding: 10px; }\n",
       "    </style>\n",
       "<div class=\"wandb-row\"><div class=\"wandb-col\"><h3>Run history:</h3><br/><table class=\"wandb\"><tr><td>accuracy</td><td>▁</td></tr><tr><td>loss</td><td>▁</td></tr><tr><td>round</td><td>▁</td></tr></table><br/></div><div class=\"wandb-col\"><h3>Run summary:</h3><br/><table class=\"wandb\"><tr><td>accuracy</td><td>0.1754</td></tr><tr><td>loss</td><td>1.17901</td></tr><tr><td>round</td><td>39</td></tr></table><br/></div></div>"
      ],
      "text/plain": [
       "<IPython.core.display.HTML object>"
      ]
     },
     "metadata": {},
     "output_type": "display_data"
    },
    {
     "data": {
      "text/html": [
       "You can sync this run to the cloud by running:<br/><code>wandb sync f:\\Thesis\\Model train\\Federated_training\\wandb\\offline-run-20221216_044631-9e8pdyoj<code>"
      ],
      "text/plain": [
       "<IPython.core.display.HTML object>"
      ]
     },
     "metadata": {},
     "output_type": "display_data"
    },
    {
     "data": {
      "text/html": [
       "Find logs at: <code>.\\wandb\\offline-run-20221216_044631-9e8pdyoj\\logs</code>"
      ],
      "text/plain": [
       "<IPython.core.display.HTML object>"
      ]
     },
     "metadata": {},
     "output_type": "display_data"
    },
    {
     "data": {
      "text/html": [
       "Successfully finished last run (ID:9e8pdyoj). Initializing new run:<br/>"
      ],
      "text/plain": [
       "<IPython.core.display.HTML object>"
      ]
     },
     "metadata": {},
     "output_type": "display_data"
    },
    {
     "data": {
      "text/html": [
       "Tracking run with wandb version 0.13.5"
      ],
      "text/plain": [
       "<IPython.core.display.HTML object>"
      ]
     },
     "metadata": {},
     "output_type": "display_data"
    },
    {
     "data": {
      "text/html": [
       "W&B syncing is set to <code>`offline`<code> in this directory.  <br/>Run <code>`wandb online`<code> or set <code>WANDB_MODE=online<code> to enable cloud syncing."
      ],
      "text/plain": [
       "<IPython.core.display.HTML object>"
      ]
     },
     "metadata": {},
     "output_type": "display_data"
    },
    {
     "name": "stdout",
     "output_type": "stream",
     "text": [
      "Evaluation successfully, \n",
      "Round : 40 ,Accuracy : 0.17647058823529413 loss : 1.1672447954907137 \n",
      "Round {} 41\n",
      "Including clients: [96, 56, 48, 30, 59, 26, 11, 80, 27, 50, 54, 6, 55, 1, 10, 45, 24, 68, 97, 77, 17, 88, 86, 13, 62]\n",
      "Client 96 start Training\n",
      "Client 56 start Training\n",
      "Client 48 start Training\n",
      "Client 30 start Training\n",
      "Client 59 start Training\n",
      "Client 26 start Training\n",
      "Client 11 start Training\n",
      "Client 80 start Training\n",
      "Client 27 start Training\n",
      "Client 50 start Training\n",
      "Client 54 start Training\n",
      "Client 6 start Training\n",
      "Client 55 start Training\n",
      "Client 1 start Training\n",
      "Client 10 start Training\n",
      "Client 45 start Training\n",
      "Client 24 start Training\n",
      "Client 68 start Training\n",
      "Client 97 start Training\n",
      "Client 77 start Training\n",
      "Client 17 start Training\n",
      "Client 88 start Training\n",
      "Client 86 start Training\n",
      "Client 13 start Training\n",
      "Client 62 start Training\n",
      "Finish training. Collecting parameters...\n",
      "Clients updated ! Ready for next round\n"
     ]
    },
    {
     "data": {
      "text/html": [
       "Finishing last run (ID:25ircxmc) before initializing another..."
      ],
      "text/plain": [
       "<IPython.core.display.HTML object>"
      ]
     },
     "metadata": {},
     "output_type": "display_data"
    },
    {
     "data": {
      "text/html": [
       "Waiting for W&B process to finish... <strong style=\"color:green\">(success).</strong>"
      ],
      "text/plain": [
       "<IPython.core.display.HTML object>"
      ]
     },
     "metadata": {},
     "output_type": "display_data"
    },
    {
     "data": {
      "text/html": [
       "<style>\n",
       "    table.wandb td:nth-child(1) { padding: 0 10px; text-align: left ; width: auto;} td:nth-child(2) {text-align: left ; width: 100%}\n",
       "    .wandb-row { display: flex; flex-direction: row; flex-wrap: wrap; justify-content: flex-start; width: 100% }\n",
       "    .wandb-col { display: flex; flex-direction: column; flex-basis: 100%; flex: 1; padding: 10px; }\n",
       "    </style>\n",
       "<div class=\"wandb-row\"><div class=\"wandb-col\"><h3>Run history:</h3><br/><table class=\"wandb\"><tr><td>accuracy</td><td>▁</td></tr><tr><td>loss</td><td>▁</td></tr><tr><td>round</td><td>▁</td></tr></table><br/></div><div class=\"wandb-col\"><h3>Run summary:</h3><br/><table class=\"wandb\"><tr><td>accuracy</td><td>0.17647</td></tr><tr><td>loss</td><td>1.16724</td></tr><tr><td>round</td><td>40</td></tr></table><br/></div></div>"
      ],
      "text/plain": [
       "<IPython.core.display.HTML object>"
      ]
     },
     "metadata": {},
     "output_type": "display_data"
    },
    {
     "data": {
      "text/html": [
       "You can sync this run to the cloud by running:<br/><code>wandb sync f:\\Thesis\\Model train\\Federated_training\\wandb\\offline-run-20221216_050029-25ircxmc<code>"
      ],
      "text/plain": [
       "<IPython.core.display.HTML object>"
      ]
     },
     "metadata": {},
     "output_type": "display_data"
    },
    {
     "data": {
      "text/html": [
       "Find logs at: <code>.\\wandb\\offline-run-20221216_050029-25ircxmc\\logs</code>"
      ],
      "text/plain": [
       "<IPython.core.display.HTML object>"
      ]
     },
     "metadata": {},
     "output_type": "display_data"
    },
    {
     "data": {
      "text/html": [
       "Successfully finished last run (ID:25ircxmc). Initializing new run:<br/>"
      ],
      "text/plain": [
       "<IPython.core.display.HTML object>"
      ]
     },
     "metadata": {},
     "output_type": "display_data"
    },
    {
     "data": {
      "text/html": [
       "Tracking run with wandb version 0.13.5"
      ],
      "text/plain": [
       "<IPython.core.display.HTML object>"
      ]
     },
     "metadata": {},
     "output_type": "display_data"
    },
    {
     "data": {
      "text/html": [
       "W&B syncing is set to <code>`offline`<code> in this directory.  <br/>Run <code>`wandb online`<code> or set <code>WANDB_MODE=online<code> to enable cloud syncing."
      ],
      "text/plain": [
       "<IPython.core.display.HTML object>"
      ]
     },
     "metadata": {},
     "output_type": "display_data"
    },
    {
     "name": "stdout",
     "output_type": "stream",
     "text": [
      "Evaluation successfully, \n",
      "Round : 41 ,Accuracy : 0.17486631016042786 loss : 1.1680274918117626 \n",
      "Round {} 42\n",
      "Including clients: [40, 59, 53, 94, 46, 76, 37, 31, 6, 79, 87, 10, 5, 42, 2, 23, 70, 88, 20, 66, 83, 71, 19, 95, 85]\n",
      "Client 40 start Training\n",
      "Client 59 start Training\n",
      "Client 53 start Training\n",
      "Client 94 start Training\n",
      "Client 46 start Training\n",
      "Client 76 start Training\n",
      "Client 37 start Training\n",
      "Client 31 start Training\n",
      "Client 6 start Training\n",
      "Client 79 start Training\n",
      "Client 87 start Training\n",
      "Client 10 start Training\n",
      "Client 5 start Training\n",
      "Client 42 start Training\n",
      "Client 2 start Training\n",
      "Client 23 start Training\n",
      "Client 70 start Training\n",
      "Client 88 start Training\n",
      "Client 20 start Training\n",
      "Client 66 start Training\n",
      "Client 83 start Training\n",
      "Client 71 start Training\n",
      "Client 19 start Training\n",
      "Client 95 start Training\n",
      "Client 85 start Training\n",
      "Finish training. Collecting parameters...\n",
      "Clients updated ! Ready for next round\n"
     ]
    },
    {
     "data": {
      "text/html": [
       "Finishing last run (ID:28a0s35y) before initializing another..."
      ],
      "text/plain": [
       "<IPython.core.display.HTML object>"
      ]
     },
     "metadata": {},
     "output_type": "display_data"
    },
    {
     "data": {
      "text/html": [
       "Waiting for W&B process to finish... <strong style=\"color:green\">(success).</strong>"
      ],
      "text/plain": [
       "<IPython.core.display.HTML object>"
      ]
     },
     "metadata": {},
     "output_type": "display_data"
    },
    {
     "data": {
      "text/html": [
       "<style>\n",
       "    table.wandb td:nth-child(1) { padding: 0 10px; text-align: left ; width: auto;} td:nth-child(2) {text-align: left ; width: 100%}\n",
       "    .wandb-row { display: flex; flex-direction: row; flex-wrap: wrap; justify-content: flex-start; width: 100% }\n",
       "    .wandb-col { display: flex; flex-direction: column; flex-basis: 100%; flex: 1; padding: 10px; }\n",
       "    </style>\n",
       "<div class=\"wandb-row\"><div class=\"wandb-col\"><h3>Run history:</h3><br/><table class=\"wandb\"><tr><td>accuracy</td><td>▁</td></tr><tr><td>loss</td><td>▁</td></tr><tr><td>round</td><td>▁</td></tr></table><br/></div><div class=\"wandb-col\"><h3>Run summary:</h3><br/><table class=\"wandb\"><tr><td>accuracy</td><td>0.17487</td></tr><tr><td>loss</td><td>1.16803</td></tr><tr><td>round</td><td>41</td></tr></table><br/></div></div>"
      ],
      "text/plain": [
       "<IPython.core.display.HTML object>"
      ]
     },
     "metadata": {},
     "output_type": "display_data"
    },
    {
     "data": {
      "text/html": [
       "You can sync this run to the cloud by running:<br/><code>wandb sync f:\\Thesis\\Model train\\Federated_training\\wandb\\offline-run-20221216_051430-28a0s35y<code>"
      ],
      "text/plain": [
       "<IPython.core.display.HTML object>"
      ]
     },
     "metadata": {},
     "output_type": "display_data"
    },
    {
     "data": {
      "text/html": [
       "Find logs at: <code>.\\wandb\\offline-run-20221216_051430-28a0s35y\\logs</code>"
      ],
      "text/plain": [
       "<IPython.core.display.HTML object>"
      ]
     },
     "metadata": {},
     "output_type": "display_data"
    },
    {
     "data": {
      "text/html": [
       "Successfully finished last run (ID:28a0s35y). Initializing new run:<br/>"
      ],
      "text/plain": [
       "<IPython.core.display.HTML object>"
      ]
     },
     "metadata": {},
     "output_type": "display_data"
    },
    {
     "data": {
      "text/html": [
       "Tracking run with wandb version 0.13.5"
      ],
      "text/plain": [
       "<IPython.core.display.HTML object>"
      ]
     },
     "metadata": {},
     "output_type": "display_data"
    },
    {
     "data": {
      "text/html": [
       "W&B syncing is set to <code>`offline`<code> in this directory.  <br/>Run <code>`wandb online`<code> or set <code>WANDB_MODE=online<code> to enable cloud syncing."
      ],
      "text/plain": [
       "<IPython.core.display.HTML object>"
      ]
     },
     "metadata": {},
     "output_type": "display_data"
    },
    {
     "name": "stdout",
     "output_type": "stream",
     "text": [
      "Evaluation successfully, \n",
      "Round : 42 ,Accuracy : 0.17486631016042783 loss : 1.1470177591165758 \n",
      "Round {} 43\n",
      "Including clients: [82, 71, 28, 1, 97, 91, 45, 99, 33, 73, 88, 18, 22, 24, 5, 44, 40, 54, 25, 32, 10, 23, 76, 11, 16]\n",
      "Client 82 start Training\n",
      "Client 71 start Training\n",
      "Client 28 start Training\n",
      "Client 1 start Training\n",
      "Client 97 start Training\n",
      "Client 91 start Training\n",
      "Client 45 start Training\n",
      "Client 99 start Training\n",
      "Client 33 start Training\n",
      "Client 73 start Training\n",
      "Client 88 start Training\n",
      "Client 18 start Training\n",
      "Client 22 start Training\n",
      "Client 24 start Training\n",
      "Client 5 start Training\n",
      "Client 44 start Training\n",
      "Client 40 start Training\n",
      "Client 54 start Training\n",
      "Client 25 start Training\n",
      "Client 32 start Training\n",
      "Client 10 start Training\n",
      "Client 23 start Training\n",
      "Client 76 start Training\n",
      "Client 11 start Training\n",
      "Client 16 start Training\n",
      "Finish training. Collecting parameters...\n",
      "Clients updated ! Ready for next round\n"
     ]
    },
    {
     "data": {
      "text/html": [
       "Finishing last run (ID:37xygtie) before initializing another..."
      ],
      "text/plain": [
       "<IPython.core.display.HTML object>"
      ]
     },
     "metadata": {},
     "output_type": "display_data"
    },
    {
     "data": {
      "text/html": [
       "Waiting for W&B process to finish... <strong style=\"color:green\">(success).</strong>"
      ],
      "text/plain": [
       "<IPython.core.display.HTML object>"
      ]
     },
     "metadata": {},
     "output_type": "display_data"
    },
    {
     "data": {
      "text/html": [
       "<style>\n",
       "    table.wandb td:nth-child(1) { padding: 0 10px; text-align: left ; width: auto;} td:nth-child(2) {text-align: left ; width: 100%}\n",
       "    .wandb-row { display: flex; flex-direction: row; flex-wrap: wrap; justify-content: flex-start; width: 100% }\n",
       "    .wandb-col { display: flex; flex-direction: column; flex-basis: 100%; flex: 1; padding: 10px; }\n",
       "    </style>\n",
       "<div class=\"wandb-row\"><div class=\"wandb-col\"><h3>Run history:</h3><br/><table class=\"wandb\"><tr><td>accuracy</td><td>▁</td></tr><tr><td>loss</td><td>▁</td></tr><tr><td>round</td><td>▁</td></tr></table><br/></div><div class=\"wandb-col\"><h3>Run summary:</h3><br/><table class=\"wandb\"><tr><td>accuracy</td><td>0.17487</td></tr><tr><td>loss</td><td>1.14702</td></tr><tr><td>round</td><td>42</td></tr></table><br/></div></div>"
      ],
      "text/plain": [
       "<IPython.core.display.HTML object>"
      ]
     },
     "metadata": {},
     "output_type": "display_data"
    },
    {
     "data": {
      "text/html": [
       "You can sync this run to the cloud by running:<br/><code>wandb sync f:\\Thesis\\Model train\\Federated_training\\wandb\\offline-run-20221216_052836-37xygtie<code>"
      ],
      "text/plain": [
       "<IPython.core.display.HTML object>"
      ]
     },
     "metadata": {},
     "output_type": "display_data"
    },
    {
     "data": {
      "text/html": [
       "Find logs at: <code>.\\wandb\\offline-run-20221216_052836-37xygtie\\logs</code>"
      ],
      "text/plain": [
       "<IPython.core.display.HTML object>"
      ]
     },
     "metadata": {},
     "output_type": "display_data"
    },
    {
     "data": {
      "text/html": [
       "Successfully finished last run (ID:37xygtie). Initializing new run:<br/>"
      ],
      "text/plain": [
       "<IPython.core.display.HTML object>"
      ]
     },
     "metadata": {},
     "output_type": "display_data"
    },
    {
     "data": {
      "text/html": [
       "Tracking run with wandb version 0.13.5"
      ],
      "text/plain": [
       "<IPython.core.display.HTML object>"
      ]
     },
     "metadata": {},
     "output_type": "display_data"
    },
    {
     "data": {
      "text/html": [
       "W&B syncing is set to <code>`offline`<code> in this directory.  <br/>Run <code>`wandb online`<code> or set <code>WANDB_MODE=online<code> to enable cloud syncing."
      ],
      "text/plain": [
       "<IPython.core.display.HTML object>"
      ]
     },
     "metadata": {},
     "output_type": "display_data"
    },
    {
     "name": "stdout",
     "output_type": "stream",
     "text": [
      "Evaluation successfully, \n",
      "Round : 43 ,Accuracy : 0.17700534759358294 loss : 1.1695158282384515 \n",
      "Round {} 44\n",
      "Including clients: [34, 10, 7, 61, 97, 83, 52, 71, 89, 62, 86, 14, 27, 93, 13, 57, 36, 85, 78, 17, 18, 95, 80, 20, 47]\n",
      "Client 34 start Training\n",
      "Client 10 start Training\n",
      "Client 7 start Training\n",
      "Client 61 start Training\n",
      "Client 97 start Training\n",
      "Client 83 start Training\n",
      "Client 52 start Training\n",
      "Client 71 start Training\n",
      "Client 89 start Training\n",
      "Client 62 start Training\n",
      "Client 86 start Training\n",
      "Client 14 start Training\n",
      "Client 27 start Training\n",
      "Client 93 start Training\n",
      "Client 13 start Training\n",
      "Client 57 start Training\n",
      "Client 36 start Training\n",
      "Client 85 start Training\n",
      "Client 78 start Training\n",
      "Client 17 start Training\n",
      "Client 18 start Training\n",
      "Client 95 start Training\n",
      "Client 80 start Training\n",
      "Client 20 start Training\n",
      "Client 47 start Training\n",
      "Finish training. Collecting parameters...\n",
      "Clients updated ! Ready for next round\n"
     ]
    },
    {
     "data": {
      "text/html": [
       "Finishing last run (ID:20b0djyk) before initializing another..."
      ],
      "text/plain": [
       "<IPython.core.display.HTML object>"
      ]
     },
     "metadata": {},
     "output_type": "display_data"
    },
    {
     "data": {
      "text/html": [
       "Waiting for W&B process to finish... <strong style=\"color:green\">(success).</strong>"
      ],
      "text/plain": [
       "<IPython.core.display.HTML object>"
      ]
     },
     "metadata": {},
     "output_type": "display_data"
    },
    {
     "data": {
      "text/html": [
       "<style>\n",
       "    table.wandb td:nth-child(1) { padding: 0 10px; text-align: left ; width: auto;} td:nth-child(2) {text-align: left ; width: 100%}\n",
       "    .wandb-row { display: flex; flex-direction: row; flex-wrap: wrap; justify-content: flex-start; width: 100% }\n",
       "    .wandb-col { display: flex; flex-direction: column; flex-basis: 100%; flex: 1; padding: 10px; }\n",
       "    </style>\n",
       "<div class=\"wandb-row\"><div class=\"wandb-col\"><h3>Run history:</h3><br/><table class=\"wandb\"><tr><td>accuracy</td><td>▁</td></tr><tr><td>loss</td><td>▁</td></tr><tr><td>round</td><td>▁</td></tr></table><br/></div><div class=\"wandb-col\"><h3>Run summary:</h3><br/><table class=\"wandb\"><tr><td>accuracy</td><td>0.17701</td></tr><tr><td>loss</td><td>1.16952</td></tr><tr><td>round</td><td>43</td></tr></table><br/></div></div>"
      ],
      "text/plain": [
       "<IPython.core.display.HTML object>"
      ]
     },
     "metadata": {},
     "output_type": "display_data"
    },
    {
     "data": {
      "text/html": [
       "You can sync this run to the cloud by running:<br/><code>wandb sync f:\\Thesis\\Model train\\Federated_training\\wandb\\offline-run-20221216_054235-20b0djyk<code>"
      ],
      "text/plain": [
       "<IPython.core.display.HTML object>"
      ]
     },
     "metadata": {},
     "output_type": "display_data"
    },
    {
     "data": {
      "text/html": [
       "Find logs at: <code>.\\wandb\\offline-run-20221216_054235-20b0djyk\\logs</code>"
      ],
      "text/plain": [
       "<IPython.core.display.HTML object>"
      ]
     },
     "metadata": {},
     "output_type": "display_data"
    },
    {
     "data": {
      "text/html": [
       "Successfully finished last run (ID:20b0djyk). Initializing new run:<br/>"
      ],
      "text/plain": [
       "<IPython.core.display.HTML object>"
      ]
     },
     "metadata": {},
     "output_type": "display_data"
    },
    {
     "data": {
      "text/html": [
       "Tracking run with wandb version 0.13.5"
      ],
      "text/plain": [
       "<IPython.core.display.HTML object>"
      ]
     },
     "metadata": {},
     "output_type": "display_data"
    },
    {
     "data": {
      "text/html": [
       "W&B syncing is set to <code>`offline`<code> in this directory.  <br/>Run <code>`wandb online`<code> or set <code>WANDB_MODE=online<code> to enable cloud syncing."
      ],
      "text/plain": [
       "<IPython.core.display.HTML object>"
      ]
     },
     "metadata": {},
     "output_type": "display_data"
    },
    {
     "name": "stdout",
     "output_type": "stream",
     "text": [
      "Evaluation successfully, \n",
      "Round : 44 ,Accuracy : 0.17700534759358288 loss : 1.202785144037104 \n",
      "Round {} 45\n",
      "Including clients: [96, 54, 98, 14, 22, 60, 21, 19, 89, 51, 40, 8, 33, 56, 47, 39, 6, 76, 80, 34, 64, 70, 92, 20, 86]\n",
      "Client 96 start Training\n",
      "Client 54 start Training\n",
      "Client 98 start Training\n",
      "Client 14 start Training\n",
      "Client 22 start Training\n",
      "Client 60 start Training\n",
      "Client 21 start Training\n",
      "Client 19 start Training\n",
      "Client 89 start Training\n",
      "Client 51 start Training\n",
      "Client 40 start Training\n",
      "Client 8 start Training\n",
      "Client 33 start Training\n",
      "Client 56 start Training\n",
      "Client 47 start Training\n",
      "Client 39 start Training\n",
      "Client 6 start Training\n",
      "Client 76 start Training\n",
      "Client 80 start Training\n",
      "Client 34 start Training\n",
      "Client 64 start Training\n",
      "Client 70 start Training\n",
      "Client 92 start Training\n",
      "Client 20 start Training\n",
      "Client 86 start Training\n",
      "Finish training. Collecting parameters...\n",
      "Clients updated ! Ready for next round\n"
     ]
    },
    {
     "data": {
      "text/html": [
       "Finishing last run (ID:1c3o4gsy) before initializing another..."
      ],
      "text/plain": [
       "<IPython.core.display.HTML object>"
      ]
     },
     "metadata": {},
     "output_type": "display_data"
    },
    {
     "data": {
      "text/html": [
       "Waiting for W&B process to finish... <strong style=\"color:green\">(success).</strong>"
      ],
      "text/plain": [
       "<IPython.core.display.HTML object>"
      ]
     },
     "metadata": {},
     "output_type": "display_data"
    },
    {
     "data": {
      "text/html": [
       "<style>\n",
       "    table.wandb td:nth-child(1) { padding: 0 10px; text-align: left ; width: auto;} td:nth-child(2) {text-align: left ; width: 100%}\n",
       "    .wandb-row { display: flex; flex-direction: row; flex-wrap: wrap; justify-content: flex-start; width: 100% }\n",
       "    .wandb-col { display: flex; flex-direction: column; flex-basis: 100%; flex: 1; padding: 10px; }\n",
       "    </style>\n",
       "<div class=\"wandb-row\"><div class=\"wandb-col\"><h3>Run history:</h3><br/><table class=\"wandb\"><tr><td>accuracy</td><td>▁</td></tr><tr><td>loss</td><td>▁</td></tr><tr><td>round</td><td>▁</td></tr></table><br/></div><div class=\"wandb-col\"><h3>Run summary:</h3><br/><table class=\"wandb\"><tr><td>accuracy</td><td>0.17701</td></tr><tr><td>loss</td><td>1.20279</td></tr><tr><td>round</td><td>44</td></tr></table><br/></div></div>"
      ],
      "text/plain": [
       "<IPython.core.display.HTML object>"
      ]
     },
     "metadata": {},
     "output_type": "display_data"
    },
    {
     "data": {
      "text/html": [
       "You can sync this run to the cloud by running:<br/><code>wandb sync f:\\Thesis\\Model train\\Federated_training\\wandb\\offline-run-20221216_055629-1c3o4gsy<code>"
      ],
      "text/plain": [
       "<IPython.core.display.HTML object>"
      ]
     },
     "metadata": {},
     "output_type": "display_data"
    },
    {
     "data": {
      "text/html": [
       "Find logs at: <code>.\\wandb\\offline-run-20221216_055629-1c3o4gsy\\logs</code>"
      ],
      "text/plain": [
       "<IPython.core.display.HTML object>"
      ]
     },
     "metadata": {},
     "output_type": "display_data"
    },
    {
     "data": {
      "text/html": [
       "Successfully finished last run (ID:1c3o4gsy). Initializing new run:<br/>"
      ],
      "text/plain": [
       "<IPython.core.display.HTML object>"
      ]
     },
     "metadata": {},
     "output_type": "display_data"
    },
    {
     "data": {
      "text/html": [
       "Tracking run with wandb version 0.13.5"
      ],
      "text/plain": [
       "<IPython.core.display.HTML object>"
      ]
     },
     "metadata": {},
     "output_type": "display_data"
    },
    {
     "data": {
      "text/html": [
       "W&B syncing is set to <code>`offline`<code> in this directory.  <br/>Run <code>`wandb online`<code> or set <code>WANDB_MODE=online<code> to enable cloud syncing."
      ],
      "text/plain": [
       "<IPython.core.display.HTML object>"
      ]
     },
     "metadata": {},
     "output_type": "display_data"
    },
    {
     "name": "stdout",
     "output_type": "stream",
     "text": [
      "model saved, best accuracy: 0.17834224598930487\n",
      "Evaluation successfully, \n",
      "Round : 45 ,Accuracy : 0.17834224598930487 loss : 1.2349681537100339 \n",
      "Round {} 46\n",
      "Including clients: [56, 73, 91, 63, 48, 19, 86, 71, 49, 99, 28, 96, 66, 20, 38, 93, 53, 29, 16, 27, 30, 47, 7, 21, 57]\n",
      "Client 56 start Training\n",
      "Client 73 start Training\n",
      "Client 91 start Training\n",
      "Client 63 start Training\n",
      "Client 48 start Training\n",
      "Client 19 start Training\n",
      "Client 86 start Training\n",
      "Client 71 start Training\n",
      "Client 49 start Training\n",
      "Client 99 start Training\n",
      "Client 28 start Training\n",
      "Client 96 start Training\n",
      "Client 66 start Training\n",
      "Client 20 start Training\n",
      "Client 38 start Training\n",
      "Client 93 start Training\n",
      "Client 53 start Training\n",
      "Client 29 start Training\n",
      "Client 16 start Training\n",
      "Client 27 start Training\n",
      "Client 30 start Training\n",
      "Client 47 start Training\n",
      "Client 7 start Training\n",
      "Client 21 start Training\n",
      "Client 57 start Training\n",
      "Finish training. Collecting parameters...\n",
      "Clients updated ! Ready for next round\n"
     ]
    },
    {
     "data": {
      "text/html": [
       "Finishing last run (ID:28no2esp) before initializing another..."
      ],
      "text/plain": [
       "<IPython.core.display.HTML object>"
      ]
     },
     "metadata": {},
     "output_type": "display_data"
    },
    {
     "data": {
      "text/html": [
       "Waiting for W&B process to finish... <strong style=\"color:green\">(success).</strong>"
      ],
      "text/plain": [
       "<IPython.core.display.HTML object>"
      ]
     },
     "metadata": {},
     "output_type": "display_data"
    },
    {
     "data": {
      "text/html": [
       "<style>\n",
       "    table.wandb td:nth-child(1) { padding: 0 10px; text-align: left ; width: auto;} td:nth-child(2) {text-align: left ; width: 100%}\n",
       "    .wandb-row { display: flex; flex-direction: row; flex-wrap: wrap; justify-content: flex-start; width: 100% }\n",
       "    .wandb-col { display: flex; flex-direction: column; flex-basis: 100%; flex: 1; padding: 10px; }\n",
       "    </style>\n",
       "<div class=\"wandb-row\"><div class=\"wandb-col\"><h3>Run history:</h3><br/><table class=\"wandb\"><tr><td>accuracy</td><td>▁</td></tr><tr><td>loss</td><td>▁</td></tr><tr><td>round</td><td>▁</td></tr></table><br/></div><div class=\"wandb-col\"><h3>Run summary:</h3><br/><table class=\"wandb\"><tr><td>accuracy</td><td>0.17834</td></tr><tr><td>loss</td><td>1.23497</td></tr><tr><td>round</td><td>45</td></tr></table><br/></div></div>"
      ],
      "text/plain": [
       "<IPython.core.display.HTML object>"
      ]
     },
     "metadata": {},
     "output_type": "display_data"
    },
    {
     "data": {
      "text/html": [
       "You can sync this run to the cloud by running:<br/><code>wandb sync f:\\Thesis\\Model train\\Federated_training\\wandb\\offline-run-20221216_061023-28no2esp<code>"
      ],
      "text/plain": [
       "<IPython.core.display.HTML object>"
      ]
     },
     "metadata": {},
     "output_type": "display_data"
    },
    {
     "data": {
      "text/html": [
       "Find logs at: <code>.\\wandb\\offline-run-20221216_061023-28no2esp\\logs</code>"
      ],
      "text/plain": [
       "<IPython.core.display.HTML object>"
      ]
     },
     "metadata": {},
     "output_type": "display_data"
    },
    {
     "data": {
      "text/html": [
       "Successfully finished last run (ID:28no2esp). Initializing new run:<br/>"
      ],
      "text/plain": [
       "<IPython.core.display.HTML object>"
      ]
     },
     "metadata": {},
     "output_type": "display_data"
    },
    {
     "data": {
      "text/html": [
       "Tracking run with wandb version 0.13.5"
      ],
      "text/plain": [
       "<IPython.core.display.HTML object>"
      ]
     },
     "metadata": {},
     "output_type": "display_data"
    },
    {
     "data": {
      "text/html": [
       "W&B syncing is set to <code>`offline`<code> in this directory.  <br/>Run <code>`wandb online`<code> or set <code>WANDB_MODE=online<code> to enable cloud syncing."
      ],
      "text/plain": [
       "<IPython.core.display.HTML object>"
      ]
     },
     "metadata": {},
     "output_type": "display_data"
    },
    {
     "name": "stdout",
     "output_type": "stream",
     "text": [
      "model saved, best accuracy: 0.18128342245989307\n",
      "Evaluation successfully, \n",
      "Round : 46 ,Accuracy : 0.18128342245989307 loss : 1.2583021005804844 \n",
      "Round {} 47\n",
      "Including clients: [56, 32, 19, 51, 1, 20, 68, 87, 84, 6, 3, 29, 36, 99, 49, 24, 11, 88, 45, 92, 33, 76, 23, 58, 47]\n",
      "Client 56 start Training\n",
      "Client 32 start Training\n",
      "Client 19 start Training\n",
      "Client 51 start Training\n",
      "Client 1 start Training\n",
      "Client 20 start Training\n",
      "Client 68 start Training\n",
      "Client 87 start Training\n",
      "Client 84 start Training\n",
      "Client 6 start Training\n",
      "Client 3 start Training\n",
      "Client 29 start Training\n",
      "Client 36 start Training\n",
      "Client 99 start Training\n",
      "Client 49 start Training\n",
      "Client 24 start Training\n",
      "Client 11 start Training\n",
      "Client 88 start Training\n",
      "Client 45 start Training\n",
      "Client 92 start Training\n",
      "Client 33 start Training\n",
      "Client 76 start Training\n",
      "Client 23 start Training\n",
      "Client 58 start Training\n",
      "Client 47 start Training\n",
      "Finish training. Collecting parameters...\n",
      "Clients updated ! Ready for next round\n"
     ]
    },
    {
     "data": {
      "text/html": [
       "Finishing last run (ID:21ik74ro) before initializing another..."
      ],
      "text/plain": [
       "<IPython.core.display.HTML object>"
      ]
     },
     "metadata": {},
     "output_type": "display_data"
    },
    {
     "data": {
      "text/html": [
       "Waiting for W&B process to finish... <strong style=\"color:green\">(success).</strong>"
      ],
      "text/plain": [
       "<IPython.core.display.HTML object>"
      ]
     },
     "metadata": {},
     "output_type": "display_data"
    },
    {
     "data": {
      "text/html": [
       "<style>\n",
       "    table.wandb td:nth-child(1) { padding: 0 10px; text-align: left ; width: auto;} td:nth-child(2) {text-align: left ; width: 100%}\n",
       "    .wandb-row { display: flex; flex-direction: row; flex-wrap: wrap; justify-content: flex-start; width: 100% }\n",
       "    .wandb-col { display: flex; flex-direction: column; flex-basis: 100%; flex: 1; padding: 10px; }\n",
       "    </style>\n",
       "<div class=\"wandb-row\"><div class=\"wandb-col\"><h3>Run history:</h3><br/><table class=\"wandb\"><tr><td>accuracy</td><td>▁</td></tr><tr><td>loss</td><td>▁</td></tr><tr><td>round</td><td>▁</td></tr></table><br/></div><div class=\"wandb-col\"><h3>Run summary:</h3><br/><table class=\"wandb\"><tr><td>accuracy</td><td>0.18128</td></tr><tr><td>loss</td><td>1.2583</td></tr><tr><td>round</td><td>46</td></tr></table><br/></div></div>"
      ],
      "text/plain": [
       "<IPython.core.display.HTML object>"
      ]
     },
     "metadata": {},
     "output_type": "display_data"
    },
    {
     "data": {
      "text/html": [
       "You can sync this run to the cloud by running:<br/><code>wandb sync f:\\Thesis\\Model train\\Federated_training\\wandb\\offline-run-20221216_062413-21ik74ro<code>"
      ],
      "text/plain": [
       "<IPython.core.display.HTML object>"
      ]
     },
     "metadata": {},
     "output_type": "display_data"
    },
    {
     "data": {
      "text/html": [
       "Find logs at: <code>.\\wandb\\offline-run-20221216_062413-21ik74ro\\logs</code>"
      ],
      "text/plain": [
       "<IPython.core.display.HTML object>"
      ]
     },
     "metadata": {},
     "output_type": "display_data"
    },
    {
     "data": {
      "text/html": [
       "Successfully finished last run (ID:21ik74ro). Initializing new run:<br/>"
      ],
      "text/plain": [
       "<IPython.core.display.HTML object>"
      ]
     },
     "metadata": {},
     "output_type": "display_data"
    },
    {
     "data": {
      "text/html": [
       "Tracking run with wandb version 0.13.5"
      ],
      "text/plain": [
       "<IPython.core.display.HTML object>"
      ]
     },
     "metadata": {},
     "output_type": "display_data"
    },
    {
     "data": {
      "text/html": [
       "W&B syncing is set to <code>`offline`<code> in this directory.  <br/>Run <code>`wandb online`<code> or set <code>WANDB_MODE=online<code> to enable cloud syncing."
      ],
      "text/plain": [
       "<IPython.core.display.HTML object>"
      ]
     },
     "metadata": {},
     "output_type": "display_data"
    },
    {
     "name": "stdout",
     "output_type": "stream",
     "text": [
      "Evaluation successfully, \n",
      "Round : 47 ,Accuracy : 0.17700534759358288 loss : 1.2370807421717414 \n",
      "Round {} 48\n",
      "Including clients: [20, 72, 84, 70, 21, 93, 19, 51, 82, 92, 6, 10, 80, 31, 91, 0, 43, 48, 34, 25, 18, 64, 98, 17, 94]\n",
      "Client 20 start Training\n",
      "Client 72 start Training\n",
      "Client 84 start Training\n",
      "Client 70 start Training\n",
      "Client 21 start Training\n",
      "Client 93 start Training\n",
      "Client 19 start Training\n",
      "Client 51 start Training\n",
      "Client 82 start Training\n",
      "Client 92 start Training\n",
      "Client 6 start Training\n",
      "Client 10 start Training\n",
      "Client 80 start Training\n",
      "Client 31 start Training\n",
      "Client 91 start Training\n",
      "Client 0 start Training\n",
      "Client 43 start Training\n",
      "Client 48 start Training\n",
      "Client 34 start Training\n",
      "Client 25 start Training\n",
      "Client 18 start Training\n",
      "Client 64 start Training\n",
      "Client 98 start Training\n",
      "Client 17 start Training\n",
      "Client 94 start Training\n",
      "Finish training. Collecting parameters...\n",
      "Clients updated ! Ready for next round\n"
     ]
    },
    {
     "data": {
      "text/html": [
       "Finishing last run (ID:2qso8rq7) before initializing another..."
      ],
      "text/plain": [
       "<IPython.core.display.HTML object>"
      ]
     },
     "metadata": {},
     "output_type": "display_data"
    },
    {
     "data": {
      "text/html": [
       "Waiting for W&B process to finish... <strong style=\"color:green\">(success).</strong>"
      ],
      "text/plain": [
       "<IPython.core.display.HTML object>"
      ]
     },
     "metadata": {},
     "output_type": "display_data"
    },
    {
     "data": {
      "text/html": [
       "<style>\n",
       "    table.wandb td:nth-child(1) { padding: 0 10px; text-align: left ; width: auto;} td:nth-child(2) {text-align: left ; width: 100%}\n",
       "    .wandb-row { display: flex; flex-direction: row; flex-wrap: wrap; justify-content: flex-start; width: 100% }\n",
       "    .wandb-col { display: flex; flex-direction: column; flex-basis: 100%; flex: 1; padding: 10px; }\n",
       "    </style>\n",
       "<div class=\"wandb-row\"><div class=\"wandb-col\"><h3>Run history:</h3><br/><table class=\"wandb\"><tr><td>accuracy</td><td>▁</td></tr><tr><td>loss</td><td>▁</td></tr><tr><td>round</td><td>▁</td></tr></table><br/></div><div class=\"wandb-col\"><h3>Run summary:</h3><br/><table class=\"wandb\"><tr><td>accuracy</td><td>0.17701</td></tr><tr><td>loss</td><td>1.23708</td></tr><tr><td>round</td><td>47</td></tr></table><br/></div></div>"
      ],
      "text/plain": [
       "<IPython.core.display.HTML object>"
      ]
     },
     "metadata": {},
     "output_type": "display_data"
    },
    {
     "data": {
      "text/html": [
       "You can sync this run to the cloud by running:<br/><code>wandb sync f:\\Thesis\\Model train\\Federated_training\\wandb\\offline-run-20221216_063815-2qso8rq7<code>"
      ],
      "text/plain": [
       "<IPython.core.display.HTML object>"
      ]
     },
     "metadata": {},
     "output_type": "display_data"
    },
    {
     "data": {
      "text/html": [
       "Find logs at: <code>.\\wandb\\offline-run-20221216_063815-2qso8rq7\\logs</code>"
      ],
      "text/plain": [
       "<IPython.core.display.HTML object>"
      ]
     },
     "metadata": {},
     "output_type": "display_data"
    },
    {
     "data": {
      "text/html": [
       "Successfully finished last run (ID:2qso8rq7). Initializing new run:<br/>"
      ],
      "text/plain": [
       "<IPython.core.display.HTML object>"
      ]
     },
     "metadata": {},
     "output_type": "display_data"
    },
    {
     "data": {
      "text/html": [
       "Tracking run with wandb version 0.13.5"
      ],
      "text/plain": [
       "<IPython.core.display.HTML object>"
      ]
     },
     "metadata": {},
     "output_type": "display_data"
    },
    {
     "data": {
      "text/html": [
       "W&B syncing is set to <code>`offline`<code> in this directory.  <br/>Run <code>`wandb online`<code> or set <code>WANDB_MODE=online<code> to enable cloud syncing."
      ],
      "text/plain": [
       "<IPython.core.display.HTML object>"
      ]
     },
     "metadata": {},
     "output_type": "display_data"
    },
    {
     "name": "stdout",
     "output_type": "stream",
     "text": [
      "Evaluation successfully, \n",
      "Round : 48 ,Accuracy : 0.17834224598930487 loss : 1.2371604955770115 \n",
      "Round {} 49\n",
      "Including clients: [90, 18, 52, 59, 89, 14, 70, 39, 6, 73, 32, 10, 24, 62, 44, 92, 50, 95, 84, 86, 42, 41, 43, 47, 29]\n",
      "Client 90 start Training\n",
      "Client 18 start Training\n",
      "Client 52 start Training\n",
      "Client 59 start Training\n",
      "Client 89 start Training\n",
      "Client 14 start Training\n",
      "Client 70 start Training\n",
      "Client 39 start Training\n",
      "Client 6 start Training\n",
      "Client 73 start Training\n",
      "Client 32 start Training\n",
      "Client 10 start Training\n",
      "Client 24 start Training\n",
      "Client 62 start Training\n",
      "Client 44 start Training\n",
      "Client 92 start Training\n",
      "Client 50 start Training\n",
      "Client 95 start Training\n",
      "Client 84 start Training\n",
      "Client 86 start Training\n",
      "Client 42 start Training\n",
      "Client 41 start Training\n",
      "Client 43 start Training\n",
      "Client 47 start Training\n",
      "Client 29 start Training\n",
      "Finish training. Collecting parameters...\n",
      "Clients updated ! Ready for next round\n"
     ]
    },
    {
     "data": {
      "text/html": [
       "Finishing last run (ID:6ndwmj0r) before initializing another..."
      ],
      "text/plain": [
       "<IPython.core.display.HTML object>"
      ]
     },
     "metadata": {},
     "output_type": "display_data"
    },
    {
     "data": {
      "text/html": [
       "Waiting for W&B process to finish... <strong style=\"color:green\">(success).</strong>"
      ],
      "text/plain": [
       "<IPython.core.display.HTML object>"
      ]
     },
     "metadata": {},
     "output_type": "display_data"
    },
    {
     "data": {
      "text/html": [
       "<style>\n",
       "    table.wandb td:nth-child(1) { padding: 0 10px; text-align: left ; width: auto;} td:nth-child(2) {text-align: left ; width: 100%}\n",
       "    .wandb-row { display: flex; flex-direction: row; flex-wrap: wrap; justify-content: flex-start; width: 100% }\n",
       "    .wandb-col { display: flex; flex-direction: column; flex-basis: 100%; flex: 1; padding: 10px; }\n",
       "    </style>\n",
       "<div class=\"wandb-row\"><div class=\"wandb-col\"><h3>Run history:</h3><br/><table class=\"wandb\"><tr><td>accuracy</td><td>▁</td></tr><tr><td>loss</td><td>▁</td></tr><tr><td>round</td><td>▁</td></tr></table><br/></div><div class=\"wandb-col\"><h3>Run summary:</h3><br/><table class=\"wandb\"><tr><td>accuracy</td><td>0.17834</td></tr><tr><td>loss</td><td>1.23716</td></tr><tr><td>round</td><td>48</td></tr></table><br/></div></div>"
      ],
      "text/plain": [
       "<IPython.core.display.HTML object>"
      ]
     },
     "metadata": {},
     "output_type": "display_data"
    },
    {
     "data": {
      "text/html": [
       "You can sync this run to the cloud by running:<br/><code>wandb sync f:\\Thesis\\Model train\\Federated_training\\wandb\\offline-run-20221216_065207-6ndwmj0r<code>"
      ],
      "text/plain": [
       "<IPython.core.display.HTML object>"
      ]
     },
     "metadata": {},
     "output_type": "display_data"
    },
    {
     "data": {
      "text/html": [
       "Find logs at: <code>.\\wandb\\offline-run-20221216_065207-6ndwmj0r\\logs</code>"
      ],
      "text/plain": [
       "<IPython.core.display.HTML object>"
      ]
     },
     "metadata": {},
     "output_type": "display_data"
    },
    {
     "data": {
      "text/html": [
       "Successfully finished last run (ID:6ndwmj0r). Initializing new run:<br/>"
      ],
      "text/plain": [
       "<IPython.core.display.HTML object>"
      ]
     },
     "metadata": {},
     "output_type": "display_data"
    },
    {
     "data": {
      "text/html": [
       "Tracking run with wandb version 0.13.5"
      ],
      "text/plain": [
       "<IPython.core.display.HTML object>"
      ]
     },
     "metadata": {},
     "output_type": "display_data"
    },
    {
     "data": {
      "text/html": [
       "W&B syncing is set to <code>`offline`<code> in this directory.  <br/>Run <code>`wandb online`<code> or set <code>WANDB_MODE=online<code> to enable cloud syncing."
      ],
      "text/plain": [
       "<IPython.core.display.HTML object>"
      ]
     },
     "metadata": {},
     "output_type": "display_data"
    },
    {
     "name": "stdout",
     "output_type": "stream",
     "text": [
      "Evaluation successfully, \n",
      "Round : 49 ,Accuracy : 0.1788770053475936 loss : 1.2238283541432038 \n"
     ]
    }
   ],
   "source": [
    "os.environ[\"WANDB_API_KEY\"] = '761f77141558010f4d706f726fcf122aac0aae23'\n",
    "os.environ[\"WANDB_MODE\"]=\"offline\"\n",
    "\n",
    "PROJNAME='fed_train27_25_1label'\n",
    "import wandb\n",
    "df=pd.read_csv('../../Data/datafull.csv')\n",
    "df: DataFrame=df.drop('Unnamed: 0',axis=1)\n",
    "\n",
    "def defineLable(row):\n",
    "    count=0\n",
    "    for cols in row.index[1:-1]:\n",
    "        if row[cols]!=0:\n",
    "            return count\n",
    "        else:\n",
    "            count+=1\n",
    "df['one_label']=df.apply(defineLable,axis=1)\n",
    "\n",
    "\n",
    "\n",
    "train,valid_test=train_test_split(df,test_size=0.2)\n",
    "valid,test=train_test_split(valid_test,test_size=0.5)\n",
    "\n",
    "train.sort_values('one_label',inplace=True)\n",
    "valid.sort_values('one_label',inplace=True)\n",
    "test.sort_values('one_label',inplace=True)\n",
    "\n",
    "train_data=plantdisease(df=train.reset_index())\n",
    "test_data=plantdisease(df=test.reset_index())\n",
    "valid_data=plantdisease(df=valid.reset_index())\n",
    "\n",
    "model=models.mobilenet_v2(pretrained=True)\n",
    "model.classifier[1]=(torch.nn.Linear(in_features=1280, out_features=6, bias=True))\n",
    "\n",
    "\n",
    "# note that we define values from `wandb.config` instead \n",
    "# of defining hard values\n",
    "\n",
    "config = {\n",
    "    \"lr\": 0.00006824,\n",
    "    \"batch_size\":16,\n",
    "    \"epoch\":20\n",
    "}\n",
    "import warnings \n",
    "warnings.filterwarnings('ignore')\n",
    "train=train.reset_index(drop=True)\n",
    "ser=Server(dataset=train,eval_dataset=test_data,config=CONFIG)\n",
    "ser.generate_clients()\n",
    "ser.round_train()\n",
    "\n"
   ]
  },
  {
   "cell_type": "code",
   "execution_count": 11,
   "metadata": {},
   "outputs": [
    {
     "data": {
      "text/html": [
       "<div>\n",
       "<style scoped>\n",
       "    .dataframe tbody tr th:only-of-type {\n",
       "        vertical-align: middle;\n",
       "    }\n",
       "\n",
       "    .dataframe tbody tr th {\n",
       "        vertical-align: top;\n",
       "    }\n",
       "\n",
       "    .dataframe thead th {\n",
       "        text-align: right;\n",
       "    }\n",
       "</style>\n",
       "<table border=\"1\" class=\"dataframe\">\n",
       "  <thead>\n",
       "    <tr style=\"text-align: right;\">\n",
       "      <th></th>\n",
       "      <th>image</th>\n",
       "      <th>complex</th>\n",
       "      <th>frog_eye_leaf_spot</th>\n",
       "      <th>healthy</th>\n",
       "      <th>powdery_mildew</th>\n",
       "      <th>rust</th>\n",
       "      <th>scab</th>\n",
       "      <th>labels</th>\n",
       "      <th>one_label</th>\n",
       "    </tr>\n",
       "  </thead>\n",
       "  <tbody>\n",
       "    <tr>\n",
       "      <th>1</th>\n",
       "      <td>8002cb321f8bfcdf.jpg</td>\n",
       "      <td>1</td>\n",
       "      <td>1</td>\n",
       "      <td>0</td>\n",
       "      <td>0</td>\n",
       "      <td>0</td>\n",
       "      <td>1</td>\n",
       "      <td>[1, 1, 0, 0, 0, 1]</td>\n",
       "      <td>0</td>\n",
       "    </tr>\n",
       "    <tr>\n",
       "      <th>4</th>\n",
       "      <td>800cbf0ff87721f8.jpg</td>\n",
       "      <td>1</td>\n",
       "      <td>0</td>\n",
       "      <td>0</td>\n",
       "      <td>0</td>\n",
       "      <td>0</td>\n",
       "      <td>0</td>\n",
       "      <td>[1, 0, 0, 0, 0, 0]</td>\n",
       "      <td>0</td>\n",
       "    </tr>\n",
       "    <tr>\n",
       "      <th>8</th>\n",
       "      <td>801f78399a44e7af.jpg</td>\n",
       "      <td>1</td>\n",
       "      <td>0</td>\n",
       "      <td>0</td>\n",
       "      <td>0</td>\n",
       "      <td>0</td>\n",
       "      <td>0</td>\n",
       "      <td>[1, 0, 0, 0, 0, 0]</td>\n",
       "      <td>0</td>\n",
       "    </tr>\n",
       "    <tr>\n",
       "      <th>10</th>\n",
       "      <td>802291cee9fec9f4.jpg</td>\n",
       "      <td>1</td>\n",
       "      <td>0</td>\n",
       "      <td>0</td>\n",
       "      <td>0</td>\n",
       "      <td>0</td>\n",
       "      <td>0</td>\n",
       "      <td>[1, 0, 0, 0, 0, 0]</td>\n",
       "      <td>0</td>\n",
       "    </tr>\n",
       "    <tr>\n",
       "      <th>28</th>\n",
       "      <td>803e3bd17a16e65c.jpg</td>\n",
       "      <td>1</td>\n",
       "      <td>0</td>\n",
       "      <td>0</td>\n",
       "      <td>0</td>\n",
       "      <td>0</td>\n",
       "      <td>0</td>\n",
       "      <td>[1, 0, 0, 0, 0, 0]</td>\n",
       "      <td>0</td>\n",
       "    </tr>\n",
       "    <tr>\n",
       "      <th>...</th>\n",
       "      <td>...</td>\n",
       "      <td>...</td>\n",
       "      <td>...</td>\n",
       "      <td>...</td>\n",
       "      <td>...</td>\n",
       "      <td>...</td>\n",
       "      <td>...</td>\n",
       "      <td>...</td>\n",
       "      <td>...</td>\n",
       "    </tr>\n",
       "    <tr>\n",
       "      <th>18585</th>\n",
       "      <td>ffd4c5088f4605a7.jpg</td>\n",
       "      <td>1</td>\n",
       "      <td>0</td>\n",
       "      <td>0</td>\n",
       "      <td>0</td>\n",
       "      <td>0</td>\n",
       "      <td>0</td>\n",
       "      <td>[1, 0, 0, 0, 0, 0]</td>\n",
       "      <td>0</td>\n",
       "    </tr>\n",
       "    <tr>\n",
       "      <th>18595</th>\n",
       "      <td>ffdc70c492370f02.jpg</td>\n",
       "      <td>1</td>\n",
       "      <td>0</td>\n",
       "      <td>0</td>\n",
       "      <td>0</td>\n",
       "      <td>0</td>\n",
       "      <td>0</td>\n",
       "      <td>[1, 0, 0, 0, 0, 0]</td>\n",
       "      <td>0</td>\n",
       "    </tr>\n",
       "    <tr>\n",
       "      <th>18597</th>\n",
       "      <td>ffdef27b820081c4.jpg</td>\n",
       "      <td>1</td>\n",
       "      <td>0</td>\n",
       "      <td>0</td>\n",
       "      <td>0</td>\n",
       "      <td>0</td>\n",
       "      <td>0</td>\n",
       "      <td>[1, 0, 0, 0, 0, 0]</td>\n",
       "      <td>0</td>\n",
       "    </tr>\n",
       "    <tr>\n",
       "      <th>18604</th>\n",
       "      <td>ffe1e03542661f22.jpg</td>\n",
       "      <td>1</td>\n",
       "      <td>0</td>\n",
       "      <td>0</td>\n",
       "      <td>0</td>\n",
       "      <td>0</td>\n",
       "      <td>0</td>\n",
       "      <td>[1, 0, 0, 0, 0, 0]</td>\n",
       "      <td>0</td>\n",
       "    </tr>\n",
       "    <tr>\n",
       "      <th>18617</th>\n",
       "      <td>fff094a1d85289a5.jpg</td>\n",
       "      <td>1</td>\n",
       "      <td>0</td>\n",
       "      <td>0</td>\n",
       "      <td>1</td>\n",
       "      <td>0</td>\n",
       "      <td>0</td>\n",
       "      <td>[1, 0, 0, 1, 0, 0]</td>\n",
       "      <td>0</td>\n",
       "    </tr>\n",
       "  </tbody>\n",
       "</table>\n",
       "<p>2151 rows × 9 columns</p>\n",
       "</div>"
      ],
      "text/plain": [
       "                      image  complex  frog_eye_leaf_spot  healthy  \\\n",
       "1      8002cb321f8bfcdf.jpg        1                   1        0   \n",
       "4      800cbf0ff87721f8.jpg        1                   0        0   \n",
       "8      801f78399a44e7af.jpg        1                   0        0   \n",
       "10     802291cee9fec9f4.jpg        1                   0        0   \n",
       "28     803e3bd17a16e65c.jpg        1                   0        0   \n",
       "...                     ...      ...                 ...      ...   \n",
       "18585  ffd4c5088f4605a7.jpg        1                   0        0   \n",
       "18595  ffdc70c492370f02.jpg        1                   0        0   \n",
       "18597  ffdef27b820081c4.jpg        1                   0        0   \n",
       "18604  ffe1e03542661f22.jpg        1                   0        0   \n",
       "18617  fff094a1d85289a5.jpg        1                   0        0   \n",
       "\n",
       "       powdery_mildew  rust  scab              labels  one_label  \n",
       "1                   0     0     1  [1, 1, 0, 0, 0, 1]          0  \n",
       "4                   0     0     0  [1, 0, 0, 0, 0, 0]          0  \n",
       "8                   0     0     0  [1, 0, 0, 0, 0, 0]          0  \n",
       "10                  0     0     0  [1, 0, 0, 0, 0, 0]          0  \n",
       "28                  0     0     0  [1, 0, 0, 0, 0, 0]          0  \n",
       "...               ...   ...   ...                 ...        ...  \n",
       "18585               0     0     0  [1, 0, 0, 0, 0, 0]          0  \n",
       "18595               0     0     0  [1, 0, 0, 0, 0, 0]          0  \n",
       "18597               0     0     0  [1, 0, 0, 0, 0, 0]          0  \n",
       "18604               0     0     0  [1, 0, 0, 0, 0, 0]          0  \n",
       "18617               1     0     0  [1, 0, 0, 1, 0, 0]          0  \n",
       "\n",
       "[2151 rows x 9 columns]"
      ]
     },
     "execution_count": 11,
     "metadata": {},
     "output_type": "execute_result"
    }
   ],
   "source": [
    "df[df['complex']>0]"
   ]
  },
  {
   "cell_type": "code",
   "execution_count": 12,
   "metadata": {},
   "outputs": [
    {
     "name": "stdout",
     "output_type": "stream",
     "text": [
      "train\n"
     ]
    }
   ],
   "source": [
    "print('train')"
   ]
  },
  {
   "cell_type": "code",
   "execution_count": 13,
   "metadata": {},
   "outputs": [
    {
     "name": "stdout",
     "output_type": "stream",
     "text": [
      "Initial GPU Usage\n",
      "| ID | GPU | MEM |\n",
      "------------------\n",
      "|  0 | 33% | 91% |\n",
      "GPU Usage after emptying the cache\n",
      "| ID | GPU | MEM |\n",
      "------------------\n",
      "|  0 |  8% |  7% |\n"
     ]
    }
   ],
   "source": [
    "from GPUtil import showUtilization as gpu_usage\n",
    "from numba import cuda\n",
    "\n",
    "def free_gpu_cache():\n",
    "    print(\"Initial GPU Usage\")\n",
    "    gpu_usage()                             \n",
    "\n",
    "    torch.cuda.empty_cache()\n",
    "\n",
    "    cuda.select_device(0)\n",
    "    cuda.close()\n",
    "    cuda.select_device(0)\n",
    "\n",
    "    print(\"GPU Usage after emptying the cache\")\n",
    "    gpu_usage()\n",
    "\n",
    "\n",
    "free_gpu_cache()"
   ]
  }
 ],
 "metadata": {
  "kernelspec": {
   "display_name": "Python 3.8.13 ('pytorchGPUI')",
   "language": "python",
   "name": "python3"
  },
  "language_info": {
   "codemirror_mode": {
    "name": "ipython",
    "version": 3
   },
   "file_extension": ".py",
   "mimetype": "text/x-python",
   "name": "python",
   "nbconvert_exporter": "python",
   "pygments_lexer": "ipython3",
   "version": "3.8.13 (default, Mar 28 2022, 06:59:08) [MSC v.1916 64 bit (AMD64)]"
  },
  "orig_nbformat": 4,
  "vscode": {
   "interpreter": {
    "hash": "a8b858f47e475f096c0bf0df9132e4b2b12ebb02cb87303e1af43904bc641e7e"
   }
  }
 },
 "nbformat": 4,
 "nbformat_minor": 2
}
