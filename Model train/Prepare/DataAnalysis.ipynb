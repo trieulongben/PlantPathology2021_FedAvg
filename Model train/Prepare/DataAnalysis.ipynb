{
 "cells": [
  {
   "cell_type": "code",
   "execution_count": 3,
   "metadata": {},
   "outputs": [],
   "source": [
    "from copy import deepcopy\n",
    "from dataclasses import dataclass\n",
    "import multiprocessing as mp\n",
    "from re import T\n",
    "import torchvision.models as models\n",
    "import torch\n",
    "import copy\n",
    "import torch.nn.functional as F\n",
    "#from model import net\n",
    "import random\n",
    "import multiprocessing as mp\n",
    "import os\n",
    "import os\n",
    "import torch\n",
    "import torch.distributed as dist\n",
    "import torch.multiprocessing as mp\n",
    "from torchvision import datasets,transforms\n",
    "import random\n",
    "from torch import optim,ceil\n",
    "import torchvision.models as models\n",
    "import torch.nn.functional as F\n",
    "from torch import nn\n",
    "import pickle\n",
    "import numpy as np\n",
    "import torchvision.models as models\n",
    "import os\n",
    "import pandas as pd\n",
    "import cv2\n",
    "from torchvision.io import read_image\n",
    "from torch.utils.data import Dataset,DataLoader\n",
    "from torchvision import transforms\n",
    "import torch\n",
    "from sklearn.model_selection import train_test_split\n",
    "import numpy as np"
   ]
  },
  {
   "cell_type": "code",
   "execution_count": 8,
   "metadata": {},
   "outputs": [],
   "source": [
    "\n",
    "from torch.utils.data import Dataset,DataLoader\n",
    "\n",
    "\n",
    "class plantdisease(Dataset):\n",
    "    def __init__(self, train_df='data/raw/train.csv',test_df='data/raw/test.csv'\n",
    "                 , img_dir='data/oneFolder'\n",
    "                 , isTest=False,rank=0,central=False,data=None,num_client=20):\n",
    "        \"\"\"\n",
    "        self.isTest (boolean) :test or not\n",
    "        self.rank\n",
    "        self.img_labels (csv) : data to generate -> \n",
    "        self.shardsList(list(csv)) : list of parts was splitted from train\n",
    "        self.data (csv) : data server assign to each clients when generate (using self.makeClientDataSet() function to return data for clients )\n",
    "            path: Server -> create plantdisease(isTest=True,central=True,num_client) -> plantdisease split train - test (use for server evaluation) -> {train} part continue splitted by the number of clients\n",
    "            -> self.makeClientDataSet(rank) return part of rank^th shardsList\n",
    "                  Client -> create local plantdiseas(central=False,data= return of server.dataset.makeClientDataSet(rank)) -> trainning\n",
    "        \"\"\"\n",
    "        #Read dataset (balanced.csv is remake dataset that equalized all len(class))\n",
    "        self.img_labels=pd.read_csv('../../Data/data10k.csv')\n",
    "        self.img_dir='../../Data/DataResized512/'\n",
    "\n",
    "\n",
    "        #Check if data exist -> also mean this is client\n",
    "    def makeClientDataSet(self,rank):\n",
    "        newCSV=self.shardsList[rank]\n",
    "        return newCSV\n",
    "\n",
    " #   def makeClientDataSet(self,rank):\n",
    " #       import random\n",
    " #       a=random.randint(0, 5)\n",
    " #       b=random.randint(5, 14)\n",
    " #       c=random.randint(5, 14)\n",
    " #       classList=[rank]\n",
    " #       old_csv=self.train\n",
    " #       newCSV=old_csv[(old_csv.iloc[:,2].isin(classList) ) ]\n",
    "\n",
    "        \n",
    " #       return newCSV\n",
    "\n",
    " #Use to change state of dataset\n",
    "    def changeisTest(self,boole):\n",
    "        self.isTest=boole\n",
    "        #Update img_labels\n",
    "        if self.isTest:\n",
    "            self.img_labels=self.test\n",
    "        else:\n",
    "            self.img_labels=self.train\n",
    "    def __len__(self):\n",
    "        return len(self.img_labels)\n",
    "    #def make_newCSV(self):\n",
    "    #    old_csv=self.img_labels\n",
    "    #    newCSV=old_csv[old_csv.iloc[:,2]==(self.rank)]\n",
    "\n",
    "        return newCSV,old_csv\n",
    "    def __getitem__(self, idx):\n",
    "            img_path = os.path.join(self.img_dir, self.img_labels['image'][idx])\n",
    "\n",
    "            image = (read_image(img_path).float())\n",
    "\n",
    "            image= transforms.Resize((342,512))(image)\n",
    "            label = self.img_labels['labels'][idx]\n",
    "            return image, label"
   ]
  },
  {
   "cell_type": "code",
   "execution_count": 9,
   "metadata": {},
   "outputs": [],
   "source": [
    "dataset=plantdisease()\n",
    "loader=DataLoader(dataset)"
   ]
  },
  {
   "cell_type": "code",
   "execution_count": 10,
   "metadata": {},
   "outputs": [],
   "source": [
    "psum    = torch.tensor([0.0, 0.0, 0.0])\n",
    "psum_sq = torch.tensor([0.0, 0.0, 0.0])\n",
    "\n",
    "# loop through imagesworkbench.action.openSettings\n",
    "for inputs in (loader):\n",
    "    psum    += inputs[0].sum(axis        = [0, 2, 3])\n",
    "    psum_sq += (inputs[0] ** 2).sum(axis = [0, 2, 3])\n"
   ]
  },
  {
   "cell_type": "code",
   "execution_count": 11,
   "metadata": {},
   "outputs": [
    {
     "name": "stdout",
     "output_type": "stream",
     "text": [
      "mean: tensor([124.4455, 159.9584, 104.1832])\n",
      "std:  tensor([47.1528, 41.4626, 49.2424])\n"
     ]
    },
    {
     "ename": "",
     "evalue": "",
     "output_type": "error",
     "traceback": [
      "\u001b[1;31mThe Kernel crashed while executing code in the the current cell or a previous cell. Please review the code in the cell(s) to identify a possible cause of the failure. Click <a href='https://aka.ms/vscodeJupyterKernelCrash'>here</a> for more info. View Jupyter <a href='command:jupyter.viewOutput'>log</a> for further details."
     ]
    }
   ],
   "source": [
    "# pixel count\n",
    "count = len(dataset) * 342 * 512\n",
    "\n",
    "# mean and std\n",
    "total_mean = psum / count\n",
    "total_var  = (psum_sq / count) - (total_mean ** 2)\n",
    "total_std  = torch.sqrt(total_var)\n",
    "\n",
    "# output\n",
    "print('mean: '  + str(total_mean))\n",
    "print('std:  '  + str(total_std))"
   ]
  },
  {
   "cell_type": "code",
   "execution_count": 33,
   "metadata": {},
   "outputs": [
    {
     "data": {
      "text/plain": [
       "360000000"
      ]
     },
     "execution_count": 33,
     "metadata": {},
     "output_type": "execute_result"
    }
   ],
   "source": [
    "mean: tensor([125.1284, 160.8532, 104.8010])\n",
    "std:  tensor([46.3414, 39.7286, 48.7497])"
   ]
  }
 ],
 "metadata": {
  "kernelspec": {
   "display_name": "Python 3.8.13 ('pytorchGPUI')",
   "language": "python",
   "name": "python3"
  },
  "language_info": {
   "codemirror_mode": {
    "name": "ipython",
    "version": 3
   },
   "file_extension": ".py",
   "mimetype": "text/x-python",
   "name": "python",
   "nbconvert_exporter": "python",
   "pygments_lexer": "ipython3",
   "version": "3.8.13 (default, Mar 28 2022, 06:59:08) [MSC v.1916 64 bit (AMD64)]"
  },
  "orig_nbformat": 4,
  "vscode": {
   "interpreter": {
    "hash": "a8b858f47e475f096c0bf0df9132e4b2b12ebb02cb87303e1af43904bc641e7e"
   }
  }
 },
 "nbformat": 4,
 "nbformat_minor": 2
}
