{
 "cells": [
  {
   "cell_type": "code",
   "execution_count": null,
   "metadata": {},
   "outputs": [],
   "source": [
    "import pandas as pd\n",
    "train=pd.read_csv('/content/train.csv')\n",
    "\n",
    "train['labels'] = train['labels'].apply(lambda string: string.split(' '))\n",
    "from sklearn.preprocessing import MultiLabelBinarizer\n",
    "s = list(train['labels'])\n",
    "mlb = MultiLabelBinarizer()\n",
    "trainx = pd.DataFrame(mlb.fit_transform(s), columns=mlb.classes_, index=train.index)\n",
    "labels = pd.concat([train['image'], trainx], axis=1)\n",
    "labels.head(10)\n",
    "\n",
    "\n",
    "\n",
    "\n",
    "import pandas as pd\n",
    "train=pd.read_csv('/content/train.csv')\n",
    "train['labels'] = train['labels'].apply(lambda string: string.split(' '))\n",
    "train['labels']\n",
    "from sklearn.preprocessing import MultiLabelBinarizer\n",
    "\n",
    "s = list(train['labels'])\n",
    "mlb = MultiLabelBinarizer()\n",
    "trainx = pd.DataFrame(mlb.fit_transform(s), columns=mlb.classes_, index=train.index)\n",
    "labels = pd.concat([train['image'], trainx], axis=1)\n",
    "labels.to_csv('multilabel.csv')\n",
    "\n",
    "def define_MultiLabel(row):\n",
    "  arr=[]\n",
    "  for cols in row.index[1:]:\n",
    "    arr.append(row[cols]) \n",
    "  return arr\n",
    "labels['labels']=labels.apply(define_MultiLabel,axis=1)\n",
    "b=labels.sample(10000)\n",
    "#\n",
    "b.to_csv('data1k.csv')"
   ]
  }
 ],
 "metadata": {
  "kernelspec": {
   "display_name": "Python 3.8.13 ('pytorchGPUI')",
   "language": "python",
   "name": "python3"
  },
  "language_info": {
   "name": "python",
   "version": "3.8.13"
  },
  "orig_nbformat": 4,
  "vscode": {
   "interpreter": {
    "hash": "a8b858f47e475f096c0bf0df9132e4b2b12ebb02cb87303e1af43904bc641e7e"
   }
  }
 },
 "nbformat": 4,
 "nbformat_minor": 2
}
