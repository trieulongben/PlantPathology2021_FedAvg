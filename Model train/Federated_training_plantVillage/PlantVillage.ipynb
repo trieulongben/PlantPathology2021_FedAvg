{
 "cells": [
  {
   "cell_type": "code",
   "execution_count": 2,
   "metadata": {},
   "outputs": [],
   "source": [
    "import numpy as np\n",
    "import os\n",
    "import pandas as pd\n",
    "import cv2\n",
    "from os import listdir\n",
    "\n"
   ]
  },
  {
   "cell_type": "code",
   "execution_count": 3,
   "metadata": {},
   "outputs": [],
   "source": [
    "directory_root='../../Data/PlantVillage/PlantVillage-Dataset-master/raw/'\n",
    "default_image_size = tuple((342,512))\n",
    "\n",
    "\n",
    "    "
   ]
  },
  {
   "cell_type": "code",
   "execution_count": 4,
   "metadata": {},
   "outputs": [
    {
     "name": "stdout",
     "output_type": "stream",
     "text": [
      "[INFO] Loading images ...\n",
      "../../Data/PlantVillage/PlantVillage-Dataset-master/raw//color/Pepper,_bell___healthy/42f083e2-272d-4f83-ad9a-573ee90e50ec___Screen Shot 2015-05-06 at 4.01.13 PM.png\n",
      "../../Data/PlantVillage/PlantVillage-Dataset-master/raw//color/Tomato___Late_blight/d0badc95-d04c-457b-8db8-aa6e198f4bd6___GHLB Leaf 10 Day 6.jpeg\n",
      "[INFO] Image loading completed\n"
     ]
    }
   ],
   "source": [
    "image_list, disease_list,plant_list = [], [],[]\n",
    "from fastai.vision.all import resize_image\n",
    "import shutil \n",
    "destination=\"../../Data/PlantVillage/PlantVillage-Dataset-master/All/resized512/\"\n",
    "try:\n",
    "    print(\"[INFO] Loading images ...\")\n",
    "    root_dir = listdir(directory_root)\n",
    "    for directory in root_dir :\n",
    "        # remove .DS_Store from list\n",
    "        if directory == \".DS_Store\" :\n",
    "            root_dir.remove(directory)\n",
    "\n",
    "    for plant_folder in root_dir :\n",
    "        plant_disease_folder_list = listdir(f\"{directory_root}/{plant_folder}\")\n",
    "        \n",
    "        for disease_folder in plant_disease_folder_list :\n",
    "            # remove .DS_Store from list\n",
    "            if disease_folder == \".DS_Store\" :\n",
    "                plant_disease_folder_list.remove(disease_folder)\n",
    "\n",
    "        for plant_disease_folder in plant_disease_folder_list:\n",
    "            plant_disease_image_list = listdir(f\"{directory_root}/{plant_folder}/{plant_disease_folder}/\")\n",
    "                \n",
    "            for single_plant_disease_image in plant_disease_image_list :\n",
    "                if single_plant_disease_image == \".DS_Store\" :\n",
    "                    print(single_plant_disease_image)\n",
    "                    plant_disease_image_list.remove(single_plant_disease_image)\n",
    "\n",
    "            for image in plant_disease_image_list:\n",
    "                image_directory = f\"{directory_root}/{plant_folder}/{plant_disease_folder}/{image}\"\n",
    "                if image_directory.endswith(\".jpg\") == True or image_directory.endswith(\".JPG\") == True:\n",
    "                    # resize_image(file=image_directory.split(sep='/'\n",
    "                    # )[-1],src=image_directory.replace(image_directory.split(sep='/'\n",
    "                    # )[-1],'') ,max_size=256, dest=destination)\n",
    "                    \n",
    "                    image_list.append((image_directory.split(sep='/'\n",
    "                    )[-1]))\n",
    "                    plant_list.append((plant_disease_folder.split(sep='___'\n",
    "                    )[0]))\n",
    "                    disease_list.append((plant_disease_folder.split(sep='___'\n",
    "                    )[1]))\n",
    "                else:\n",
    "                    print(image_directory)\n",
    "    print(\"[INFO] Image loading completed\")  \n",
    "except Exception as e:\n",
    "    print(f\"Error : {e}\")"
   ]
  },
  {
   "cell_type": "code",
   "execution_count": 16,
   "metadata": {},
   "outputs": [
    {
     "name": "stderr",
     "output_type": "stream",
     "text": [
      "C:\\Users\\nonom\\AppData\\Local\\Temp\\ipykernel_16452\\1873151623.py:4: UserWarning: Pandas doesn't allow columns to be created via a new attribute name - see https://pandas.pydata.org/pandas-docs/stable/indexing.html#attribute-access\n",
      "  df.columns=df.colums=['image','disease','plant']\n"
     ]
    },
    {
     "data": {
      "text/html": [
       "<div>\n",
       "<style scoped>\n",
       "    .dataframe tbody tr th:only-of-type {\n",
       "        vertical-align: middle;\n",
       "    }\n",
       "\n",
       "    .dataframe tbody tr th {\n",
       "        vertical-align: top;\n",
       "    }\n",
       "\n",
       "    .dataframe thead th {\n",
       "        text-align: right;\n",
       "    }\n",
       "</style>\n",
       "<table border=\"1\" class=\"dataframe\">\n",
       "  <thead>\n",
       "    <tr style=\"text-align: right;\">\n",
       "      <th></th>\n",
       "      <th>image</th>\n",
       "      <th>disease</th>\n",
       "      <th>plant</th>\n",
       "    </tr>\n",
       "  </thead>\n",
       "  <tbody>\n",
       "    <tr>\n",
       "      <th>0</th>\n",
       "      <td>00075aa8-d81a-4184-8541-b692b78d398a___FREC_Scab 3335.JPG</td>\n",
       "      <td>Apple_scab</td>\n",
       "      <td>Apple</td>\n",
       "    </tr>\n",
       "    <tr>\n",
       "      <th>1</th>\n",
       "      <td>01a66316-0e98-4d3b-a56f-d78752cd043f___FREC_Scab 3003.JPG</td>\n",
       "      <td>Apple_scab</td>\n",
       "      <td>Apple</td>\n",
       "    </tr>\n",
       "    <tr>\n",
       "      <th>2</th>\n",
       "      <td>01f3deaa-6143-4b6c-9c22-620a46d8be04___FREC_Scab 3112.JPG</td>\n",
       "      <td>Apple_scab</td>\n",
       "      <td>Apple</td>\n",
       "    </tr>\n",
       "    <tr>\n",
       "      <th>3</th>\n",
       "      <td>0208f4eb-45a4-4399-904e-989ac2c6257c___FREC_Scab 3037.JPG</td>\n",
       "      <td>Apple_scab</td>\n",
       "      <td>Apple</td>\n",
       "    </tr>\n",
       "    <tr>\n",
       "      <th>4</th>\n",
       "      <td>023123cb-7b69-4c9f-a521-766d7c8543bb___FREC_Scab 3487.JPG</td>\n",
       "      <td>Apple_scab</td>\n",
       "      <td>Apple</td>\n",
       "    </tr>\n",
       "    <tr>\n",
       "      <th>...</th>\n",
       "      <td>...</td>\n",
       "      <td>...</td>\n",
       "      <td>...</td>\n",
       "    </tr>\n",
       "    <tr>\n",
       "      <th>108604</th>\n",
       "      <td>ffb295c9-f14e-4a15-831a-bf905da7fcb6___UF.GRC_YLCV_Lab 09560_final_masked.jpg</td>\n",
       "      <td>Tomato_Yellow_Leaf_Curl_Virus</td>\n",
       "      <td>Tomato</td>\n",
       "    </tr>\n",
       "    <tr>\n",
       "      <th>108605</th>\n",
       "      <td>ffe08ccc-c55e-4ca2-9234-2906b98b8d05___YLCV_NREC 2879_final_masked.jpg</td>\n",
       "      <td>Tomato_Yellow_Leaf_Curl_Virus</td>\n",
       "      <td>Tomato</td>\n",
       "    </tr>\n",
       "    <tr>\n",
       "      <th>108606</th>\n",
       "      <td>ffe996e5-c8dc-47b7-bca2-4fc25e5ac57c___UF.GRC_YLCV_Lab 09602_final_masked.jpg</td>\n",
       "      <td>Tomato_Yellow_Leaf_Curl_Virus</td>\n",
       "      <td>Tomato</td>\n",
       "    </tr>\n",
       "    <tr>\n",
       "      <th>108607</th>\n",
       "      <td>fff42f1b-7ec4-46e3-9269-45932e63635e___YLCV_GCREC 2436_final_masked.jpg</td>\n",
       "      <td>Tomato_Yellow_Leaf_Curl_Virus</td>\n",
       "      <td>Tomato</td>\n",
       "    </tr>\n",
       "    <tr>\n",
       "      <th>108608</th>\n",
       "      <td>fff6bf83-797c-4de4-83f7-39b74786fec4___UF.GRC_YLCV_Lab 03179_final_masked.jpg</td>\n",
       "      <td>Tomato_Yellow_Leaf_Curl_Virus</td>\n",
       "      <td>Tomato</td>\n",
       "    </tr>\n",
       "  </tbody>\n",
       "</table>\n",
       "<p>108609 rows × 3 columns</p>\n",
       "</div>"
      ],
      "text/plain": [
       "                                                                                image  \\\n",
       "0                           00075aa8-d81a-4184-8541-b692b78d398a___FREC_Scab 3335.JPG   \n",
       "1                           01a66316-0e98-4d3b-a56f-d78752cd043f___FREC_Scab 3003.JPG   \n",
       "2                           01f3deaa-6143-4b6c-9c22-620a46d8be04___FREC_Scab 3112.JPG   \n",
       "3                           0208f4eb-45a4-4399-904e-989ac2c6257c___FREC_Scab 3037.JPG   \n",
       "4                           023123cb-7b69-4c9f-a521-766d7c8543bb___FREC_Scab 3487.JPG   \n",
       "...                                                                               ...   \n",
       "108604  ffb295c9-f14e-4a15-831a-bf905da7fcb6___UF.GRC_YLCV_Lab 09560_final_masked.jpg   \n",
       "108605         ffe08ccc-c55e-4ca2-9234-2906b98b8d05___YLCV_NREC 2879_final_masked.jpg   \n",
       "108606  ffe996e5-c8dc-47b7-bca2-4fc25e5ac57c___UF.GRC_YLCV_Lab 09602_final_masked.jpg   \n",
       "108607        fff42f1b-7ec4-46e3-9269-45932e63635e___YLCV_GCREC 2436_final_masked.jpg   \n",
       "108608  fff6bf83-797c-4de4-83f7-39b74786fec4___UF.GRC_YLCV_Lab 03179_final_masked.jpg   \n",
       "\n",
       "                              disease   plant  \n",
       "0                          Apple_scab   Apple  \n",
       "1                          Apple_scab   Apple  \n",
       "2                          Apple_scab   Apple  \n",
       "3                          Apple_scab   Apple  \n",
       "4                          Apple_scab   Apple  \n",
       "...                               ...     ...  \n",
       "108604  Tomato_Yellow_Leaf_Curl_Virus  Tomato  \n",
       "108605  Tomato_Yellow_Leaf_Curl_Virus  Tomato  \n",
       "108606  Tomato_Yellow_Leaf_Curl_Virus  Tomato  \n",
       "108607  Tomato_Yellow_Leaf_Curl_Virus  Tomato  \n",
       "108608  Tomato_Yellow_Leaf_Curl_Virus  Tomato  \n",
       "\n",
       "[108609 rows x 3 columns]"
      ]
     },
     "execution_count": 16,
     "metadata": {},
     "output_type": "execute_result"
    }
   ],
   "source": [
    "#Create dataframe\n",
    "import pandas as pd\n",
    "df=pd.DataFrame([image_list, disease_list,plant_list]).T\n",
    "df.columns=df.colums=['image','disease','plant']\n",
    "df"
   ]
  },
  {
   "cell_type": "code",
   "execution_count": 6,
   "metadata": {},
   "outputs": [],
   "source": [
    "#Check if an image have more diseases than 1\n",
    "dup=df.image.duplicated(keep=False)\n",
    "a=df[dup]\n",
    "b=a.sort_values('image').groupby('image')['disease'].apply(lambda x: list(np.unique(x)))\n",
    "for i in filter(lambda x: x if len(x)>1 else None,b):\n",
    "    print(i)\n",
    "#-> None\n"
   ]
  },
  {
   "cell_type": "code",
   "execution_count": 7,
   "metadata": {},
   "outputs": [
    {
     "data": {
      "text/plain": [
       "Series([], Name: disease, dtype: object)"
      ]
     },
     "execution_count": 7,
     "metadata": {},
     "output_type": "execute_result"
    }
   ],
   "source": [
    "b=a.sort_values('image').groupby('image')['disease'].apply(lambda x: list(np.unique(x)))\n",
    "b"
   ]
  },
  {
   "cell_type": "code",
   "execution_count": 8,
   "metadata": {},
   "outputs": [
    {
     "data": {
      "text/plain": [
       "0                             00075aa8-d81a-4184-8541-b692b78d398a___FREC_Scab 3335.JPG\n",
       "1                             01a66316-0e98-4d3b-a56f-d78752cd043f___FREC_Scab 3003.JPG\n",
       "2                             01f3deaa-6143-4b6c-9c22-620a46d8be04___FREC_Scab 3112.JPG\n",
       "3                             0208f4eb-45a4-4399-904e-989ac2c6257c___FREC_Scab 3037.JPG\n",
       "4                             023123cb-7b69-4c9f-a521-766d7c8543bb___FREC_Scab 3487.JPG\n",
       "                                              ...                                      \n",
       "108604    ffb295c9-f14e-4a15-831a-bf905da7fcb6___UF.GRC_YLCV_Lab 09560_final_masked.jpg\n",
       "108605           ffe08ccc-c55e-4ca2-9234-2906b98b8d05___YLCV_NREC 2879_final_masked.jpg\n",
       "108606    ffe996e5-c8dc-47b7-bca2-4fc25e5ac57c___UF.GRC_YLCV_Lab 09602_final_masked.jpg\n",
       "108607          fff42f1b-7ec4-46e3-9269-45932e63635e___YLCV_GCREC 2436_final_masked.jpg\n",
       "108608    fff6bf83-797c-4de4-83f7-39b74786fec4___UF.GRC_YLCV_Lab 03179_final_masked.jpg\n",
       "Name: image, Length: 108609, dtype: object"
      ]
     },
     "execution_count": 8,
     "metadata": {},
     "output_type": "execute_result"
    }
   ],
   "source": [
    "df.image.drop_duplicates().reset_index(drop=True)"
   ]
  },
  {
   "cell_type": "code",
   "execution_count": 9,
   "metadata": {},
   "outputs": [],
   "source": [
    "df.to_csv('plantVillage.csv')"
   ]
  },
  {
   "cell_type": "code",
   "execution_count": 10,
   "metadata": {},
   "outputs": [
    {
     "name": "stdout",
     "output_type": "stream",
     "text": [
      "Disease len:  21\n"
     ]
    },
    {
     "data": {
      "text/plain": [
       "healthy                                 30167\n",
       "Haunglongbing_(Citrus_greening)         11014\n",
       "Bacterial_spot                          10842\n",
       "Tomato_Yellow_Leaf_Curl_Virus           10714\n",
       "Late_blight                              5817\n",
       "Powdery_mildew                           5774\n",
       "Early_blight                             4000\n",
       "Black_rot                                3602\n",
       "Septoria_leaf_spot                       3542\n",
       "Spider_mites Two-spotted_spider_mite     3352\n",
       "Target_Spot                              2808\n",
       "Esca_(Black_Measles)                     2767\n",
       "Common_rust_                             2384\n",
       "Leaf_scorch                              2218\n",
       "Leaf_blight_(Isariopsis_Leaf_Spot)       2152\n",
       "Northern_Leaf_Blight                     1970\n",
       "Leaf_Mold                                1904\n",
       "Apple_scab                               1260\n",
       "Cercospora_leaf_spot Gray_leaf_spot      1026\n",
       "Tomato_mosaic_virus                       746\n",
       "Cedar_apple_rust                          550\n",
       "Name: disease, dtype: int64"
      ]
     },
     "execution_count": 10,
     "metadata": {},
     "output_type": "execute_result"
    }
   ],
   "source": [
    "print('Disease len: ', len(df.disease.value_counts()))\n",
    "df.disease.value_counts()\n"
   ]
  },
  {
   "cell_type": "code",
   "execution_count": 23,
   "metadata": {},
   "outputs": [],
   "source": [
    "import pandas as pd\n",
    "df=pd.read_csv('plantVillage.csv')"
   ]
  },
  {
   "cell_type": "code",
   "execution_count": 24,
   "metadata": {},
   "outputs": [
    {
     "data": {
      "text/html": [
       "<div>\n",
       "<style scoped>\n",
       "    .dataframe tbody tr th:only-of-type {\n",
       "        vertical-align: middle;\n",
       "    }\n",
       "\n",
       "    .dataframe tbody tr th {\n",
       "        vertical-align: top;\n",
       "    }\n",
       "\n",
       "    .dataframe thead th {\n",
       "        text-align: right;\n",
       "    }\n",
       "</style>\n",
       "<table border=\"1\" class=\"dataframe\">\n",
       "  <thead>\n",
       "    <tr style=\"text-align: right;\">\n",
       "      <th></th>\n",
       "      <th>Unnamed: 0</th>\n",
       "      <th>image</th>\n",
       "      <th>disease</th>\n",
       "      <th>plant</th>\n",
       "    </tr>\n",
       "  </thead>\n",
       "  <tbody>\n",
       "    <tr>\n",
       "      <th>0</th>\n",
       "      <td>0</td>\n",
       "      <td>00075aa8-d81a-4184-8541-b692b78d398a___FREC_Scab 3335.JPG</td>\n",
       "      <td>Apple_scab</td>\n",
       "      <td>Apple</td>\n",
       "    </tr>\n",
       "    <tr>\n",
       "      <th>1</th>\n",
       "      <td>1</td>\n",
       "      <td>01a66316-0e98-4d3b-a56f-d78752cd043f___FREC_Scab 3003.JPG</td>\n",
       "      <td>Apple_scab</td>\n",
       "      <td>Apple</td>\n",
       "    </tr>\n",
       "    <tr>\n",
       "      <th>2</th>\n",
       "      <td>2</td>\n",
       "      <td>01f3deaa-6143-4b6c-9c22-620a46d8be04___FREC_Scab 3112.JPG</td>\n",
       "      <td>Apple_scab</td>\n",
       "      <td>Apple</td>\n",
       "    </tr>\n",
       "    <tr>\n",
       "      <th>3</th>\n",
       "      <td>3</td>\n",
       "      <td>0208f4eb-45a4-4399-904e-989ac2c6257c___FREC_Scab 3037.JPG</td>\n",
       "      <td>Apple_scab</td>\n",
       "      <td>Apple</td>\n",
       "    </tr>\n",
       "    <tr>\n",
       "      <th>4</th>\n",
       "      <td>4</td>\n",
       "      <td>023123cb-7b69-4c9f-a521-766d7c8543bb___FREC_Scab 3487.JPG</td>\n",
       "      <td>Apple_scab</td>\n",
       "      <td>Apple</td>\n",
       "    </tr>\n",
       "    <tr>\n",
       "      <th>...</th>\n",
       "      <td>...</td>\n",
       "      <td>...</td>\n",
       "      <td>...</td>\n",
       "      <td>...</td>\n",
       "    </tr>\n",
       "    <tr>\n",
       "      <th>108604</th>\n",
       "      <td>108604</td>\n",
       "      <td>ffb295c9-f14e-4a15-831a-bf905da7fcb6___UF.GRC_YLCV_Lab 09560_final_masked.jpg</td>\n",
       "      <td>Tomato_Yellow_Leaf_Curl_Virus</td>\n",
       "      <td>Tomato</td>\n",
       "    </tr>\n",
       "    <tr>\n",
       "      <th>108605</th>\n",
       "      <td>108605</td>\n",
       "      <td>ffe08ccc-c55e-4ca2-9234-2906b98b8d05___YLCV_NREC 2879_final_masked.jpg</td>\n",
       "      <td>Tomato_Yellow_Leaf_Curl_Virus</td>\n",
       "      <td>Tomato</td>\n",
       "    </tr>\n",
       "    <tr>\n",
       "      <th>108606</th>\n",
       "      <td>108606</td>\n",
       "      <td>ffe996e5-c8dc-47b7-bca2-4fc25e5ac57c___UF.GRC_YLCV_Lab 09602_final_masked.jpg</td>\n",
       "      <td>Tomato_Yellow_Leaf_Curl_Virus</td>\n",
       "      <td>Tomato</td>\n",
       "    </tr>\n",
       "    <tr>\n",
       "      <th>108607</th>\n",
       "      <td>108607</td>\n",
       "      <td>fff42f1b-7ec4-46e3-9269-45932e63635e___YLCV_GCREC 2436_final_masked.jpg</td>\n",
       "      <td>Tomato_Yellow_Leaf_Curl_Virus</td>\n",
       "      <td>Tomato</td>\n",
       "    </tr>\n",
       "    <tr>\n",
       "      <th>108608</th>\n",
       "      <td>108608</td>\n",
       "      <td>fff6bf83-797c-4de4-83f7-39b74786fec4___UF.GRC_YLCV_Lab 03179_final_masked.jpg</td>\n",
       "      <td>Tomato_Yellow_Leaf_Curl_Virus</td>\n",
       "      <td>Tomato</td>\n",
       "    </tr>\n",
       "  </tbody>\n",
       "</table>\n",
       "<p>108609 rows × 4 columns</p>\n",
       "</div>"
      ],
      "text/plain": [
       "        Unnamed: 0  \\\n",
       "0                0   \n",
       "1                1   \n",
       "2                2   \n",
       "3                3   \n",
       "4                4   \n",
       "...            ...   \n",
       "108604      108604   \n",
       "108605      108605   \n",
       "108606      108606   \n",
       "108607      108607   \n",
       "108608      108608   \n",
       "\n",
       "                                                                                image  \\\n",
       "0                           00075aa8-d81a-4184-8541-b692b78d398a___FREC_Scab 3335.JPG   \n",
       "1                           01a66316-0e98-4d3b-a56f-d78752cd043f___FREC_Scab 3003.JPG   \n",
       "2                           01f3deaa-6143-4b6c-9c22-620a46d8be04___FREC_Scab 3112.JPG   \n",
       "3                           0208f4eb-45a4-4399-904e-989ac2c6257c___FREC_Scab 3037.JPG   \n",
       "4                           023123cb-7b69-4c9f-a521-766d7c8543bb___FREC_Scab 3487.JPG   \n",
       "...                                                                               ...   \n",
       "108604  ffb295c9-f14e-4a15-831a-bf905da7fcb6___UF.GRC_YLCV_Lab 09560_final_masked.jpg   \n",
       "108605         ffe08ccc-c55e-4ca2-9234-2906b98b8d05___YLCV_NREC 2879_final_masked.jpg   \n",
       "108606  ffe996e5-c8dc-47b7-bca2-4fc25e5ac57c___UF.GRC_YLCV_Lab 09602_final_masked.jpg   \n",
       "108607        fff42f1b-7ec4-46e3-9269-45932e63635e___YLCV_GCREC 2436_final_masked.jpg   \n",
       "108608  fff6bf83-797c-4de4-83f7-39b74786fec4___UF.GRC_YLCV_Lab 03179_final_masked.jpg   \n",
       "\n",
       "                              disease   plant  \n",
       "0                          Apple_scab   Apple  \n",
       "1                          Apple_scab   Apple  \n",
       "2                          Apple_scab   Apple  \n",
       "3                          Apple_scab   Apple  \n",
       "4                          Apple_scab   Apple  \n",
       "...                               ...     ...  \n",
       "108604  Tomato_Yellow_Leaf_Curl_Virus  Tomato  \n",
       "108605  Tomato_Yellow_Leaf_Curl_Virus  Tomato  \n",
       "108606  Tomato_Yellow_Leaf_Curl_Virus  Tomato  \n",
       "108607  Tomato_Yellow_Leaf_Curl_Virus  Tomato  \n",
       "108608  Tomato_Yellow_Leaf_Curl_Virus  Tomato  \n",
       "\n",
       "[108609 rows x 4 columns]"
      ]
     },
     "execution_count": 24,
     "metadata": {},
     "output_type": "execute_result"
    }
   ],
   "source": [
    "df"
   ]
  },
  {
   "cell_type": "code",
   "execution_count": 32,
   "metadata": {},
   "outputs": [
    {
     "data": {
      "text/plain": [
       "21"
      ]
     },
     "execution_count": 32,
     "metadata": {},
     "output_type": "execute_result"
    }
   ],
   "source": [
    "len(df.disease.unique())"
   ]
  },
  {
   "cell_type": "code",
   "execution_count": 30,
   "metadata": {},
   "outputs": [],
   "source": [
    "from sklearn.preprocessing import LabelEncoder\n",
    "label_binarizer: LabelEncoder = LabelEncoder()\n",
    "label_binarizer.fit(df.disease.unique())\n",
    "df.disease=label_binarizer.fit_transform((df.disease))"
   ]
  },
  {
   "cell_type": "code",
   "execution_count": 36,
   "metadata": {},
   "outputs": [],
   "source": [
    "from sklearn.preprocessing import LabelEncoder\n",
    "plant_binarizer: LabelEncoder = LabelEncoder()\n",
    "plant_binarizer.fit(df.plant.unique())\n",
    "df.plant=label_binarizer.fit_transform((df.plant))"
   ]
  },
  {
   "cell_type": "code",
   "execution_count": 38,
   "metadata": {},
   "outputs": [],
   "source": [
    "df.drop('Unnamed: 0',axis=1).to_csv('./plantVillage.csv')"
   ]
  },
  {
   "cell_type": "code",
   "execution_count": 20,
   "metadata": {},
   "outputs": [
    {
     "data": {
      "text/plain": [
       "0    107349\n",
       "1      1260\n",
       "Name: disease, dtype: int64"
      ]
     },
     "execution_count": 20,
     "metadata": {},
     "output_type": "execute_result"
    }
   ],
   "source": [
    "df.disease.value_counts()"
   ]
  },
  {
   "cell_type": "code",
   "execution_count": 21,
   "metadata": {},
   "outputs": [
    {
     "data": {
      "text/plain": [
       "array(['Apple_scab', 'Bacterial_spot', 'Black_rot', 'Cedar_apple_rust',\n",
       "       'Cercospora_leaf_spot Gray_leaf_spot', 'Common_rust_',\n",
       "       'Early_blight', 'Esca_(Black_Measles)',\n",
       "       'Haunglongbing_(Citrus_greening)', 'Late_blight', 'Leaf_Mold',\n",
       "       'Leaf_blight_(Isariopsis_Leaf_Spot)', 'Leaf_scorch',\n",
       "       'Northern_Leaf_Blight', 'Powdery_mildew', 'Septoria_leaf_spot',\n",
       "       'Spider_mites Two-spotted_spider_mite', 'Target_Spot',\n",
       "       'Tomato_Yellow_Leaf_Curl_Virus', 'Tomato_mosaic_virus', 'healthy'],\n",
       "      dtype='<U36')"
      ]
     },
     "execution_count": 21,
     "metadata": {},
     "output_type": "execute_result"
    }
   ],
   "source": [
    "label_binarizer.classes_"
   ]
  },
  {
   "cell_type": "code",
   "execution_count": 14,
   "metadata": {},
   "outputs": [
    {
     "name": "stdout",
     "output_type": "stream",
     "text": [
      "Plant list len:  14\n"
     ]
    },
    {
     "data": {
      "text/plain": [
       "Tomato                     36319\n",
       "Orange                     11014\n",
       "Soybean                    10180\n",
       "Grape                       8125\n",
       "Corn_(maize)                7704\n",
       "Apple                       6342\n",
       "Peach                       5314\n",
       "Pepper,_bell                4949\n",
       "Potato                      4304\n",
       "Cherry_(including_sour)     3812\n",
       "Squash                      3670\n",
       "Strawberry                  3130\n",
       "Blueberry                   3004\n",
       "Raspberry                    742\n",
       "Name: plant, dtype: int64"
      ]
     },
     "execution_count": 14,
     "metadata": {},
     "output_type": "execute_result"
    }
   ],
   "source": [
    "print('Plant list len: ',len(df.plant.value_counts()))\n",
    "df.plant.value_counts()"
   ]
  },
  {
   "cell_type": "code",
   "execution_count": 15,
   "metadata": {},
   "outputs": [],
   "source": [
    "\n",
    "def resize_data(size):\n",
    "    path = Path('../input/plant-pathology-2021-fgvc8')\n",
    "    for sz in [256, 384, 512, 640]:\n",
    "        resize_images(path/'train_images', max_size=sz, dest=f'img_sz_{sz}')\n",
    "        print(f'{sz} - Done!')"
   ]
  }
 ],
 "metadata": {
  "kernelspec": {
   "display_name": "pytorchGPUI",
   "language": "python",
   "name": "python3"
  },
  "language_info": {
   "codemirror_mode": {
    "name": "ipython",
    "version": 3
   },
   "file_extension": ".py",
   "mimetype": "text/x-python",
   "name": "python",
   "nbconvert_exporter": "python",
   "pygments_lexer": "ipython3",
   "version": "3.8.13"
  },
  "orig_nbformat": 4,
  "vscode": {
   "interpreter": {
    "hash": "a8b858f47e475f096c0bf0df9132e4b2b12ebb02cb87303e1af43904bc641e7e"
   }
  }
 },
 "nbformat": 4,
 "nbformat_minor": 2
}
